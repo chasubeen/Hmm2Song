{
  "cells": [
    {
      "cell_type": "markdown",
      "metadata": {
        "id": "6eSk6_slmEXY"
      },
      "source": [
        "# settings"
      ]
    },
    {
      "cell_type": "code",
      "execution_count": null,
      "metadata": {
        "id": "CFVjBb289KuT"
      },
      "outputs": [],
      "source": [
        "import os\n",
        "import librosa\n",
        "import numpy as np\n",
        "import soundfile as sf\n",
        "from tqdm import tqdm\n",
        "import pandas as pd\n",
        "from datetime import datetime\n",
        "import torch"
      ]
    },
    {
      "cell_type": "code",
      "execution_count": null,
      "metadata": {
        "colab": {
          "base_uri": "https://localhost:8080/"
        },
        "id": "m9N-yXlNxonk",
        "outputId": "7e87cfa0-7ec8-46cf-cafc-138d65d33639"
      },
      "outputs": [
        {
          "output_type": "stream",
          "name": "stdout",
          "text": [
            "Mounted at /content/drive\n"
          ]
        }
      ],
      "source": [
        "from google.colab import drive\n",
        "drive.mount('/content/drive')"
      ]
    },
    {
      "cell_type": "code",
      "source": [
        "### GPU 사용 여부 체크\n",
        "device = torch.device(\"cuda\" if torch.cuda.is_available() else \"cpu\")\n",
        "print(f\"Using {device} for training.\")"
      ],
      "metadata": {
        "colab": {
          "base_uri": "https://localhost:8080/"
        },
        "id": "ysPi3FM6Ej6y",
        "outputId": "b7fc8652-78c6-4fa2-f7ed-17edb7414318"
      },
      "execution_count": null,
      "outputs": [
        {
          "output_type": "stream",
          "name": "stdout",
          "text": [
            "Using cuda for training.\n"
          ]
        }
      ]
    },
    {
      "cell_type": "markdown",
      "metadata": {
        "id": "-tpAPi4ZI-2X"
      },
      "source": [
        "# load and map data"
      ]
    },
    {
      "cell_type": "code",
      "execution_count": null,
      "metadata": {
        "id": "B9Qv5fyjznTV"
      },
      "outputs": [],
      "source": [
        "org_path = '/content/drive/MyDrive/Hmm2Song/data/song/org.npy'\n",
        "fh_path = '/content/drive/MyDrive/Hmm2Song/data/song/fh.npy'\n",
        "fl_path = '/content/drive/MyDrive/Hmm2Song/data/song/fl.npy'\n",
        "mh_path = '/content/drive/MyDrive/Hmm2Song/data/song/mh.npy'\n",
        "ml_path = '/content/drive/MyDrive/Hmm2Song/data/song/ml.npy'\n",
        "n_path = '/content/drive/MyDrive/Hmm2Song/data/song/n.npy'"
      ]
    },
    {
      "cell_type": "code",
      "execution_count": null,
      "metadata": {
        "id": "ER9YTcEUY0aa"
      },
      "outputs": [],
      "source": [
        "org = np.load(org_path, allow_pickle=True)\n",
        "fh = np.load(fh_path, allow_pickle=True)\n",
        "fl = np.load(fl_path, allow_pickle=True)\n",
        "mh = np.load(mh_path, allow_pickle=True)\n",
        "ml = np.load(ml_path, allow_pickle=True)\n",
        "n = np.load(n_path, allow_pickle=True)\n",
        "# 5개 불러오는데 약 5분 40초정도 걸렸으니 n까지 만들면 모두 7분 정도에 불러올 수 있을 것 같습니다!"
      ]
    },
    {
      "cell_type": "code",
      "execution_count": null,
      "metadata": {
        "id": "hJ-uAltFZVfQ"
      },
      "outputs": [],
      "source": [
        "org_fh = list(zip(org, fh))\n",
        "org_fl = list(zip(org, fl))\n",
        "org_mh = list(zip(org, mh))\n",
        "org_ml = list(zip(org, ml))\n",
        "org_n = list(zip(org, n))\n",
        "\n",
        "file_map = org_fh + org_fl + org_mh + org_ml + org_n"
      ]
    },
    {
      "cell_type": "code",
      "execution_count": null,
      "metadata": {
        "colab": {
          "base_uri": "https://localhost:8080/"
        },
        "id": "Q9-cE79OanwT",
        "outputId": "9b3908fc-f71c-49a9-a2ac-84927b75cda7"
      },
      "outputs": [
        {
          "data": {
            "text/plain": [
              "(128, 431)"
            ]
          },
          "execution_count": 16,
          "metadata": {},
          "output_type": "execute_result"
        }
      ],
      "source": [
        "file_map[0][0].shape"
      ]
    },
    {
      "cell_type": "code",
      "execution_count": null,
      "metadata": {
        "colab": {
          "base_uri": "https://localhost:8080/"
        },
        "id": "MEKklA_ppYNH",
        "outputId": "985e564b-f420-4cfb-8d17-45b864f145d0"
      },
      "outputs": [
        {
          "data": {
            "text/plain": [
              "90920"
            ]
          },
          "execution_count": 13,
          "metadata": {},
          "output_type": "execute_result"
        }
      ],
      "source": [
        "len(file_map)"
      ]
    },
    {
      "cell_type": "markdown",
      "metadata": {
        "id": "csXwQpI_XN6a"
      },
      "source": [
        "# dataset"
      ]
    },
    {
      "cell_type": "code",
      "execution_count": null,
      "metadata": {
        "id": "I3p52ZNNkk_9"
      },
      "outputs": [],
      "source": [
        "from torch.utils.data import Dataset, DataLoader\n",
        "import numpy as np\n",
        "import torch\n",
        "\n",
        "class MusicTripletDataset(Dataset):\n",
        "    def __init__(self, music_files, npy=False):\n",
        "        \"\"\"\n",
        "        Args:\n",
        "            music_files (list): List of tuples containing paths or identifiers for (original, noised) music pairs.\n",
        "            transform (callable, optional): Optional transform to be applied on a sample.\n",
        "        \"\"\"\n",
        "        self.music_files = music_files\n",
        "        self.npy = npy\n",
        "\n",
        "    def __len__(self):\n",
        "        return len(self.music_files)\n",
        "\n",
        "    def __getitem__(self, idx):\n",
        "        positive_file, anchor_file = self.music_files[idx]\n",
        "\n",
        "        # Load the anchor (original music) and positive (noised version) files\n",
        "        anchor = self.load_spectrogram(anchor_file)\n",
        "        positive = self.load_spectrogram(positive_file)\n",
        "\n",
        "        # Choose a negative example. Make sure it's not the same as the anchor.\n",
        "        negative_idx = np.random.choice([i for i in range(len(self.music_files)) if i != idx])\n",
        "        negative_file = self.music_files[negative_idx][0]  # Choosing the original as a negative example\n",
        "        negative = self.load_spectrogram(negative_file)\n",
        "\n",
        "        return anchor, positive, negative\n",
        "\n",
        "    def load_spectrogram(self, spectrogram):\n",
        "        if not isinstance(spectrogram, torch.Tensor):\n",
        "            spectrogram = torch.tensor(spectrogram)\n",
        "        if spectrogram.shape != (128, 431): # 길이가 짧게 잘린 음원에 패딩을 0으로 넣어 모양을 맞춰줍니다\n",
        "            pad = (0, 431 - spectrogram.shape[1])\n",
        "            spectrogram = F.pad(spectrogram, pad, \"constant\", 0)\n",
        "        return spectrogram"
      ]
    },
    {
      "cell_type": "code",
      "execution_count": null,
      "metadata": {
        "id": "TTg3ZdP_kvtB"
      },
      "outputs": [],
      "source": [
        "# Assume you have a list of tuples containing your (original, noised) music file paths or identifiers\n",
        "music_files = file_map\n",
        "\n",
        "# Instantiate your custom dataset\n",
        "dataset = MusicTripletDataset(music_files, npy=True) # npy=True는 저장된 npy를 불러온다는 뜻\n",
        "\n",
        "# Create a DataLoader\n",
        "batch_size = 64  # You can adjust the batch size\n",
        "dataloader = DataLoader(dataset, batch_size=batch_size, shuffle=True)\n"
      ]
    },
    {
      "cell_type": "markdown",
      "metadata": {
        "id": "fPpdYqjLYAM0"
      },
      "source": [
        "# modeling"
      ]
    },
    {
      "cell_type": "code",
      "source": [
        "import torch\n",
        "import torch.nn as nn\n",
        "import torch.nn.functional as F\n",
        "\n",
        "class ConvSubnet(nn.Module):\n",
        "    def __init__(self, embedding_dims=128):\n",
        "        super(ConvSubnet, self).__init__()\n",
        "        self.conv1 = nn.Conv2d(1, 64, kernel_size=3, padding=1)\n",
        "        self.pool = nn.MaxPool2d(kernel_size=2, stride=2)\n",
        "        self.conv2 = nn.Conv2d(64, 128, kernel_size=3, padding=1)\n",
        "        self.conv3 = nn.Conv2d(128, 256, kernel_size=3, padding=1)\n",
        "        # Adjust the size accordingly\n",
        "        self.fc = nn.Linear(848, embedding_dims)\n",
        "\n",
        "    def forward(self, x):\n",
        "        # print(x.shape)\n",
        "        x = self.pool(F.relu(self.conv1(x)))\n",
        "        x = self.pool(F.relu(self.conv2(x)))\n",
        "        x = self.pool(F.relu(self.conv3(x)))\n",
        "        x = x.view(x.size(0), -1)  # Flatten\n",
        "\n",
        "        x = self.fc(x)\n",
        "        return x\n",
        "\n",
        "class TripletNetwork(nn.Module):\n",
        "    def __init__(self):\n",
        "        super(TripletNetwork, self).__init__()\n",
        "        self.subnetwork = ConvSubnet()\n",
        "\n",
        "    def forward(self, anchor, positive, negative):\n",
        "        # print(anchor.shape)\n",
        "        anchor, positive, negative = anchor.unsqueeze(0)[:, 0, :, :], positive.unsqueeze(0)[:, 0, :, :], negative.unsqueeze(0)[:, 0, :, :]\n",
        "        # print(anchor.shape)\n",
        "        # Process each of the inputs through the same network\n",
        "        embedded_anchor = self.subnetwork(anchor)\n",
        "        embedded_positive = self.subnetwork(positive)\n",
        "        embedded_negative = self.subnetwork(negative)\n",
        "        return embedded_anchor, embedded_positive, embedded_negative"
      ],
      "metadata": {
        "id": "FpgCFSSjczPz"
      },
      "execution_count": null,
      "outputs": []
    },
    {
      "cell_type": "code",
      "execution_count": null,
      "metadata": {
        "id": "0EGGZLUC5CCt"
      },
      "outputs": [],
      "source": [
        "# Initialize the TripletMarginLoss\n",
        "margin = 1.0  # You can adjust this margin\n",
        "triplet_loss = nn.TripletMarginLoss(margin=margin, p=2)\n",
        "\n",
        "# Example usage in a training loop\n",
        "model = TripletNetwork().to(device)\n",
        "optimizer = torch.optim.Adam(model.parameters(), lr=0.001)\n",
        "num_epochs = 5\n",
        "checkpoint = 1\n",
        "now = datetime.now().strftime('%Y%m%d_%H%M%S')\n",
        "model_dir = f'/content/drive/MyDrive/Hmm2Song/model/{now}/'\n",
        "log_steps = 50\n",
        "os.mkdir(model_dir)\n",
        "\n",
        "step = 0\n",
        "for epoch in range(num_epochs):\n",
        "    for anchor, positive, negative in dataloader:\n",
        "        step += 1\n",
        "        optimizer.zero_grad()\n",
        "        embedded_anchor, embedded_positive, embedded_negative = model(anchor, positive, negative)\n",
        "        loss = triplet_loss(embedded_anchor, embedded_positive, embedded_negative)\n",
        "        loss.backward()\n",
        "        optimizer.step()\n",
        "        if step % log_steps == 0:\n",
        "            print(f'Epoch {epoch+1}, Step {step}, Loss: {loss.item()}')\n",
        "        if epoch % checkpoint == 0:\n",
        "            torch.save(model.state_dict(), model_dir + f'model_weights_{epoch+1}.pth')\n",
        "\n",
        "    print(f'Epoch {epoch+1}, Loss: {loss.item()}')\n"
      ]
    },
    {
      "cell_type": "markdown",
      "source": [
        "# inference"
      ],
      "metadata": {
        "id": "pJGt9N8cDsD1"
      }
    },
    {
      "cell_type": "code",
      "source": [
        "model = TripletNetwork().to(device)\n",
        "model.load_state_dict(torch.load('/content/drive/MyDrive/Hmm2Song/model/20240213_134845/model_weights_5.pth'))"
      ],
      "metadata": {
        "colab": {
          "base_uri": "https://localhost:8080/"
        },
        "id": "8FxMEKs2DrxO",
        "outputId": "d3af3fe0-619c-447f-9ff3-f89fe097e163"
      },
      "execution_count": null,
      "outputs": [
        {
          "output_type": "execute_result",
          "data": {
            "text/plain": [
              "<All keys matched successfully>"
            ]
          },
          "metadata": {},
          "execution_count": 11
        }
      ]
    },
    {
      "cell_type": "code",
      "source": [
        "model.eval()\n",
        "\n",
        "tensor = []\n",
        "for spectrogram in tqdm(org):\n",
        "    if not isinstance(spectrogram, torch.Tensor):\n",
        "        spectrogram = torch.tensor(spectrogram)\n",
        "    if spectrogram.shape != (128, 431): # 길이가 짧게 잘린 음원에 패딩을 0으로 넣어 모양을 맞춰줍니다\n",
        "        pad = (0, 431 - spectrogram.shape[1])\n",
        "        spectrogram = F.pad(spectrogram, pad, \"constant\", 0)\n",
        "    with torch.no_grad():  # No need to track gradients during inference\n",
        "        tensor.append(model.subnetwork(spectrogram.unsqueeze(0).to(device)))"
      ],
      "metadata": {
        "colab": {
          "base_uri": "https://localhost:8080/"
        },
        "id": "by5kJuHTGYKu",
        "outputId": "8900928d-aea8-46a3-9492-8e23a2b85789"
      },
      "execution_count": null,
      "outputs": [
        {
          "output_type": "stream",
          "name": "stderr",
          "text": [
            "100%|██████████| 22730/22730 [00:34<00:00, 653.46it/s]\n"
          ]
        }
      ]
    },
    {
      "cell_type": "code",
      "execution_count": null,
      "metadata": {
        "colab": {
          "base_uri": "https://localhost:8080/"
        },
        "id": "TBok0P-HKsbN",
        "outputId": "250a08ba-bf3e-4624-c987-494269f339de"
      },
      "outputs": [
        {
          "name": "stdout",
          "output_type": "stream",
          "text": [
            "(128, 431)\n"
          ]
        }
      ],
      "source": [
        "model.eval()  # Set the model to evaluation mode\n",
        "\n",
        "def create_melspec(filename):\n",
        "    x, sr = librosa.load(filename)\n",
        "    melspec = librosa.feature.melspectrogram(y=x, sr=sr)\n",
        "    log_melspec = librosa.power_to_db(melspec)\n",
        "    return log_melspec\n",
        "\n",
        "noise_mel = []\n",
        "origin_mel = []\n",
        "for file in file_map:\n",
        "  noise_mel.append(create_melspec(file[1]))\n",
        "  origin_mel.append(create_melspec(file[0]))\n",
        "\n",
        "mel_zip = list(zip(origin_mel, noise_mel))\n",
        "\n",
        "print(np.array(np.array(mel_zip[0][0])).shape)\n",
        "\n",
        "noised_tensor = []\n",
        "origin_tensor = []\n",
        "for file in mel_zip:\n",
        "    noised_tensor.append(torch.tensor(file[1].reshape(1, 128, 431), dtype=torch.float))\n",
        "    origin_tensor.append(torch.tensor(file[0].reshape(1, 128, 431), dtype=torch.float))\n",
        "\n",
        "embedded_noised = []\n",
        "original_embeddings = []\n",
        "for i in range(len(noised_tensor)):\n",
        "    # print(ntensor.shape)\n",
        "    with torch.no_grad():  # No need to track gradients during inference\n",
        "        embedded_noised.append(model.subnetwork(noised_tensor[i]))\n",
        "        original_embeddings.append(model.subnetwork(origin_tensor[i]))"
      ]
    },
    {
      "cell_type": "code",
      "execution_count": null,
      "metadata": {
        "id": "FKzGSaGzN9Uc"
      },
      "outputs": [],
      "source": [
        "original_ids = np.array([14, 13, 8, 10, 6, 12, 11, 7, 2, 5, 9, 1, 4, 0, 3])"
      ]
    },
    {
      "cell_type": "code",
      "execution_count": null,
      "metadata": {
        "colab": {
          "base_uri": "https://localhost:8080/"
        },
        "id": "u198S9OZWlzr",
        "outputId": "17f29d98-45fa-4d55-b4aa-aaa06dc1b477"
      },
      "outputs": [
        {
          "data": {
            "text/plain": [
              "torch.Size([256, 128])"
            ]
          },
          "execution_count": 49,
          "metadata": {},
          "output_type": "execute_result"
        }
      ],
      "source": [
        "original_embeddings[0].shape"
      ]
    },
    {
      "cell_type": "code",
      "execution_count": null,
      "metadata": {
        "colab": {
          "base_uri": "https://localhost:8080/"
        },
        "id": "tOyN1MQRWsnq",
        "outputId": "48a1f79e-3c94-43e0-8938-a3bda332959c"
      },
      "outputs": [
        {
          "data": {
            "text/plain": [
              "torch.Size([256, 128])"
            ]
          },
          "execution_count": 46,
          "metadata": {},
          "output_type": "execute_result"
        }
      ],
      "source": [
        "embedded_noised[0].shape"
      ]
    },
    {
      "cell_type": "code",
      "execution_count": null,
      "metadata": {
        "colab": {
          "base_uri": "https://localhost:8080/"
        },
        "id": "uKHRaZjSX-Ep",
        "outputId": "1bf4ef79-9723-4de3-941e-d1be4f175429"
      },
      "outputs": [
        {
          "data": {
            "text/plain": [
              "tensor(161.0320)"
            ]
          },
          "execution_count": 55,
          "metadata": {},
          "output_type": "execute_result"
        }
      ],
      "source": [
        "torch.norm(original_embeddings[0] - embedded_noised[0])"
      ]
    },
    {
      "cell_type": "code",
      "execution_count": null,
      "metadata": {
        "colab": {
          "base_uri": "https://localhost:8080/"
        },
        "id": "yLPdgFvEfQce",
        "outputId": "6e19b7cf-8754-4f29-f7c9-a29d032dccc6"
      },
      "outputs": [
        {
          "name": "stdout",
          "output_type": "stream",
          "text": [
            "The closest original music piece to the noised input is: 7\n"
          ]
        }
      ],
      "source": [
        "# Assuming 'original_embeddings' is a tensor containing embeddings of original music pieces\n",
        "# and 'original_ids' is a list containing identifiers for each original music piece\n",
        "distances = [torch.norm(original_embeddings[i] - embedded_noised[7]) for i in range(len(original_embeddings))]  # Calculate distances to all originals\n",
        "closest_match_idx = torch.argmin(torch.tensor(distances))  # Find the index of the closest original music piece\n",
        "closest_match_id = original_ids[closest_match_idx]  # Retrieve the identifier of the closest match\n",
        "\n",
        "print(f'The closest original music piece to the noised input is: {closest_match_id}')"
      ]
    },
    {
      "cell_type": "code",
      "execution_count": null,
      "metadata": {
        "colab": {
          "base_uri": "https://localhost:8080/"
        },
        "id": "8LslX5ihWeym",
        "outputId": "6639543e-0bc7-4210-c233-0756b902456f"
      },
      "outputs": [
        {
          "data": {
            "text/plain": [
              "[tensor(236.1041),\n",
              " tensor(232.8732),\n",
              " tensor(299.4578),\n",
              " tensor(263.0068),\n",
              " tensor(239.7916),\n",
              " tensor(245.4198),\n",
              " tensor(237.6523),\n",
              " tensor(154.4806),\n",
              " tensor(256.7777),\n",
              " tensor(252.1364),\n",
              " tensor(268.6747),\n",
              " tensor(234.1603),\n",
              " tensor(243.7114),\n",
              " tensor(239.4623),\n",
              " tensor(416.5758)]"
            ]
          },
          "execution_count": 60,
          "metadata": {},
          "output_type": "execute_result"
        }
      ],
      "source": [
        "distances"
      ]
    },
    {
      "cell_type": "code",
      "execution_count": null,
      "metadata": {
        "id": "6eRXZgTxYpMN"
      },
      "outputs": [],
      "source": []
    }
  ],
  "metadata": {
    "colab": {
      "collapsed_sections": [
        "xsbd72x3mOgv",
        "6eSk6_slmEXY",
        "csXwQpI_XN6a",
        "fPpdYqjLYAM0"
      ],
      "machine_shape": "hm",
      "provenance": [],
      "gpuType": "T4"
    },
    "kernelspec": {
      "display_name": "Python 3",
      "name": "python3"
    },
    "language_info": {
      "name": "python"
    },
    "accelerator": "GPU"
  },
  "nbformat": 4,
  "nbformat_minor": 0
}
