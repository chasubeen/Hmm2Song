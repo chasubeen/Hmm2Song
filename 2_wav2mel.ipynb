{
  "cells": [
    {
      "cell_type": "markdown",
      "metadata": {
        "id": "6eSk6_slmEXY"
      },
      "source": [
        "# settings"
      ]
    },
    {
      "cell_type": "code",
      "execution_count": null,
      "metadata": {
        "id": "CFVjBb289KuT"
      },
      "outputs": [],
      "source": [
        "import os\n",
        "import librosa\n",
        "import numpy as np\n",
        "import soundfile as sf\n",
        "from tqdm import tqdm\n",
        "import pandas as pd\n",
        "from datetime import datetime\n",
        "import torch"
      ]
    },
    {
      "cell_type": "code",
      "execution_count": null,
      "metadata": {
        "colab": {
          "base_uri": "https://localhost:8080/"
        },
        "id": "m9N-yXlNxonk",
        "outputId": "7e87cfa0-7ec8-46cf-cafc-138d65d33639"
      },
      "outputs": [
        {
          "output_type": "stream",
          "name": "stdout",
          "text": [
            "Mounted at /content/drive\n"
          ]
        }
      ],
      "source": [
        "from google.colab import drive\n",
        "drive.mount('/content/drive')"
      ]
    },
    {
      "cell_type": "markdown",
      "metadata": {
        "id": "xsbd72x3mOgv"
      },
      "source": [
        "# mp3 파일을 불러와 npy로 만든 후 저장"
      ]
    },
    {
      "cell_type": "code",
      "execution_count": null,
      "metadata": {
        "id": "eNZHPkS1UR2x"
      },
      "outputs": [],
      "source": [
        "import re\n",
        "\n",
        "def rename_files_in_directory(directory):\n",
        "    # 디렉터리 내의 모든 파일에 대해 반복\n",
        "    for filename in tqdm(os.listdir(directory)):\n",
        "        # 파일 이름이 '000_1.mp3', '000_2.mp3' 등의 패턴과 일치하는지 확인\n",
        "        new_name = re.sub(r'(_)(\\d)(\\_)', r'\\g<1>0\\2\\3', filename)\n",
        "        # 파일 이름이 변경되었는지 확인\n",
        "        if new_name != filename:\n",
        "            # 원래 파일 이름을 새 파일 이름으로 변경\n",
        "            os.rename(os.path.join(directory, filename), os.path.join(directory, new_name))\n",
        "            print(f'Renamed \"{filename}\" to \"{new_name}\"')\n",
        "\n",
        "# 디렉터리 경로 설정 (이 경로를 실제 파일이 위치한 디렉터리 경로로 변경해야 함)\n",
        "rename_files_in_directory(hum_path)"
      ]
    },
    {
      "cell_type": "code",
      "execution_count": null,
      "metadata": {
        "id": "ryOx43YGSseH"
      },
      "outputs": [],
      "source": [
        "def create_melspec(filename):\n",
        "    x, sr = librosa.load(filename)\n",
        "    melspec = librosa.feature.melspectrogram(y=x, sr=sr)\n",
        "    log_melspec = librosa.power_to_db(melspec)\n",
        "    return log_melspec"
      ]
    },
    {
      "cell_type": "code",
      "execution_count": null,
      "metadata": {
        "id": "PVZfjDd0Ut9f"
      },
      "outputs": [],
      "source": [
        "patha = '/content/drive/MyDrive/Hmm2Song/data/song/npy_input/'\n",
        "pathb = '/content/drive/MyDrive/Hmm2Song/data/song/Split_input/'"
      ]
    },
    {
      "cell_type": "code",
      "execution_count": null,
      "metadata": {
        "colab": {
          "base_uri": "https://localhost:8080/"
        },
        "id": "TAf3RGq3uZoI",
        "outputId": "9c2f0a4d-d222-405d-a56c-a19812bf62e5"
      },
      "outputs": [
        {
          "name": "stdout",
          "output_type": "stream",
          "text": [
            "21958 22730\n"
          ]
        }
      ],
      "source": [
        "a = os.listdir(patha)\n",
        "b = os.listdir(pathb)\n",
        "print(len(a), len(b))"
      ]
    },
    {
      "cell_type": "code",
      "execution_count": null,
      "metadata": {
        "id": "NJ5yTU4Buc1y"
      },
      "outputs": [],
      "source": [
        "# prompt: a 와 b를 비교해서 b에만 잇는 변수 리스트\n",
        "\n",
        "c = [x for x in b if x.replace('mp3', 'npy') not in a]\n",
        "c\n"
      ]
    },
    {
      "cell_type": "code",
      "execution_count": null,
      "metadata": {
        "colab": {
          "base_uri": "https://localhost:8080/"
        },
        "id": "CJYlDEUrvEY1",
        "outputId": "30ebac7e-5abb-4884-f4f6-b5eb7a3297f8"
      },
      "outputs": [
        {
          "data": {
            "text/plain": [
              "772"
            ]
          },
          "execution_count": 86,
          "metadata": {},
          "output_type": "execute_result"
        }
      ],
      "source": [
        "len(c)"
      ]
    },
    {
      "cell_type": "code",
      "execution_count": null,
      "metadata": {
        "colab": {
          "base_uri": "https://localhost:8080/"
        },
        "id": "UsoxxMxfu2i_",
        "outputId": "163b24e2-c3eb-4d24-b3d0-220b4ba9e8de"
      },
      "outputs": [
        {
          "name": "stderr",
          "output_type": "stream",
          "text": [
            " 82%|████████▏ | 633/772 [03:14<00:48,  2.86it/s]/usr/local/lib/python3.10/dist-packages/librosa/core/spectrum.py:257: UserWarning: n_fft=2048 is too large for input signal of length=1176\n",
            "  warnings.warn(\n",
            "100%|██████████| 772/772 [03:56<00:00,  3.26it/s]\n"
          ]
        }
      ],
      "source": [
        "for f in tqdm(c):\n",
        "  mel = create_melspec(pathb+f)\n",
        "  np.save(patha+f.replace('mp3', 'npy'), mel)"
      ]
    },
    {
      "cell_type": "code",
      "execution_count": null,
      "metadata": {
        "colab": {
          "base_uri": "https://localhost:8080/"
        },
        "id": "t_ixU47gX3EW",
        "outputId": "2c840afc-c205-4341-f50d-afbf599ce016"
      },
      "outputs": [
        {
          "name": "stderr",
          "output_type": "stream",
          "text": [
            "  5%|▍         | 5490/113650 [39:08<13:24:58,  2.24it/s]/usr/local/lib/python3.10/dist-packages/librosa/core/spectrum.py:257: UserWarning: n_fft=2048 is too large for input signal of length=1455\n",
            "  warnings.warn(\n",
            " 15%|█▍        | 16825/113650 [1:42:49<8:43:08,  3.08it/s]/usr/local/lib/python3.10/dist-packages/librosa/core/spectrum.py:257: UserWarning: n_fft=2048 is too large for input signal of length=1752\n",
            "  warnings.warn(\n",
            " 20%|██        | 23250/113650 [2:17:27<8:16:46,  3.03it/s]/usr/local/lib/python3.10/dist-packages/librosa/core/spectrum.py:257: UserWarning: n_fft=2048 is too large for input signal of length=287\n",
            "  warnings.warn(\n",
            " 21%|██        | 23825/113650 [2:20:30<6:43:46,  3.71it/s]/usr/local/lib/python3.10/dist-packages/librosa/core/spectrum.py:257: UserWarning: n_fft=2048 is too large for input signal of length=1698\n",
            "  warnings.warn(\n",
            " 34%|███▎      | 38325/113650 [3:38:36<6:12:59,  3.37it/s]/usr/local/lib/python3.10/dist-packages/librosa/core/spectrum.py:257: UserWarning: n_fft=2048 is too large for input signal of length=600\n",
            "  warnings.warn(\n",
            " 37%|███▋      | 42480/113650 [3:59:50<5:08:50,  3.84it/s]/usr/local/lib/python3.10/dist-packages/librosa/core/spectrum.py:257: UserWarning: n_fft=2048 is too large for input signal of length=816\n",
            "  warnings.warn(\n",
            " 47%|████▋     | 53970/113650 [4:58:22<5:02:24,  3.29it/s]/usr/local/lib/python3.10/dist-packages/librosa/core/spectrum.py:257: UserWarning: n_fft=2048 is too large for input signal of length=1147\n",
            "  warnings.warn(\n",
            " 51%|█████     | 57765/113650 [5:17:53<4:16:48,  3.63it/s]/usr/local/lib/python3.10/dist-packages/librosa/core/spectrum.py:257: UserWarning: n_fft=2048 is too large for input signal of length=1176\n",
            "  warnings.warn(\n",
            " 52%|█████▏    | 59450/113650 [5:26:37<5:11:42,  2.90it/s]/usr/local/lib/python3.10/dist-packages/librosa/core/spectrum.py:257: UserWarning: n_fft=2048 is too large for input signal of length=1720\n",
            "  warnings.warn(\n",
            " 59%|█████▉    | 67435/113650 [6:08:33<4:58:04,  2.58it/s]/usr/local/lib/python3.10/dist-packages/librosa/core/spectrum.py:257: UserWarning: n_fft=2048 is too large for input signal of length=1323\n",
            "  warnings.warn(\n",
            " 61%|██████    | 69435/113650 [6:19:07<3:29:09,  3.52it/s]/usr/local/lib/python3.10/dist-packages/librosa/core/spectrum.py:257: UserWarning: n_fft=2048 is too large for input signal of length=1433\n",
            "  warnings.warn(\n",
            " 77%|███████▋  | 87415/113650 [7:53:09<2:25:41,  3.00it/s]/usr/local/lib/python3.10/dist-packages/librosa/core/spectrum.py:257: UserWarning: n_fft=2048 is too large for input signal of length=463\n",
            "  warnings.warn(\n",
            "100%|██████████| 113650/113650 [10:11:00<00:00,  3.10it/s]\n"
          ]
        }
      ],
      "source": [
        "for file in tqdm(hum_list):\n",
        "    mel = create_melspec(hum_path+file)\n",
        "    new_name = file.replace('mp3', 'npy')\n",
        "    np.save(path+new_name, mel)"
      ]
    },
    {
      "cell_type": "markdown",
      "source": [
        "# 개별저장된 npy 파일을 하나로 통합"
      ],
      "metadata": {
        "id": "cGDj0mhndrfu"
      }
    },
    {
      "cell_type": "code",
      "source": [
        "org_path = '/content/drive/MyDrive/Hmm2Song/data/song/npy_input/'\n",
        "hum_path = '/content/drive/MyDrive/Hmm2Song/data/song/npy_hum/'\n",
        "info_path = '/content/drive/MyDrive/Hmm2Song/data/'"
      ],
      "metadata": {
        "id": "B9Qv5fyjznTV"
      },
      "execution_count": null,
      "outputs": []
    },
    {
      "cell_type": "code",
      "source": [
        "df = pd.read_csv(info_path+\"file_list.csv\")\n",
        "df.head()"
      ],
      "metadata": {
        "colab": {
          "base_uri": "https://localhost:8080/",
          "height": 206
        },
        "id": "ksvEh_fW27UM",
        "outputId": "360dccbe-16ae-4160-d13e-8c45ca041d21"
      },
      "execution_count": null,
      "outputs": [
        {
          "output_type": "execute_result",
          "data": {
            "text/plain": [
              "   id         org             fh             fl             mh             ml  \\\n",
              "0   0  000_00.npy  000_00_fh.npy  000_00_fl.npy  000_00_mh.npy  000_00_ml.npy   \n",
              "1   0  000_01.npy  000_01_fh.npy  000_01_fl.npy  000_01_mh.npy  000_01_ml.npy   \n",
              "2   0  000_02.npy  000_02_fh.npy  000_02_fl.npy  000_02_mh.npy  000_02_ml.npy   \n",
              "3   0  000_03.npy  000_03_fh.npy  000_03_fl.npy  000_03_mh.npy  000_03_ml.npy   \n",
              "4   0  000_04.npy  000_04_fh.npy  000_04_fl.npy  000_04_mh.npy  000_04_ml.npy   \n",
              "\n",
              "              n  \n",
              "0  000_00_n.npy  \n",
              "1  000_01_n.npy  \n",
              "2  000_02_n.npy  \n",
              "3  000_03_n.npy  \n",
              "4  000_04_n.npy  "
            ],
            "text/html": [
              "\n",
              "  <div id=\"df-7b2657f3-e1b0-4d07-8989-82c5042a0215\" class=\"colab-df-container\">\n",
              "    <div>\n",
              "<style scoped>\n",
              "    .dataframe tbody tr th:only-of-type {\n",
              "        vertical-align: middle;\n",
              "    }\n",
              "\n",
              "    .dataframe tbody tr th {\n",
              "        vertical-align: top;\n",
              "    }\n",
              "\n",
              "    .dataframe thead th {\n",
              "        text-align: right;\n",
              "    }\n",
              "</style>\n",
              "<table border=\"1\" class=\"dataframe\">\n",
              "  <thead>\n",
              "    <tr style=\"text-align: right;\">\n",
              "      <th></th>\n",
              "      <th>id</th>\n",
              "      <th>org</th>\n",
              "      <th>fh</th>\n",
              "      <th>fl</th>\n",
              "      <th>mh</th>\n",
              "      <th>ml</th>\n",
              "      <th>n</th>\n",
              "    </tr>\n",
              "  </thead>\n",
              "  <tbody>\n",
              "    <tr>\n",
              "      <th>0</th>\n",
              "      <td>0</td>\n",
              "      <td>000_00.npy</td>\n",
              "      <td>000_00_fh.npy</td>\n",
              "      <td>000_00_fl.npy</td>\n",
              "      <td>000_00_mh.npy</td>\n",
              "      <td>000_00_ml.npy</td>\n",
              "      <td>000_00_n.npy</td>\n",
              "    </tr>\n",
              "    <tr>\n",
              "      <th>1</th>\n",
              "      <td>0</td>\n",
              "      <td>000_01.npy</td>\n",
              "      <td>000_01_fh.npy</td>\n",
              "      <td>000_01_fl.npy</td>\n",
              "      <td>000_01_mh.npy</td>\n",
              "      <td>000_01_ml.npy</td>\n",
              "      <td>000_01_n.npy</td>\n",
              "    </tr>\n",
              "    <tr>\n",
              "      <th>2</th>\n",
              "      <td>0</td>\n",
              "      <td>000_02.npy</td>\n",
              "      <td>000_02_fh.npy</td>\n",
              "      <td>000_02_fl.npy</td>\n",
              "      <td>000_02_mh.npy</td>\n",
              "      <td>000_02_ml.npy</td>\n",
              "      <td>000_02_n.npy</td>\n",
              "    </tr>\n",
              "    <tr>\n",
              "      <th>3</th>\n",
              "      <td>0</td>\n",
              "      <td>000_03.npy</td>\n",
              "      <td>000_03_fh.npy</td>\n",
              "      <td>000_03_fl.npy</td>\n",
              "      <td>000_03_mh.npy</td>\n",
              "      <td>000_03_ml.npy</td>\n",
              "      <td>000_03_n.npy</td>\n",
              "    </tr>\n",
              "    <tr>\n",
              "      <th>4</th>\n",
              "      <td>0</td>\n",
              "      <td>000_04.npy</td>\n",
              "      <td>000_04_fh.npy</td>\n",
              "      <td>000_04_fl.npy</td>\n",
              "      <td>000_04_mh.npy</td>\n",
              "      <td>000_04_ml.npy</td>\n",
              "      <td>000_04_n.npy</td>\n",
              "    </tr>\n",
              "  </tbody>\n",
              "</table>\n",
              "</div>\n",
              "    <div class=\"colab-df-buttons\">\n",
              "\n",
              "  <div class=\"colab-df-container\">\n",
              "    <button class=\"colab-df-convert\" onclick=\"convertToInteractive('df-7b2657f3-e1b0-4d07-8989-82c5042a0215')\"\n",
              "            title=\"Convert this dataframe to an interactive table.\"\n",
              "            style=\"display:none;\">\n",
              "\n",
              "  <svg xmlns=\"http://www.w3.org/2000/svg\" height=\"24px\" viewBox=\"0 -960 960 960\">\n",
              "    <path d=\"M120-120v-720h720v720H120Zm60-500h600v-160H180v160Zm220 220h160v-160H400v160Zm0 220h160v-160H400v160ZM180-400h160v-160H180v160Zm440 0h160v-160H620v160ZM180-180h160v-160H180v160Zm440 0h160v-160H620v160Z\"/>\n",
              "  </svg>\n",
              "    </button>\n",
              "\n",
              "  <style>\n",
              "    .colab-df-container {\n",
              "      display:flex;\n",
              "      gap: 12px;\n",
              "    }\n",
              "\n",
              "    .colab-df-convert {\n",
              "      background-color: #E8F0FE;\n",
              "      border: none;\n",
              "      border-radius: 50%;\n",
              "      cursor: pointer;\n",
              "      display: none;\n",
              "      fill: #1967D2;\n",
              "      height: 32px;\n",
              "      padding: 0 0 0 0;\n",
              "      width: 32px;\n",
              "    }\n",
              "\n",
              "    .colab-df-convert:hover {\n",
              "      background-color: #E2EBFA;\n",
              "      box-shadow: 0px 1px 2px rgba(60, 64, 67, 0.3), 0px 1px 3px 1px rgba(60, 64, 67, 0.15);\n",
              "      fill: #174EA6;\n",
              "    }\n",
              "\n",
              "    .colab-df-buttons div {\n",
              "      margin-bottom: 4px;\n",
              "    }\n",
              "\n",
              "    [theme=dark] .colab-df-convert {\n",
              "      background-color: #3B4455;\n",
              "      fill: #D2E3FC;\n",
              "    }\n",
              "\n",
              "    [theme=dark] .colab-df-convert:hover {\n",
              "      background-color: #434B5C;\n",
              "      box-shadow: 0px 1px 3px 1px rgba(0, 0, 0, 0.15);\n",
              "      filter: drop-shadow(0px 1px 2px rgba(0, 0, 0, 0.3));\n",
              "      fill: #FFFFFF;\n",
              "    }\n",
              "  </style>\n",
              "\n",
              "    <script>\n",
              "      const buttonEl =\n",
              "        document.querySelector('#df-7b2657f3-e1b0-4d07-8989-82c5042a0215 button.colab-df-convert');\n",
              "      buttonEl.style.display =\n",
              "        google.colab.kernel.accessAllowed ? 'block' : 'none';\n",
              "\n",
              "      async function convertToInteractive(key) {\n",
              "        const element = document.querySelector('#df-7b2657f3-e1b0-4d07-8989-82c5042a0215');\n",
              "        const dataTable =\n",
              "          await google.colab.kernel.invokeFunction('convertToInteractive',\n",
              "                                                    [key], {});\n",
              "        if (!dataTable) return;\n",
              "\n",
              "        const docLinkHtml = 'Like what you see? Visit the ' +\n",
              "          '<a target=\"_blank\" href=https://colab.research.google.com/notebooks/data_table.ipynb>data table notebook</a>'\n",
              "          + ' to learn more about interactive tables.';\n",
              "        element.innerHTML = '';\n",
              "        dataTable['output_type'] = 'display_data';\n",
              "        await google.colab.output.renderOutput(dataTable, element);\n",
              "        const docLink = document.createElement('div');\n",
              "        docLink.innerHTML = docLinkHtml;\n",
              "        element.appendChild(docLink);\n",
              "      }\n",
              "    </script>\n",
              "  </div>\n",
              "\n",
              "\n",
              "<div id=\"df-ede52f62-7aed-4216-b8f5-3e3e03e7523e\">\n",
              "  <button class=\"colab-df-quickchart\" onclick=\"quickchart('df-ede52f62-7aed-4216-b8f5-3e3e03e7523e')\"\n",
              "            title=\"Suggest charts\"\n",
              "            style=\"display:none;\">\n",
              "\n",
              "<svg xmlns=\"http://www.w3.org/2000/svg\" height=\"24px\"viewBox=\"0 0 24 24\"\n",
              "     width=\"24px\">\n",
              "    <g>\n",
              "        <path d=\"M19 3H5c-1.1 0-2 .9-2 2v14c0 1.1.9 2 2 2h14c1.1 0 2-.9 2-2V5c0-1.1-.9-2-2-2zM9 17H7v-7h2v7zm4 0h-2V7h2v10zm4 0h-2v-4h2v4z\"/>\n",
              "    </g>\n",
              "</svg>\n",
              "  </button>\n",
              "\n",
              "<style>\n",
              "  .colab-df-quickchart {\n",
              "      --bg-color: #E8F0FE;\n",
              "      --fill-color: #1967D2;\n",
              "      --hover-bg-color: #E2EBFA;\n",
              "      --hover-fill-color: #174EA6;\n",
              "      --disabled-fill-color: #AAA;\n",
              "      --disabled-bg-color: #DDD;\n",
              "  }\n",
              "\n",
              "  [theme=dark] .colab-df-quickchart {\n",
              "      --bg-color: #3B4455;\n",
              "      --fill-color: #D2E3FC;\n",
              "      --hover-bg-color: #434B5C;\n",
              "      --hover-fill-color: #FFFFFF;\n",
              "      --disabled-bg-color: #3B4455;\n",
              "      --disabled-fill-color: #666;\n",
              "  }\n",
              "\n",
              "  .colab-df-quickchart {\n",
              "    background-color: var(--bg-color);\n",
              "    border: none;\n",
              "    border-radius: 50%;\n",
              "    cursor: pointer;\n",
              "    display: none;\n",
              "    fill: var(--fill-color);\n",
              "    height: 32px;\n",
              "    padding: 0;\n",
              "    width: 32px;\n",
              "  }\n",
              "\n",
              "  .colab-df-quickchart:hover {\n",
              "    background-color: var(--hover-bg-color);\n",
              "    box-shadow: 0 1px 2px rgba(60, 64, 67, 0.3), 0 1px 3px 1px rgba(60, 64, 67, 0.15);\n",
              "    fill: var(--button-hover-fill-color);\n",
              "  }\n",
              "\n",
              "  .colab-df-quickchart-complete:disabled,\n",
              "  .colab-df-quickchart-complete:disabled:hover {\n",
              "    background-color: var(--disabled-bg-color);\n",
              "    fill: var(--disabled-fill-color);\n",
              "    box-shadow: none;\n",
              "  }\n",
              "\n",
              "  .colab-df-spinner {\n",
              "    border: 2px solid var(--fill-color);\n",
              "    border-color: transparent;\n",
              "    border-bottom-color: var(--fill-color);\n",
              "    animation:\n",
              "      spin 1s steps(1) infinite;\n",
              "  }\n",
              "\n",
              "  @keyframes spin {\n",
              "    0% {\n",
              "      border-color: transparent;\n",
              "      border-bottom-color: var(--fill-color);\n",
              "      border-left-color: var(--fill-color);\n",
              "    }\n",
              "    20% {\n",
              "      border-color: transparent;\n",
              "      border-left-color: var(--fill-color);\n",
              "      border-top-color: var(--fill-color);\n",
              "    }\n",
              "    30% {\n",
              "      border-color: transparent;\n",
              "      border-left-color: var(--fill-color);\n",
              "      border-top-color: var(--fill-color);\n",
              "      border-right-color: var(--fill-color);\n",
              "    }\n",
              "    40% {\n",
              "      border-color: transparent;\n",
              "      border-right-color: var(--fill-color);\n",
              "      border-top-color: var(--fill-color);\n",
              "    }\n",
              "    60% {\n",
              "      border-color: transparent;\n",
              "      border-right-color: var(--fill-color);\n",
              "    }\n",
              "    80% {\n",
              "      border-color: transparent;\n",
              "      border-right-color: var(--fill-color);\n",
              "      border-bottom-color: var(--fill-color);\n",
              "    }\n",
              "    90% {\n",
              "      border-color: transparent;\n",
              "      border-bottom-color: var(--fill-color);\n",
              "    }\n",
              "  }\n",
              "</style>\n",
              "\n",
              "  <script>\n",
              "    async function quickchart(key) {\n",
              "      const quickchartButtonEl =\n",
              "        document.querySelector('#' + key + ' button');\n",
              "      quickchartButtonEl.disabled = true;  // To prevent multiple clicks.\n",
              "      quickchartButtonEl.classList.add('colab-df-spinner');\n",
              "      try {\n",
              "        const charts = await google.colab.kernel.invokeFunction(\n",
              "            'suggestCharts', [key], {});\n",
              "      } catch (error) {\n",
              "        console.error('Error during call to suggestCharts:', error);\n",
              "      }\n",
              "      quickchartButtonEl.classList.remove('colab-df-spinner');\n",
              "      quickchartButtonEl.classList.add('colab-df-quickchart-complete');\n",
              "    }\n",
              "    (() => {\n",
              "      let quickchartButtonEl =\n",
              "        document.querySelector('#df-ede52f62-7aed-4216-b8f5-3e3e03e7523e button');\n",
              "      quickchartButtonEl.style.display =\n",
              "        google.colab.kernel.accessAllowed ? 'block' : 'none';\n",
              "    })();\n",
              "  </script>\n",
              "</div>\n",
              "\n",
              "    </div>\n",
              "  </div>\n"
            ]
          },
          "metadata": {},
          "execution_count": 4
        }
      ]
    },
    {
      "cell_type": "code",
      "source": [
        "df['org'] = df['org'].apply(lambda x : org_path + x)\n",
        "for hum_col in ['fh', 'fl', 'mh', 'ml', 'n']:\n",
        "  df[hum_col] = df[hum_col].apply(lambda x : hum_path + x)"
      ],
      "metadata": {
        "id": "WItnINsEn5Dl"
      },
      "execution_count": null,
      "outputs": []
    },
    {
      "cell_type": "code",
      "source": [
        "df.head()"
      ],
      "metadata": {
        "colab": {
          "base_uri": "https://localhost:8080/",
          "height": 226
        },
        "id": "564mQOsapJdN",
        "outputId": "becf43a4-0e9e-43e5-dc03-d1fb92061a12"
      },
      "execution_count": null,
      "outputs": [
        {
          "output_type": "execute_result",
          "data": {
            "text/plain": [
              "   id                                                org  \\\n",
              "0   0  /content/drive/MyDrive/Hmm2Song/data/song/npy_...   \n",
              "1   0  /content/drive/MyDrive/Hmm2Song/data/song/npy_...   \n",
              "2   0  /content/drive/MyDrive/Hmm2Song/data/song/npy_...   \n",
              "3   0  /content/drive/MyDrive/Hmm2Song/data/song/npy_...   \n",
              "4   0  /content/drive/MyDrive/Hmm2Song/data/song/npy_...   \n",
              "\n",
              "                                                  fh  \\\n",
              "0  /content/drive/MyDrive/Hmm2Song/data/song/npy_...   \n",
              "1  /content/drive/MyDrive/Hmm2Song/data/song/npy_...   \n",
              "2  /content/drive/MyDrive/Hmm2Song/data/song/npy_...   \n",
              "3  /content/drive/MyDrive/Hmm2Song/data/song/npy_...   \n",
              "4  /content/drive/MyDrive/Hmm2Song/data/song/npy_...   \n",
              "\n",
              "                                                  fl  \\\n",
              "0  /content/drive/MyDrive/Hmm2Song/data/song/npy_...   \n",
              "1  /content/drive/MyDrive/Hmm2Song/data/song/npy_...   \n",
              "2  /content/drive/MyDrive/Hmm2Song/data/song/npy_...   \n",
              "3  /content/drive/MyDrive/Hmm2Song/data/song/npy_...   \n",
              "4  /content/drive/MyDrive/Hmm2Song/data/song/npy_...   \n",
              "\n",
              "                                                  mh  \\\n",
              "0  /content/drive/MyDrive/Hmm2Song/data/song/npy_...   \n",
              "1  /content/drive/MyDrive/Hmm2Song/data/song/npy_...   \n",
              "2  /content/drive/MyDrive/Hmm2Song/data/song/npy_...   \n",
              "3  /content/drive/MyDrive/Hmm2Song/data/song/npy_...   \n",
              "4  /content/drive/MyDrive/Hmm2Song/data/song/npy_...   \n",
              "\n",
              "                                                  ml  \\\n",
              "0  /content/drive/MyDrive/Hmm2Song/data/song/npy_...   \n",
              "1  /content/drive/MyDrive/Hmm2Song/data/song/npy_...   \n",
              "2  /content/drive/MyDrive/Hmm2Song/data/song/npy_...   \n",
              "3  /content/drive/MyDrive/Hmm2Song/data/song/npy_...   \n",
              "4  /content/drive/MyDrive/Hmm2Song/data/song/npy_...   \n",
              "\n",
              "                                                   n  \n",
              "0  /content/drive/MyDrive/Hmm2Song/data/song/npy_...  \n",
              "1  /content/drive/MyDrive/Hmm2Song/data/song/npy_...  \n",
              "2  /content/drive/MyDrive/Hmm2Song/data/song/npy_...  \n",
              "3  /content/drive/MyDrive/Hmm2Song/data/song/npy_...  \n",
              "4  /content/drive/MyDrive/Hmm2Song/data/song/npy_...  "
            ],
            "text/html": [
              "\n",
              "  <div id=\"df-e717d014-5a76-43c6-b3e5-ebd8b243bcea\" class=\"colab-df-container\">\n",
              "    <div>\n",
              "<style scoped>\n",
              "    .dataframe tbody tr th:only-of-type {\n",
              "        vertical-align: middle;\n",
              "    }\n",
              "\n",
              "    .dataframe tbody tr th {\n",
              "        vertical-align: top;\n",
              "    }\n",
              "\n",
              "    .dataframe thead th {\n",
              "        text-align: right;\n",
              "    }\n",
              "</style>\n",
              "<table border=\"1\" class=\"dataframe\">\n",
              "  <thead>\n",
              "    <tr style=\"text-align: right;\">\n",
              "      <th></th>\n",
              "      <th>id</th>\n",
              "      <th>org</th>\n",
              "      <th>fh</th>\n",
              "      <th>fl</th>\n",
              "      <th>mh</th>\n",
              "      <th>ml</th>\n",
              "      <th>n</th>\n",
              "    </tr>\n",
              "  </thead>\n",
              "  <tbody>\n",
              "    <tr>\n",
              "      <th>0</th>\n",
              "      <td>0</td>\n",
              "      <td>/content/drive/MyDrive/Hmm2Song/data/song/npy_...</td>\n",
              "      <td>/content/drive/MyDrive/Hmm2Song/data/song/npy_...</td>\n",
              "      <td>/content/drive/MyDrive/Hmm2Song/data/song/npy_...</td>\n",
              "      <td>/content/drive/MyDrive/Hmm2Song/data/song/npy_...</td>\n",
              "      <td>/content/drive/MyDrive/Hmm2Song/data/song/npy_...</td>\n",
              "      <td>/content/drive/MyDrive/Hmm2Song/data/song/npy_...</td>\n",
              "    </tr>\n",
              "    <tr>\n",
              "      <th>1</th>\n",
              "      <td>0</td>\n",
              "      <td>/content/drive/MyDrive/Hmm2Song/data/song/npy_...</td>\n",
              "      <td>/content/drive/MyDrive/Hmm2Song/data/song/npy_...</td>\n",
              "      <td>/content/drive/MyDrive/Hmm2Song/data/song/npy_...</td>\n",
              "      <td>/content/drive/MyDrive/Hmm2Song/data/song/npy_...</td>\n",
              "      <td>/content/drive/MyDrive/Hmm2Song/data/song/npy_...</td>\n",
              "      <td>/content/drive/MyDrive/Hmm2Song/data/song/npy_...</td>\n",
              "    </tr>\n",
              "    <tr>\n",
              "      <th>2</th>\n",
              "      <td>0</td>\n",
              "      <td>/content/drive/MyDrive/Hmm2Song/data/song/npy_...</td>\n",
              "      <td>/content/drive/MyDrive/Hmm2Song/data/song/npy_...</td>\n",
              "      <td>/content/drive/MyDrive/Hmm2Song/data/song/npy_...</td>\n",
              "      <td>/content/drive/MyDrive/Hmm2Song/data/song/npy_...</td>\n",
              "      <td>/content/drive/MyDrive/Hmm2Song/data/song/npy_...</td>\n",
              "      <td>/content/drive/MyDrive/Hmm2Song/data/song/npy_...</td>\n",
              "    </tr>\n",
              "    <tr>\n",
              "      <th>3</th>\n",
              "      <td>0</td>\n",
              "      <td>/content/drive/MyDrive/Hmm2Song/data/song/npy_...</td>\n",
              "      <td>/content/drive/MyDrive/Hmm2Song/data/song/npy_...</td>\n",
              "      <td>/content/drive/MyDrive/Hmm2Song/data/song/npy_...</td>\n",
              "      <td>/content/drive/MyDrive/Hmm2Song/data/song/npy_...</td>\n",
              "      <td>/content/drive/MyDrive/Hmm2Song/data/song/npy_...</td>\n",
              "      <td>/content/drive/MyDrive/Hmm2Song/data/song/npy_...</td>\n",
              "    </tr>\n",
              "    <tr>\n",
              "      <th>4</th>\n",
              "      <td>0</td>\n",
              "      <td>/content/drive/MyDrive/Hmm2Song/data/song/npy_...</td>\n",
              "      <td>/content/drive/MyDrive/Hmm2Song/data/song/npy_...</td>\n",
              "      <td>/content/drive/MyDrive/Hmm2Song/data/song/npy_...</td>\n",
              "      <td>/content/drive/MyDrive/Hmm2Song/data/song/npy_...</td>\n",
              "      <td>/content/drive/MyDrive/Hmm2Song/data/song/npy_...</td>\n",
              "      <td>/content/drive/MyDrive/Hmm2Song/data/song/npy_...</td>\n",
              "    </tr>\n",
              "  </tbody>\n",
              "</table>\n",
              "</div>\n",
              "    <div class=\"colab-df-buttons\">\n",
              "\n",
              "  <div class=\"colab-df-container\">\n",
              "    <button class=\"colab-df-convert\" onclick=\"convertToInteractive('df-e717d014-5a76-43c6-b3e5-ebd8b243bcea')\"\n",
              "            title=\"Convert this dataframe to an interactive table.\"\n",
              "            style=\"display:none;\">\n",
              "\n",
              "  <svg xmlns=\"http://www.w3.org/2000/svg\" height=\"24px\" viewBox=\"0 -960 960 960\">\n",
              "    <path d=\"M120-120v-720h720v720H120Zm60-500h600v-160H180v160Zm220 220h160v-160H400v160Zm0 220h160v-160H400v160ZM180-400h160v-160H180v160Zm440 0h160v-160H620v160ZM180-180h160v-160H180v160Zm440 0h160v-160H620v160Z\"/>\n",
              "  </svg>\n",
              "    </button>\n",
              "\n",
              "  <style>\n",
              "    .colab-df-container {\n",
              "      display:flex;\n",
              "      gap: 12px;\n",
              "    }\n",
              "\n",
              "    .colab-df-convert {\n",
              "      background-color: #E8F0FE;\n",
              "      border: none;\n",
              "      border-radius: 50%;\n",
              "      cursor: pointer;\n",
              "      display: none;\n",
              "      fill: #1967D2;\n",
              "      height: 32px;\n",
              "      padding: 0 0 0 0;\n",
              "      width: 32px;\n",
              "    }\n",
              "\n",
              "    .colab-df-convert:hover {\n",
              "      background-color: #E2EBFA;\n",
              "      box-shadow: 0px 1px 2px rgba(60, 64, 67, 0.3), 0px 1px 3px 1px rgba(60, 64, 67, 0.15);\n",
              "      fill: #174EA6;\n",
              "    }\n",
              "\n",
              "    .colab-df-buttons div {\n",
              "      margin-bottom: 4px;\n",
              "    }\n",
              "\n",
              "    [theme=dark] .colab-df-convert {\n",
              "      background-color: #3B4455;\n",
              "      fill: #D2E3FC;\n",
              "    }\n",
              "\n",
              "    [theme=dark] .colab-df-convert:hover {\n",
              "      background-color: #434B5C;\n",
              "      box-shadow: 0px 1px 3px 1px rgba(0, 0, 0, 0.15);\n",
              "      filter: drop-shadow(0px 1px 2px rgba(0, 0, 0, 0.3));\n",
              "      fill: #FFFFFF;\n",
              "    }\n",
              "  </style>\n",
              "\n",
              "    <script>\n",
              "      const buttonEl =\n",
              "        document.querySelector('#df-e717d014-5a76-43c6-b3e5-ebd8b243bcea button.colab-df-convert');\n",
              "      buttonEl.style.display =\n",
              "        google.colab.kernel.accessAllowed ? 'block' : 'none';\n",
              "\n",
              "      async function convertToInteractive(key) {\n",
              "        const element = document.querySelector('#df-e717d014-5a76-43c6-b3e5-ebd8b243bcea');\n",
              "        const dataTable =\n",
              "          await google.colab.kernel.invokeFunction('convertToInteractive',\n",
              "                                                    [key], {});\n",
              "        if (!dataTable) return;\n",
              "\n",
              "        const docLinkHtml = 'Like what you see? Visit the ' +\n",
              "          '<a target=\"_blank\" href=https://colab.research.google.com/notebooks/data_table.ipynb>data table notebook</a>'\n",
              "          + ' to learn more about interactive tables.';\n",
              "        element.innerHTML = '';\n",
              "        dataTable['output_type'] = 'display_data';\n",
              "        await google.colab.output.renderOutput(dataTable, element);\n",
              "        const docLink = document.createElement('div');\n",
              "        docLink.innerHTML = docLinkHtml;\n",
              "        element.appendChild(docLink);\n",
              "      }\n",
              "    </script>\n",
              "  </div>\n",
              "\n",
              "\n",
              "<div id=\"df-43f6d1c4-f9df-4763-8b4a-fbb5b2524a6d\">\n",
              "  <button class=\"colab-df-quickchart\" onclick=\"quickchart('df-43f6d1c4-f9df-4763-8b4a-fbb5b2524a6d')\"\n",
              "            title=\"Suggest charts\"\n",
              "            style=\"display:none;\">\n",
              "\n",
              "<svg xmlns=\"http://www.w3.org/2000/svg\" height=\"24px\"viewBox=\"0 0 24 24\"\n",
              "     width=\"24px\">\n",
              "    <g>\n",
              "        <path d=\"M19 3H5c-1.1 0-2 .9-2 2v14c0 1.1.9 2 2 2h14c1.1 0 2-.9 2-2V5c0-1.1-.9-2-2-2zM9 17H7v-7h2v7zm4 0h-2V7h2v10zm4 0h-2v-4h2v4z\"/>\n",
              "    </g>\n",
              "</svg>\n",
              "  </button>\n",
              "\n",
              "<style>\n",
              "  .colab-df-quickchart {\n",
              "      --bg-color: #E8F0FE;\n",
              "      --fill-color: #1967D2;\n",
              "      --hover-bg-color: #E2EBFA;\n",
              "      --hover-fill-color: #174EA6;\n",
              "      --disabled-fill-color: #AAA;\n",
              "      --disabled-bg-color: #DDD;\n",
              "  }\n",
              "\n",
              "  [theme=dark] .colab-df-quickchart {\n",
              "      --bg-color: #3B4455;\n",
              "      --fill-color: #D2E3FC;\n",
              "      --hover-bg-color: #434B5C;\n",
              "      --hover-fill-color: #FFFFFF;\n",
              "      --disabled-bg-color: #3B4455;\n",
              "      --disabled-fill-color: #666;\n",
              "  }\n",
              "\n",
              "  .colab-df-quickchart {\n",
              "    background-color: var(--bg-color);\n",
              "    border: none;\n",
              "    border-radius: 50%;\n",
              "    cursor: pointer;\n",
              "    display: none;\n",
              "    fill: var(--fill-color);\n",
              "    height: 32px;\n",
              "    padding: 0;\n",
              "    width: 32px;\n",
              "  }\n",
              "\n",
              "  .colab-df-quickchart:hover {\n",
              "    background-color: var(--hover-bg-color);\n",
              "    box-shadow: 0 1px 2px rgba(60, 64, 67, 0.3), 0 1px 3px 1px rgba(60, 64, 67, 0.15);\n",
              "    fill: var(--button-hover-fill-color);\n",
              "  }\n",
              "\n",
              "  .colab-df-quickchart-complete:disabled,\n",
              "  .colab-df-quickchart-complete:disabled:hover {\n",
              "    background-color: var(--disabled-bg-color);\n",
              "    fill: var(--disabled-fill-color);\n",
              "    box-shadow: none;\n",
              "  }\n",
              "\n",
              "  .colab-df-spinner {\n",
              "    border: 2px solid var(--fill-color);\n",
              "    border-color: transparent;\n",
              "    border-bottom-color: var(--fill-color);\n",
              "    animation:\n",
              "      spin 1s steps(1) infinite;\n",
              "  }\n",
              "\n",
              "  @keyframes spin {\n",
              "    0% {\n",
              "      border-color: transparent;\n",
              "      border-bottom-color: var(--fill-color);\n",
              "      border-left-color: var(--fill-color);\n",
              "    }\n",
              "    20% {\n",
              "      border-color: transparent;\n",
              "      border-left-color: var(--fill-color);\n",
              "      border-top-color: var(--fill-color);\n",
              "    }\n",
              "    30% {\n",
              "      border-color: transparent;\n",
              "      border-left-color: var(--fill-color);\n",
              "      border-top-color: var(--fill-color);\n",
              "      border-right-color: var(--fill-color);\n",
              "    }\n",
              "    40% {\n",
              "      border-color: transparent;\n",
              "      border-right-color: var(--fill-color);\n",
              "      border-top-color: var(--fill-color);\n",
              "    }\n",
              "    60% {\n",
              "      border-color: transparent;\n",
              "      border-right-color: var(--fill-color);\n",
              "    }\n",
              "    80% {\n",
              "      border-color: transparent;\n",
              "      border-right-color: var(--fill-color);\n",
              "      border-bottom-color: var(--fill-color);\n",
              "    }\n",
              "    90% {\n",
              "      border-color: transparent;\n",
              "      border-bottom-color: var(--fill-color);\n",
              "    }\n",
              "  }\n",
              "</style>\n",
              "\n",
              "  <script>\n",
              "    async function quickchart(key) {\n",
              "      const quickchartButtonEl =\n",
              "        document.querySelector('#' + key + ' button');\n",
              "      quickchartButtonEl.disabled = true;  // To prevent multiple clicks.\n",
              "      quickchartButtonEl.classList.add('colab-df-spinner');\n",
              "      try {\n",
              "        const charts = await google.colab.kernel.invokeFunction(\n",
              "            'suggestCharts', [key], {});\n",
              "      } catch (error) {\n",
              "        console.error('Error during call to suggestCharts:', error);\n",
              "      }\n",
              "      quickchartButtonEl.classList.remove('colab-df-spinner');\n",
              "      quickchartButtonEl.classList.add('colab-df-quickchart-complete');\n",
              "    }\n",
              "    (() => {\n",
              "      let quickchartButtonEl =\n",
              "        document.querySelector('#df-43f6d1c4-f9df-4763-8b4a-fbb5b2524a6d button');\n",
              "      quickchartButtonEl.style.display =\n",
              "        google.colab.kernel.accessAllowed ? 'block' : 'none';\n",
              "    })();\n",
              "  </script>\n",
              "</div>\n",
              "\n",
              "    </div>\n",
              "  </div>\n"
            ]
          },
          "metadata": {},
          "execution_count": 6
        }
      ]
    },
    {
      "cell_type": "code",
      "source": [
        "ml = []\n",
        "err = []\n",
        "for row in tqdm(df['ml']):\n",
        "  try:\n",
        "    ml.append(np.load(row))\n",
        "  except:\n",
        "    ml.append(row)\n",
        "    err.append(row)"
      ],
      "metadata": {
        "colab": {
          "base_uri": "https://localhost:8080/"
        },
        "id": "Rl07lmO6r4zq",
        "outputId": "a763af26-7884-4980-febe-254515a82b8b"
      },
      "execution_count": null,
      "outputs": [
        {
          "output_type": "stream",
          "name": "stderr",
          "text": [
            "100%|██████████| 22730/22730 [1:25:48<00:00,  4.42it/s]\n"
          ]
        }
      ]
    },
    {
      "cell_type": "code",
      "source": [
        "arr = np.empty(22730, object)\n",
        "arr[:] = ml\n",
        "arr"
      ],
      "metadata": {
        "id": "kOqXDP_OJCa-"
      },
      "execution_count": null,
      "outputs": []
    },
    {
      "cell_type": "code",
      "source": [
        "np.save('/content/drive/MyDrive/Hmm2Song/data/song/ml.npy', arr, allow_pickle=True)"
      ],
      "metadata": {
        "id": "AluYuPJpIOHs",
        "colab": {
          "base_uri": "https://localhost:8080/",
          "height": 184
        },
        "outputId": "fd1bbd55-f850-4135-a659-b854beb457f3"
      },
      "execution_count": null,
      "outputs": [
        {
          "output_type": "error",
          "ename": "NameError",
          "evalue": "name 'np' is not defined",
          "traceback": [
            "\u001b[0;31m---------------------------------------------------------------------------\u001b[0m",
            "\u001b[0;31mNameError\u001b[0m                                 Traceback (most recent call last)",
            "\u001b[0;32m<ipython-input-1-53307367b723>\u001b[0m in \u001b[0;36m<cell line: 1>\u001b[0;34m()\u001b[0m\n\u001b[0;32m----> 1\u001b[0;31m \u001b[0mnp\u001b[0m\u001b[0;34m.\u001b[0m\u001b[0msave\u001b[0m\u001b[0;34m(\u001b[0m\u001b[0;34m'/content/drive/MyDrive/Hmm2Song/data/song/ml.npy'\u001b[0m\u001b[0;34m,\u001b[0m \u001b[0marr\u001b[0m\u001b[0;34m,\u001b[0m \u001b[0mallow_pickle\u001b[0m\u001b[0;34m=\u001b[0m\u001b[0;32mTrue\u001b[0m\u001b[0;34m)\u001b[0m\u001b[0;34m\u001b[0m\u001b[0;34m\u001b[0m\u001b[0m\n\u001b[0m",
            "\u001b[0;31mNameError\u001b[0m: name 'np' is not defined"
          ]
        }
      ]
    },
    {
      "cell_type": "code",
      "source": [
        "b = np.load('/content/drive/MyDrive/Hmm2Song/data/song/ml.npy', allow_pickle=True) # 잘 저장되었는지 확인"
      ],
      "metadata": {
        "id": "LUPE-bXLJThv"
      },
      "execution_count": null,
      "outputs": []
    },
    {
      "cell_type": "code",
      "source": [
        "len(b)"
      ],
      "metadata": {
        "colab": {
          "base_uri": "https://localhost:8080/"
        },
        "id": "Ce0WSjLJJoUs",
        "outputId": "4cff5cca-6fdc-4ac0-8895-a077f004498e"
      },
      "execution_count": null,
      "outputs": [
        {
          "output_type": "execute_result",
          "data": {
            "text/plain": [
              "22730"
            ]
          },
          "metadata": {},
          "execution_count": 28
        }
      ]
    },
    {
      "cell_type": "code",
      "source": [
        "file_map = []\n",
        "for hum_col in ['fh', 'fl', 'mh', 'ml', 'n']:\n",
        "    file_map.extend(list(zip(df['org'], df[hum_col])))"
      ],
      "metadata": {
        "id": "mNFuruDrJBoR"
      },
      "execution_count": null,
      "outputs": []
    },
    {
      "cell_type": "code",
      "source": [
        "len(file_map)"
      ],
      "metadata": {
        "colab": {
          "base_uri": "https://localhost:8080/"
        },
        "id": "MEKklA_ppYNH",
        "outputId": "4b96d440-10d5-45b5-fe7f-b1b15c9bcf89"
      },
      "execution_count": null,
      "outputs": [
        {
          "output_type": "execute_result",
          "data": {
            "text/plain": [
              "113650"
            ]
          },
          "metadata": {},
          "execution_count": 8
        }
      ]
    }
  ],
  "metadata": {
    "colab": {
      "collapsed_sections": [
        "xsbd72x3mOgv",
        "6eSk6_slmEXY",
        "csXwQpI_XN6a",
        "fPpdYqjLYAM0"
      ],
      "machine_shape": "hm",
      "provenance": [],
      "gpuType": "T4"
    },
    "kernelspec": {
      "display_name": "Python 3",
      "name": "python3"
    },
    "language_info": {
      "name": "python"
    },
    "accelerator": "GPU"
  },
  "nbformat": 4,
  "nbformat_minor": 0
}