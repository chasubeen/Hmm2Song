{
  "cells": [
    {
      "cell_type": "markdown",
      "metadata": {
        "id": "view-in-github",
        "colab_type": "text"
      },
      "source": [
        "<a href=\"https://colab.research.google.com/github/hyooz-Kang/Hmm2Song/blob/subeen/0.%20%EB%8D%B0%EC%9D%B4%ED%84%B0%20%EC%88%98%EC%A7%91.ipynb\" target=\"_parent\"><img src=\"https://colab.research.google.com/assets/colab-badge.svg\" alt=\"Open In Colab\"/></a>"
      ]
    },
    {
      "cell_type": "markdown",
      "id": "c731adcb-7d99-4810-9cf3-a6c41f2b4a88",
      "metadata": {
        "id": "c731adcb-7d99-4810-9cf3-a6c41f2b4a88"
      },
      "source": [
        "# **RnB_Soul**"
      ]
    },
    {
      "cell_type": "markdown",
      "id": "f1799df1-2ee6-4342-b161-3c6e3812e131",
      "metadata": {
        "id": "f1799df1-2ee6-4342-b161-3c6e3812e131"
      },
      "source": [
        "## **1. 모듈 불러오기**"
      ]
    },
    {
      "cell_type": "code",
      "execution_count": null,
      "id": "3a016b4d-2816-43a1-8309-4bc5909a57ae",
      "metadata": {
        "id": "3a016b4d-2816-43a1-8309-4bc5909a57ae"
      },
      "outputs": [],
      "source": [
        "import pandas as pd\n",
        "import time\n",
        "from tqdm.notebook import tqdm\n",
        "\n",
        "from selenium import webdriver\n",
        "from selenium.webdriver.chrome.service import Service as ChromeService\n",
        "from selenium.webdriver.common.by import By\n",
        "from selenium.webdriver.support.ui import WebDriverWait\n",
        "from selenium.webdriver.support import expected_conditions as EC\n",
        "\n",
        "from bs4 import BeautifulSoup"
      ]
    },
    {
      "cell_type": "markdown",
      "id": "c02c894a-76df-4528-b4ab-a080418b6ddb",
      "metadata": {
        "id": "c02c894a-76df-4528-b4ab-a080418b6ddb"
      },
      "source": [
        "## **2. 크롬드라이버가 url 접속하도록 하기**"
      ]
    },
    {
      "cell_type": "code",
      "execution_count": null,
      "id": "2c0f15e1-39d9-4f89-8745-6c8213a91b12",
      "metadata": {
        "id": "2c0f15e1-39d9-4f89-8745-6c8213a91b12"
      },
      "outputs": [],
      "source": [
        "# Chrome 웹드라이버 초기화\n",
        "CHROMEDRIVER_PATH = \"C:\\waterbean\\jupyter\\Hmm2Song\\chromedriver.exe\"\n",
        "options = webdriver.ChromeOptions()\n",
        "service = ChromeService(executable_path=CHROMEDRIVER_PATH)\n",
        "driver = webdriver.Chrome(service=service, options=options)\n",
        "driver.maximize_window() # 크롬창 크기 최대"
      ]
    },
    {
      "cell_type": "code",
      "execution_count": null,
      "id": "e34ec877-f9eb-4ba4-8cd1-c92bd64cf128",
      "metadata": {
        "id": "e34ec877-f9eb-4ba4-8cd1-c92bd64cf128"
      },
      "outputs": [],
      "source": [
        "## 사이트 접속\n",
        "driver.get(\"https://www.melon.com/\")\n",
        "time.sleep(2)"
      ]
    },
    {
      "cell_type": "markdown",
      "id": "5aec5907-9763-4e36-a620-3c681596c54f",
      "metadata": {
        "id": "5aec5907-9763-4e36-a620-3c681596c54f"
      },
      "source": [
        "## **3. 필터 설정**"
      ]
    },
    {
      "cell_type": "code",
      "execution_count": null,
      "id": "7043d73f-8182-493a-8799-ab2ad5bf832f",
      "metadata": {
        "id": "7043d73f-8182-493a-8799-ab2ad5bf832f"
      },
      "outputs": [],
      "source": [
        "# 멜론차트 클릭\n",
        "\n",
        "driver.find_elements(By.CSS_SELECTOR,\".menu_bg.menu01\")[0].click()\n",
        "time.sleep(2)  # 2초 정지"
      ]
    },
    {
      "cell_type": "code",
      "execution_count": null,
      "id": "d66f4ace-fdeb-4d90-a72a-60e283c1cdb5",
      "metadata": {
        "id": "d66f4ace-fdeb-4d90-a72a-60e283c1cdb5"
      },
      "outputs": [],
      "source": [
        "# 차트 파인더 클릭\n",
        "\n",
        "driver.find_element(By.XPATH, '//*[@id=\"gnb_menu\"]/ul[1]/li[1]/div/div/button/span').click()"
      ]
    },
    {
      "cell_type": "code",
      "execution_count": null,
      "id": "3966019c-643b-4717-be0a-4ff1db323ecf",
      "metadata": {
        "id": "3966019c-643b-4717-be0a-4ff1db323ecf"
      },
      "outputs": [],
      "source": [
        "# 월간차트 클릭\n",
        "\n",
        "driver.find_element(By.XPATH, '//*[@id=\"d_chart_search\"]/div/h4[2]/a').click()\n",
        "time.sleep(2)"
      ]
    },
    {
      "cell_type": "code",
      "execution_count": null,
      "id": "6e374154-48b7-4a84-8945-1cefd9053556",
      "metadata": {
        "id": "6e374154-48b7-4a84-8945-1cefd9053556"
      },
      "outputs": [],
      "source": [
        "# 연대선택: 2020년대\n",
        "\n",
        "driver.find_element(By.XPATH, '//*[@id=\"d_chart_search\"]/div/div/div[1]/div[1]/ul/li[1]/span/label').click()\n",
        "time.sleep(2)"
      ]
    },
    {
      "cell_type": "code",
      "execution_count": null,
      "id": "f4e5a015-34b8-46bc-90cc-a61a10fc0f77",
      "metadata": {
        "id": "f4e5a015-34b8-46bc-90cc-a61a10fc0f77"
      },
      "outputs": [],
      "source": [
        "# 연도선택: 2023년\n",
        "\n",
        "driver.find_element(By.XPATH, '//*[@id=\"d_chart_search\"]/div/div/div[2]/div[1]/ul/li[1]/span/label').click()\n",
        "time.sleep(2)"
      ]
    },
    {
      "cell_type": "code",
      "execution_count": null,
      "id": "6d0d0662-1d11-4eb6-81ed-355cb9212556",
      "metadata": {
        "id": "6d0d0662-1d11-4eb6-81ed-355cb9212556"
      },
      "outputs": [],
      "source": [
        "# 월 선택: 12월\n",
        "\n",
        "driver.find_element(By.XPATH, '//*[@id=\"d_chart_search\"]/div/div/div[3]/div[1]/ul/li[12]/span/label').click()\n",
        "time.sleep(2)"
      ]
    },
    {
      "cell_type": "code",
      "execution_count": null,
      "id": "b2d8785f-5512-4558-8cfe-c6c796387a3d",
      "metadata": {
        "id": "b2d8785f-5512-4558-8cfe-c6c796387a3d"
      },
      "outputs": [],
      "source": [
        "# 장르 선택: 국내 R&B/Soul\n",
        "\n",
        "driver.find_element(By.XPATH, '//*[@id=\"d_chart_search\"]/div/div/div[5]/div[1]/ul/li[7]/span/label').click()\n",
        "time.sleep(2)"
      ]
    },
    {
      "cell_type": "code",
      "execution_count": null,
      "id": "2f9abf97-4faf-4d3a-a866-d60c4f00e69b",
      "metadata": {
        "id": "2f9abf97-4faf-4d3a-a866-d60c4f00e69b"
      },
      "outputs": [],
      "source": [
        "# 검색버튼 클릭\n",
        "\n",
        "driver.find_element(By.XPATH,'//*[@id=\"d_srch_form\"]/div[2]/button/span/span').click()"
      ]
    },
    {
      "cell_type": "markdown",
      "id": "a3dc45a8-b754-4458-9663-898f7ca9c250",
      "metadata": {
        "id": "a3dc45a8-b754-4458-9663-898f7ca9c250"
      },
      "source": [
        "## **4. 세부 정보 가져오기**"
      ]
    },
    {
      "cell_type": "markdown",
      "id": "63f6cde8-7807-40c0-b0e4-922607f3554f",
      "metadata": {
        "id": "63f6cde8-7807-40c0-b0e4-922607f3554f"
      },
      "source": [
        "### **- 1위 ~ 50위**"
      ]
    },
    {
      "cell_type": "markdown",
      "id": "394e59c4-dbdb-443c-bbed-0954177ab252",
      "metadata": {
        "id": "394e59c4-dbdb-443c-bbed-0954177ab252"
      },
      "source": [
        "#### **🎵 곡명**"
      ]
    },
    {
      "cell_type": "code",
      "execution_count": null,
      "id": "e10f69bf-21b2-41cb-83ef-125705e37715",
      "metadata": {
        "id": "e10f69bf-21b2-41cb-83ef-125705e37715",
        "outputId": "4d1f71c0-1896-4989-c05e-7f897b3ed7de",
        "colab": {
          "base_uri": "https://localhost:8080/"
        }
      },
      "outputs": [
        {
          "output_type": "execute_result",
          "data": {
            "text/plain": [
              "['To. X',\n",
              " 'Either Way',\n",
              " 'DIE 4 YOU',\n",
              " 'Must Have Love',\n",
              " 'Still With You',\n",
              " 'Yes or No',\n",
              " '미워 (Ego)',\n",
              " 'Merry PLLIstmas',\n",
              " '정이라고 하자 (Feat. 10CM)',\n",
              " '빛이 나는 너에게',\n",
              " '오늘도 빛나는 너에게 (To You My Light) (Feat.이라온)',\n",
              " \"괜찮아도 괜찮아 (That's okay)\",\n",
              " '밤 (Night)',\n",
              " '사람 Pt.2 (feat. 아이유)',\n",
              " '벌써 크리스마스',\n",
              " '찰나가 영원이 될 때 (The Eternal Moment)',\n",
              " '비도 오고 그래서 (Feat. 신용재)',\n",
              " 'Love Me Again',\n",
              " 'UNLOVE (prod. HONNE)',\n",
              " '이제 우리 꿈에서만 만나',\n",
              " 'Boat',\n",
              " 'Bye bye my blue',\n",
              " 'Thirsty',\n",
              " '사랑이라 믿었던 것들은 (Feat. 이수현)',\n",
              " 'Vancouver',\n",
              " 'Beautiful',\n",
              " 'Take Two',\n",
              " '헤픈 우연',\n",
              " 'Melt Away',\n",
              " '너를 생각해',\n",
              " 'Square (2017)',\n",
              " '바람기억',\n",
              " 'instagram',\n",
              " '보고싶었어',\n",
              " 'Slow Dancing',\n",
              " '딱 10CM만',\n",
              " 'D (half moon) (Feat. 개코)',\n",
              " '...사랑했잖아...',\n",
              " 'All I Wanna Do (K) (Feat. Hoody, Loco)',\n",
              " '흠칫 (Hmm-cheat)',\n",
              " '벌써 일년',\n",
              " 'Rush Hour (Feat. j-hope of BTS)',\n",
              " 'Dear. PLLI',\n",
              " '미안해',\n",
              " 'Sugarcoat (NATTY Solo)',\n",
              " 'Click Like (Prod. Crush) (Feat. Paul Blanco)',\n",
              " '한숨',\n",
              " '무제(無題) (Untitled, 2014)',\n",
              " '비',\n",
              " '그댄 달라요 (말하고 싶은 비밀 X 권진아)']"
            ]
          },
          "metadata": {},
          "execution_count": 12
        }
      ],
      "source": [
        "### 곡명 가져오기\n",
        "\n",
        "title = driver.find_elements(By.CLASS_NAME, 'ellipsis.rank01')\n",
        "\n",
        "# 1번 ~ 50번\n",
        "title1 = []\n",
        "for i in title:\n",
        "    title1.append(i.text)\n",
        "\n",
        "# del title2[0]\n",
        "del title1[50:]\n",
        "\n",
        "title1"
      ]
    },
    {
      "cell_type": "code",
      "execution_count": null,
      "id": "bb017cb5-7a62-4bba-a333-310c167f6afb",
      "metadata": {
        "id": "bb017cb5-7a62-4bba-a333-310c167f6afb",
        "outputId": "3e77f675-ffb5-4947-d92a-4f080828d0c7",
        "colab": {
          "base_uri": "https://localhost:8080/"
        }
      },
      "outputs": [
        {
          "output_type": "execute_result",
          "data": {
            "text/plain": [
              "50"
            ]
          },
          "metadata": {},
          "execution_count": 13
        }
      ],
      "source": [
        "len(title1)"
      ]
    },
    {
      "cell_type": "markdown",
      "id": "cdf04a00-52e4-43e3-b7fd-fe584b483a4b",
      "metadata": {
        "id": "cdf04a00-52e4-43e3-b7fd-fe584b483a4b"
      },
      "source": [
        "#### **🎤 가수명**"
      ]
    },
    {
      "cell_type": "code",
      "execution_count": null,
      "id": "2ae078b4-f85c-4b1a-9f8c-9fc76a6c63b8",
      "metadata": {
        "id": "2ae078b4-f85c-4b1a-9f8c-9fc76a6c63b8",
        "outputId": "c33be81f-2560-49ce-90f4-4c57cffa8b4c",
        "colab": {
          "base_uri": "https://localhost:8080/"
        }
      },
      "outputs": [
        {
          "output_type": "execute_result",
          "data": {
            "text/plain": [
              "['태연 (TAEYEON)',\n",
              " 'IVE (아이브)',\n",
              " 'DEAN',\n",
              " 'SG 워너비, 브라운아이드걸스',\n",
              " '정국',\n",
              " '정국',\n",
              " 'Crush',\n",
              " 'PLAVE',\n",
              " 'BIG Naughty (서동현)',\n",
              " '던 (DAWN)',\n",
              " '마크툽 (MAKTUB)',\n",
              " '디오 (D.O.)',\n",
              " 'dori',\n",
              " 'Agust D',\n",
              " '케이윌, 소유 (SOYOU), 보이프렌드, 몬스타엑스, 우주소녀, 유승우, 브라더수, 마인드유, 듀에토, 정세운',\n",
              " '마크툽 (MAKTUB)',\n",
              " '헤이즈 (Heize)',\n",
              " 'V',\n",
              " 'Zion.T',\n",
              " 'Yyeon',\n",
              " '죠지',\n",
              " '백예린 (Yerin Baek)',\n",
              " 'aespa',\n",
              " 'BIG Naughty (서동현)',\n",
              " 'BIG Naughty (서동현)',\n",
              " 'Crush',\n",
              " '방탄소년단',\n",
              " '헤이즈 (Heize)',\n",
              " '태연 (TAEYEON)',\n",
              " '주시크 (Joosiq)',\n",
              " '백예린 (Yerin Baek)',\n",
              " '나얼',\n",
              " 'DEAN',\n",
              " 'WSG워너비(4FIRE)',\n",
              " 'V',\n",
              " '10CM, BIG Naughty (서동현)',\n",
              " 'DEAN',\n",
              " '린',\n",
              " '박재범',\n",
              " 'Crush',\n",
              " '브라운 아이즈',\n",
              " 'Crush',\n",
              " 'PLAVE',\n",
              " '양다일',\n",
              " 'KISS OF LIFE',\n",
              " 'Crush',\n",
              " '이하이',\n",
              " 'G-DRAGON',\n",
              " '폴킴',\n",
              " '권진아']"
            ]
          },
          "metadata": {},
          "execution_count": 14
        }
      ],
      "source": [
        "### 가수명 가져오기\n",
        "\n",
        "singer = driver.find_elements(By.CLASS_NAME, 'ellipsis.rank02')\n",
        "\n",
        "singer1 = []\n",
        "for i in singer:\n",
        "    singer1.append(i.text)\n",
        "\n",
        "\n",
        "# del singer2[0]\n",
        "del singer1[50:]\n",
        "\n",
        "singer1"
      ]
    },
    {
      "cell_type": "code",
      "execution_count": null,
      "id": "b609beb7-ca21-46ad-bdc7-99408274a92a",
      "metadata": {
        "id": "b609beb7-ca21-46ad-bdc7-99408274a92a",
        "outputId": "08c09fd2-91d9-42b0-dbb8-9292a1121c54",
        "colab": {
          "base_uri": "https://localhost:8080/"
        }
      },
      "outputs": [
        {
          "output_type": "execute_result",
          "data": {
            "text/plain": [
              "50"
            ]
          },
          "metadata": {},
          "execution_count": 15
        }
      ],
      "source": [
        "len(singer1)"
      ]
    },
    {
      "cell_type": "markdown",
      "id": "4fd29893-7e5f-4c63-aee2-f937bb3510ae",
      "metadata": {
        "id": "4fd29893-7e5f-4c63-aee2-f937bb3510ae"
      },
      "source": [
        "#### **🎼 가사 가져오기**"
      ]
    },
    {
      "cell_type": "markdown",
      "id": "4f33fb73-7569-4187-9d4c-383cd1bdafe6",
      "metadata": {
        "id": "4f33fb73-7569-4187-9d4c-383cd1bdafe6"
      },
      "source": [
        "**상세 정보 페이지 코드**"
      ]
    },
    {
      "cell_type": "code",
      "execution_count": null,
      "id": "99098957-e139-42f5-bdde-ad5928088d0f",
      "metadata": {
        "id": "99098957-e139-42f5-bdde-ad5928088d0f",
        "outputId": "7b6a3ed8-1315-4c43-8d70-d1cfa95c7bfd",
        "colab": {
          "base_uri": "https://localhost:8080/"
        }
      },
      "outputs": [
        {
          "output_type": "execute_result",
          "data": {
            "text/plain": [
              "['37003911',\n",
              " '36824901',\n",
              " '36981508',\n",
              " '1489805',\n",
              " '36581408',\n",
              " '36936168',\n",
              " '36964267',\n",
              " '37048498',\n",
              " '34927767',\n",
              " '36365073',\n",
              " '31853557',\n",
              " '31893681',\n",
              " '36705594',\n",
              " '36351997',\n",
              " '31469945',\n",
              " '33976677',\n",
              " '30492279',\n",
              " '36691823',\n",
              " '37033290',\n",
              " '35953743',\n",
              " '30732377',\n",
              " '8233373',\n",
              " '36416116',\n",
              " '36224655',\n",
              " '35018129',\n",
              " '30157753',\n",
              " '36516320',\n",
              " '33503722',\n",
              " '37003912',\n",
              " '33978183',\n",
              " '32243273',\n",
              " '3910821',\n",
              " '30806580',\n",
              " '35383398',\n",
              " '36694468',\n",
              " '35668899',\n",
              " '8109412',\n",
              " '519620',\n",
              " '30049271',\n",
              " '36964258',\n",
              " '19807',\n",
              " '35665282',\n",
              " '36729689',\n",
              " '30809895',\n",
              " '36545875',\n",
              " '36741987',\n",
              " '8086947',\n",
              " '30461396',\n",
              " '8235260',\n",
              " '37024667']"
            ]
          },
          "metadata": {},
          "execution_count": 16
        }
      ],
      "source": [
        "songTagList = driver.find_elements(By.ID, 'lst50')\n",
        "\n",
        "number50 = []\n",
        "for i in songTagList:\n",
        "    # 'input_check' 클래스를 가진 자식 요소를 찾아서 'value' 속성을 가져옵니다.\n",
        "    song_id = i.find_element(By.CLASS_NAME, 'input_check').get_attribute('value')\n",
        "    number50.append(song_id)\n",
        "number50"
      ]
    },
    {
      "cell_type": "code",
      "execution_count": null,
      "id": "dac795f3-8427-4b55-a99b-e3b960152bf2",
      "metadata": {
        "id": "dac795f3-8427-4b55-a99b-e3b960152bf2",
        "outputId": "3706e2f3-55d7-4c70-dc19-089cd48d2d02",
        "colab": {
          "base_uri": "https://localhost:8080/"
        }
      },
      "outputs": [
        {
          "output_type": "execute_result",
          "data": {
            "text/plain": [
              "50"
            ]
          },
          "metadata": {},
          "execution_count": 17
        }
      ],
      "source": [
        "len(number50)"
      ]
    },
    {
      "cell_type": "markdown",
      "id": "5369f546-8b11-47b4-881b-cf9236e050ec",
      "metadata": {
        "id": "5369f546-8b11-47b4-881b-cf9236e050ec"
      },
      "source": [
        "**가사 가져오기**"
      ]
    },
    {
      "cell_type": "code",
      "execution_count": null,
      "id": "21607d58-0256-47b7-9eef-6638c3a0f026",
      "metadata": {
        "id": "21607d58-0256-47b7-9eef-6638c3a0f026"
      },
      "outputs": [],
      "source": [
        "lyric50 = []\n",
        "\n",
        "for i in number50:\n",
        "    song_url = \"https://www.melon.com/song/detail.htm?songId=\" + str(i)\n",
        "    driver.get(song_url)\n",
        "\n",
        "    try:\n",
        "        # WebDriverWait를 사용하여 요소가 나타날 때까지 대기\n",
        "        wait = WebDriverWait(driver, 10)\n",
        "        lyric = wait.until(EC.presence_of_element_located((By.ID, \"d_video_summary\")))\n",
        "\n",
        "        # 가사가 한 줄로 표시되어 있는 경우 <br> 태그로 구분하여 리스트에 추가\n",
        "        lyric_text = lyric.text.replace('<br>', ' ').replace('\\n', ' ')\n",
        "        lyric50.append(lyric_text)\n",
        "\n",
        "    except Exception as e:\n",
        "        print(f\"가사를 가져오는 중 오류 발생: {e}\")\n",
        "        lyric50.append(\"가사를 찾을 수 없음\")"
      ]
    },
    {
      "cell_type": "code",
      "execution_count": null,
      "id": "0c5a45cb-5574-443a-bed3-79b7ea26951e",
      "metadata": {
        "id": "0c5a45cb-5574-443a-bed3-79b7ea26951e",
        "outputId": "5c88c802-a097-41dc-bde1-d8dcba3a7560",
        "colab": {
          "base_uri": "https://localhost:8080/"
        }
      },
      "outputs": [
        {
          "output_type": "execute_result",
          "data": {
            "text/plain": [
              "50"
            ]
          },
          "metadata": {},
          "execution_count": 19
        }
      ],
      "source": [
        "len(lyric50)"
      ]
    },
    {
      "cell_type": "markdown",
      "metadata": {
        "id": "EUW0g5QpRCra"
      },
      "source": [
        "### **- 51위 ~ 100위**"
      ],
      "id": "EUW0g5QpRCra"
    },
    {
      "cell_type": "code",
      "source": [
        "### 사이트 재접속\n",
        "# url 자체는 차트 페이지와 메인 페이지가 동일 -> 직접 클릭해서 접속해야 함\n",
        "\n",
        "## Chrome 웹드라이버 초기화\n",
        "CHROMEDRIVER_PATH = \"C:\\waterbean\\jupyter\\Hmm2Song\\chromedriver.exe\"\n",
        "options = webdriver.ChromeOptions()\n",
        "service = ChromeService(executable_path=CHROMEDRIVER_PATH)\n",
        "driver = webdriver.Chrome(service=service, options=options)\n",
        "driver.maximize_window() # 크롬창 크기 최대\n",
        "\n",
        "## 사이트 접속\n",
        "driver.get(\"https://www.melon.com/\")\n",
        "time.sleep(2)\n",
        "\n",
        "## 멜론차트 클릭\n",
        "driver.find_elements(By.CSS_SELECTOR,\".menu_bg.menu01\")[0].click()\n",
        "time.sleep(2)  # 2초 정지\n",
        "\n",
        "\n",
        "## 차트 파인더 클릭\n",
        "driver.find_element(By.XPATH, '//*[@id=\"gnb_menu\"]/ul[1]/li[1]/div/div/button/span').click()\n",
        "\n",
        "## 월간차트 클릭\n",
        "driver.find_element(By.XPATH, '//*[@id=\"d_chart_search\"]/div/h4[2]/a').click()\n",
        "time.sleep(2)\n",
        "\n",
        "## 연대선택: 2020년대\n",
        "driver.find_element(By.XPATH, '//*[@id=\"d_chart_search\"]/div/div/div[1]/div[1]/ul/li[1]/span/label').click()\n",
        "time.sleep(2)\n",
        "\n",
        "## 연도선택: 2023년\n",
        "driver.find_element(By.XPATH, '//*[@id=\"d_chart_search\"]/div/div/div[2]/div[1]/ul/li[1]/span/label').click()\n",
        "time.sleep(2)\n",
        "\n",
        "## 월 선택: 12월\n",
        "driver.find_element(By.XPATH, '//*[@id=\"d_chart_search\"]/div/div/div[3]/div[1]/ul/li[12]/span/label').click()\n",
        "time.sleep(2)\n",
        "\n",
        "## 장르 선택: 국내 R&B/Soul\n",
        "driver.find_element(By.XPATH, '//*[@id=\"d_chart_search\"]/div/div/div[5]/div[1]/ul/li[7]/span/label').click()\n",
        "time.sleep(2)\n",
        "\n",
        "## 검색버튼 클릭\n",
        "driver.find_element(By.XPATH,'//*[@id=\"d_srch_form\"]/div[2]/button/span/span').click()\n",
        "time.sleep(2)\n",
        "\n",
        "## 51위 ~ 100위 페이지로 넘어가기\n",
        "driver.find_element(By.XPATH, '//*[@id=\"frm\"]/div[2]/span/a').click()"
      ],
      "metadata": {
        "id": "iA6IwQdRgHoa"
      },
      "id": "iA6IwQdRgHoa",
      "execution_count": null,
      "outputs": []
    },
    {
      "cell_type": "markdown",
      "metadata": {
        "id": "prfoEP0GRCra"
      },
      "source": [
        "#### **🎵 곡명**"
      ],
      "id": "prfoEP0GRCra"
    },
    {
      "cell_type": "code",
      "execution_count": null,
      "metadata": {
        "outputId": "34ad7a1d-509e-4e15-df7f-9a6ebdfb2194",
        "colab": {
          "base_uri": "https://localhost:8080/"
        },
        "id": "oqHFiqImRCrb"
      },
      "outputs": [
        {
          "output_type": "execute_result",
          "data": {
            "text/plain": [
              "['Guilty',\n",
              " '너를 위해',\n",
              " 'GANADARA (Feat. 아이유)',\n",
              " '그런 일은',\n",
              " '체념',\n",
              " 'Somebody',\n",
              " '밤이 되니까',\n",
              " '낭만교향곡 (Feat. CHANGMO, 박재범)',\n",
              " '한강에서 (Feat. BIG Naughty)',\n",
              " 'Be There For Me',\n",
              " '밝게 빛나는 별이 되어 비춰줄게',\n",
              " '첫눈동화 (My First Snow)',\n",
              " '크리스마스데이 (Christmas Day)',\n",
              " '친구라도 될 걸 그랬어',\n",
              " '친구로 지내다 보면 (Feat. 김민석 of 멜로망스)',\n",
              " '잊어버리지마 (Feat. 태연)',\n",
              " '하나,둘 (Feat. 펀치 (Punch))',\n",
              " '떠나 (Prod. PATEKO (파테코))',\n",
              " '사랑이 잘 (With 오혁)',\n",
              " '우주를 건너',\n",
              " '같은 시간 속의 너',\n",
              " 'Fabulous',\n",
              " '썸 (Feat. 릴보이 Of 긱스)',\n",
              " '넌 쉽게 말했지만',\n",
              " '귀로',\n",
              " 'Dream (Prod. by 박근태)',\n",
              " '와르르 ♥',\n",
              " 'Hurt',\n",
              " '아무래도 난',\n",
              " '도망가자 (Run With Me)',\n",
              " '팔레트 (Feat. G-DRAGON)',\n",
              " '그건 아마 우리의 잘못은 아닐 거야',\n",
              " 'Rainy Days',\n",
              " 'Polaroid Love',\n",
              " '0310',\n",
              " '갖고놀래 (Feat. 다이나믹 듀오)',\n",
              " '와줘..',\n",
              " '내사람',\n",
              " '눈, 코, 입',\n",
              " '그런 일은',\n",
              " '다음 겨울에도 여기서 만나',\n",
              " '아이(I) (Feat. DAWN)',\n",
              " '정말 사랑했을까',\n",
              " 'For You (Feat. Crush)',\n",
              " '꽃 길',\n",
              " '너는 나 나는 너',\n",
              " '나 홀로 집에 (Home Alone)',\n",
              " '오늘 취하면 (Feat. 창모) (Prod. SUGA)',\n",
              " '연',\n",
              " \"2 O' CLOCK\"]"
            ]
          },
          "metadata": {},
          "execution_count": 22
        }
      ],
      "source": [
        "### 곡명 가져오기\n",
        "\n",
        "title = driver.find_elements(By.CLASS_NAME, 'ellipsis.rank01')\n",
        "\n",
        "# 51번 ~ 100번\n",
        "title2 = []\n",
        "for i in title:\n",
        "    title2.append(i.text)\n",
        "\n",
        "# del title2[0]\n",
        "del title2[:50]\n",
        "\n",
        "title2"
      ],
      "id": "oqHFiqImRCrb"
    },
    {
      "cell_type": "code",
      "execution_count": null,
      "metadata": {
        "outputId": "f37410e3-ffcd-4ebb-925b-d384d46a35c9",
        "colab": {
          "base_uri": "https://localhost:8080/"
        },
        "id": "x443CS9sRCrb"
      },
      "outputs": [
        {
          "output_type": "execute_result",
          "data": {
            "text/plain": [
              "50"
            ]
          },
          "metadata": {},
          "execution_count": 23
        }
      ],
      "source": [
        "len(title2)"
      ],
      "id": "x443CS9sRCrb"
    },
    {
      "cell_type": "markdown",
      "metadata": {
        "id": "8wiOcp09RCrb"
      },
      "source": [
        "#### **🎤 가수명**"
      ],
      "id": "8wiOcp09RCrb"
    },
    {
      "cell_type": "code",
      "execution_count": null,
      "metadata": {
        "outputId": "947626b9-9cb2-42da-a705-c490e53f1cb1",
        "colab": {
          "base_uri": "https://localhost:8080/"
        },
        "id": "h532oaB6RCrb"
      },
      "outputs": [
        {
          "output_type": "execute_result",
          "data": {
            "text/plain": [
              "['태민 (TAEMIN)',\n",
              " '첸 (CHEN), 백현 (BAEKHYUN), 시우민 (XIUMIN)',\n",
              " '박재범',\n",
              " 'Paul Blanco',\n",
              " '빅마마',\n",
              " '정국',\n",
              " '펀치 (Punch)',\n",
              " 'BIG Naughty (서동현)',\n",
              " '폴킴',\n",
              " 'NCT 127',\n",
              " '송이한',\n",
              " '마크툽 (MAKTUB)',\n",
              " '케이윌, 소유 (SOYOU), 보이프렌드, 몬스타엑스, 우주소녀, 매드클라운, 정기고, #Gun, 유승우, 브라더수, 마인드유, 듀에토, 정세운, 이광현',\n",
              " '거미',\n",
              " 'BIG Naughty (서동현)',\n",
              " 'Crush',\n",
              " '김승민',\n",
              " 'THAMA, Jayci yucca (제이씨 유카)',\n",
              " '아이유',\n",
              " '백예린 (Yerin Baek)',\n",
              " '나얼',\n",
              " '태연 (TAEYEON)',\n",
              " '소유 (SOYOU), 정기고',\n",
              " '소수빈',\n",
              " '나얼',\n",
              " '수지 (Suzy), 백현 (BAEKHYUN)',\n",
              " 'Colde (콜드)',\n",
              " 'NewJeans',\n",
              " '주시크 (Joosiq)',\n",
              " '선우정아',\n",
              " '아이유',\n",
              " '백예린 (Yerin Baek)',\n",
              " 'V',\n",
              " 'ENHYPEN',\n",
              " '백예린 (Yerin Baek)',\n",
              " '범키',\n",
              " '그리즐리 (Grizzly)',\n",
              " 'SG 워너비',\n",
              " '태양',\n",
              " '박화요비',\n",
              " '유희열, 유재석, 정재형, 루시드폴, 페퍼톤스 (PEPPERTONES), 박새별, 샘김 (Sam Kim), 이진아, 권진아, 정승환, 윤석철, 적재, 미주 (MIJOO), 서동환',\n",
              " '박봄 (Park Bom)',\n",
              " '브라운 아이드 소울',\n",
              " '이하이',\n",
              " 'BIGBANG (빅뱅)',\n",
              " '지코 (ZICO)',\n",
              " 'NCT 127',\n",
              " 'SURAN (수란)',\n",
              " '빅마마',\n",
              " 'dori']"
            ]
          },
          "metadata": {},
          "execution_count": 24
        }
      ],
      "source": [
        "### 가수명 가져오기\n",
        "\n",
        "singer = driver.find_elements(By.CLASS_NAME, 'ellipsis.rank02')\n",
        "\n",
        "singer2 = []\n",
        "for i in singer:\n",
        "    singer2.append(i.text)\n",
        "\n",
        "del singer2[:50]\n",
        "\n",
        "singer2"
      ],
      "id": "h532oaB6RCrb"
    },
    {
      "cell_type": "code",
      "execution_count": null,
      "metadata": {
        "outputId": "6a35ab57-f437-4a8e-8a67-936f66f42894",
        "colab": {
          "base_uri": "https://localhost:8080/"
        },
        "id": "Imy64eD6RCrc"
      },
      "outputs": [
        {
          "output_type": "execute_result",
          "data": {
            "text/plain": [
              "50"
            ]
          },
          "metadata": {},
          "execution_count": 25
        }
      ],
      "source": [
        "len(singer2)"
      ],
      "id": "Imy64eD6RCrc"
    },
    {
      "cell_type": "markdown",
      "metadata": {
        "id": "Oq7HZCCfRCrc"
      },
      "source": [
        "#### **🎼 가사 가져오기**"
      ],
      "id": "Oq7HZCCfRCrc"
    },
    {
      "cell_type": "markdown",
      "metadata": {
        "id": "5wEuZ1PbRCrc"
      },
      "source": [
        "**상세 정보 페이지 코드**"
      ],
      "id": "5wEuZ1PbRCrc"
    },
    {
      "cell_type": "code",
      "execution_count": null,
      "metadata": {
        "outputId": "8409f3cc-7456-4a91-de71-7b35d98dfc41",
        "colab": {
          "base_uri": "https://localhost:8080/"
        },
        "id": "v9wnd6l-RCrc"
      },
      "outputs": [
        {
          "output_type": "execute_result",
          "data": {
            "text/plain": [
              "['36914431',\n",
              " '9611490',\n",
              " '34752700',\n",
              " '36743809',\n",
              " '420534',\n",
              " '36936171',\n",
              " '30659630',\n",
              " '35268787',\n",
              " '36472351',\n",
              " '37077260',\n",
              " '33167063',\n",
              " '37022414',\n",
              " '30769470',\n",
              " '418598',\n",
              " '36081382',\n",
              " '8026677',\n",
              " '33542479',\n",
              " '35505762',\n",
              " '30349593',\n",
              " '7953958',\n",
              " '5576417',\n",
              " '37003916',\n",
              " '4433490',\n",
              " '37062914',\n",
              " '665226',\n",
              " '8005879',\n",
              " '31843000',\n",
              " '35457531',\n",
              " '34817660',\n",
              " '32251432',\n",
              " '30378156',\n",
              " '31674786',\n",
              " '36694466',\n",
              " '34518500',\n",
              " '32243275',\n",
              " '4205993',\n",
              " '37008930',\n",
              " '1500196',\n",
              " '4671151',\n",
              " '492084',\n",
              " '34345327',\n",
              " '36988996',\n",
              " '485716',\n",
              " '33142705',\n",
              " '30948698',\n",
              " '8028724',\n",
              " '37077261',\n",
              " '30390068',\n",
              " '1469342',\n",
              " '34587210']"
            ]
          },
          "metadata": {},
          "execution_count": 26
        }
      ],
      "source": [
        "songTagList = driver.find_elements(By.ID, 'lst100')\n",
        "\n",
        "number100 = []\n",
        "for i in songTagList:\n",
        "    # 'input_check' 클래스를 가진 자식 요소를 찾아서 'value' 속성을 가져옵니다.\n",
        "    song_id = i.find_element(By.CLASS_NAME, 'input_check').get_attribute('value')\n",
        "    number100.append(song_id)\n",
        "number100"
      ],
      "id": "v9wnd6l-RCrc"
    },
    {
      "cell_type": "code",
      "execution_count": null,
      "metadata": {
        "outputId": "1cb3b436-f3c5-4a4b-f2ee-417f719dc01f",
        "colab": {
          "base_uri": "https://localhost:8080/"
        },
        "id": "P_GQMVeORCrc"
      },
      "outputs": [
        {
          "output_type": "execute_result",
          "data": {
            "text/plain": [
              "50"
            ]
          },
          "metadata": {},
          "execution_count": 27
        }
      ],
      "source": [
        "len(number100)"
      ],
      "id": "P_GQMVeORCrc"
    },
    {
      "cell_type": "markdown",
      "metadata": {
        "id": "XZre0lVpRCrc"
      },
      "source": [
        "**가사 가져오기**"
      ],
      "id": "XZre0lVpRCrc"
    },
    {
      "cell_type": "code",
      "execution_count": null,
      "metadata": {
        "id": "MF3jF6HqRCrc"
      },
      "outputs": [],
      "source": [
        "lyric100 = []\n",
        "\n",
        "for i in number100:\n",
        "    song_url = \"https://www.melon.com/song/detail.htm?songId=\" + str(i)\n",
        "    driver.get(song_url)\n",
        "\n",
        "    try:\n",
        "        # WebDriverWait를 사용하여 요소가 나타날 때까지 대기\n",
        "        wait = WebDriverWait(driver, 10)\n",
        "        lyric = wait.until(EC.presence_of_element_located((By.ID, \"d_video_summary\")))\n",
        "\n",
        "        # 가사가 한 줄로 표시되어 있는 경우 <br> 태그로 구분, 공백은 스페이스 처리하여 리스트에 추가\n",
        "        lyric_text = lyric.text.replace('<br>', ' ').replace('\\n', ' ')\n",
        "        lyric100.append(lyric_text)\n",
        "\n",
        "    except Exception as e:\n",
        "        print(f\"가사를 가져오는 중 오류 발생: {e}\")\n",
        "        lyric100.append(\"가사를 찾을 수 없음\")"
      ],
      "id": "MF3jF6HqRCrc"
    },
    {
      "cell_type": "code",
      "execution_count": null,
      "metadata": {
        "outputId": "fa5235ed-9d9b-4889-ca9b-a89967b819b9",
        "colab": {
          "base_uri": "https://localhost:8080/"
        },
        "id": "hCajDJ7BRCrd"
      },
      "outputs": [
        {
          "output_type": "execute_result",
          "data": {
            "text/plain": [
              "50"
            ]
          },
          "metadata": {},
          "execution_count": 29
        }
      ],
      "source": [
        "len(lyric100)"
      ],
      "id": "hCajDJ7BRCrd"
    },
    {
      "cell_type": "markdown",
      "id": "b0880936-bb1c-418d-966f-f1220e87b31a",
      "metadata": {
        "id": "b0880936-bb1c-418d-966f-f1220e87b31a"
      },
      "source": [
        "## **5. 데이터프레임으로 저장**"
      ]
    },
    {
      "cell_type": "code",
      "execution_count": null,
      "id": "9351ee5e-dc4e-4707-80a2-ea467785f148",
      "metadata": {
        "id": "9351ee5e-dc4e-4707-80a2-ea467785f148",
        "outputId": "f0649aaa-51ae-415a-86cb-29e70649f886",
        "colab": {
          "base_uri": "https://localhost:8080/",
          "height": 423
        }
      },
      "outputs": [
        {
          "output_type": "execute_result",
          "data": {
            "text/plain": [
              "                             Title            Singer  \\\n",
              "0                            To. X      태연 (TAEYEON)   \n",
              "1                       Either Way         IVE (아이브)   \n",
              "2                        DIE 4 YOU              DEAN   \n",
              "3                   Must Have Love  SG 워너비, 브라운아이드걸스   \n",
              "4                   Still With You                정국   \n",
              "..                             ...               ...   \n",
              "95                       너는 나 나는 너         지코 (ZICO)   \n",
              "96            나 홀로 집에 (Home Alone)           NCT 127   \n",
              "97  오늘 취하면 (Feat. 창모) (Prod. SUGA)        SURAN (수란)   \n",
              "98                               연               빅마마   \n",
              "99                      2 O' CLOCK              dori   \n",
              "\n",
              "                                                Lyric  \n",
              "0   처음 본 널 기억해 We skipped the small talk 바로 다음 단계였...  \n",
              "1   누가 내 말투가 재수없대 잘난 척만 한대 또 누구는 내가 너무 착하대 바보같을 정도...  \n",
              "2   I don’t wanna go Till everything comes crashin...  \n",
              "3   함께 있단 이유로 행복했었던 우리들의 겨울날의 소중한 기억들 좋은 날엔 언제나 네가...  \n",
              "4   날 스치는 그대의 옅은 그 목소리 내 이름을 한 번만 더 불러주세요 얼어버린 노을 ...  \n",
              "..                                                ...  \n",
              "95  넌 나고 난 너야 난 너고 넌 나야 마음이 같다면 둘은 서로가 될 거야 넌 나고 난...  \n",
              "96  이 겨울에 난 Home alone (alone alone) 내 포근한 방에서 혼자 ...  \n",
              "97  아직 잊지 못하고 아주 달콤히 맴돌아 나 꿈인 줄 모르고 star 헤매이고 있어 그...  \n",
              "98  지금 어디있는지 아프지는 않는지    가슴 속에 담아 둔 말  전하고는 싶은데  도...  \n",
              "99  둘이서 너와 서로 눈치 봐 또 시간은 멈출 줄을 몰라 너와 같이 나 서로 맞춰봐도 ...  \n",
              "\n",
              "[100 rows x 3 columns]"
            ],
            "text/html": [
              "<div>\n",
              "<style scoped>\n",
              "    .dataframe tbody tr th:only-of-type {\n",
              "        vertical-align: middle;\n",
              "    }\n",
              "\n",
              "    .dataframe tbody tr th {\n",
              "        vertical-align: top;\n",
              "    }\n",
              "\n",
              "    .dataframe thead th {\n",
              "        text-align: right;\n",
              "    }\n",
              "</style>\n",
              "<table border=\"1\" class=\"dataframe\">\n",
              "  <thead>\n",
              "    <tr style=\"text-align: right;\">\n",
              "      <th></th>\n",
              "      <th>Title</th>\n",
              "      <th>Singer</th>\n",
              "      <th>Lyric</th>\n",
              "    </tr>\n",
              "  </thead>\n",
              "  <tbody>\n",
              "    <tr>\n",
              "      <th>0</th>\n",
              "      <td>To. X</td>\n",
              "      <td>태연 (TAEYEON)</td>\n",
              "      <td>처음 본 널 기억해 We skipped the small talk 바로 다음 단계였...</td>\n",
              "    </tr>\n",
              "    <tr>\n",
              "      <th>1</th>\n",
              "      <td>Either Way</td>\n",
              "      <td>IVE (아이브)</td>\n",
              "      <td>누가 내 말투가 재수없대 잘난 척만 한대 또 누구는 내가 너무 착하대 바보같을 정도...</td>\n",
              "    </tr>\n",
              "    <tr>\n",
              "      <th>2</th>\n",
              "      <td>DIE 4 YOU</td>\n",
              "      <td>DEAN</td>\n",
              "      <td>I don’t wanna go Till everything comes crashin...</td>\n",
              "    </tr>\n",
              "    <tr>\n",
              "      <th>3</th>\n",
              "      <td>Must Have Love</td>\n",
              "      <td>SG 워너비, 브라운아이드걸스</td>\n",
              "      <td>함께 있단 이유로 행복했었던 우리들의 겨울날의 소중한 기억들 좋은 날엔 언제나 네가...</td>\n",
              "    </tr>\n",
              "    <tr>\n",
              "      <th>4</th>\n",
              "      <td>Still With You</td>\n",
              "      <td>정국</td>\n",
              "      <td>날 스치는 그대의 옅은 그 목소리 내 이름을 한 번만 더 불러주세요 얼어버린 노을 ...</td>\n",
              "    </tr>\n",
              "    <tr>\n",
              "      <th>...</th>\n",
              "      <td>...</td>\n",
              "      <td>...</td>\n",
              "      <td>...</td>\n",
              "    </tr>\n",
              "    <tr>\n",
              "      <th>95</th>\n",
              "      <td>너는 나 나는 너</td>\n",
              "      <td>지코 (ZICO)</td>\n",
              "      <td>넌 나고 난 너야 난 너고 넌 나야 마음이 같다면 둘은 서로가 될 거야 넌 나고 난...</td>\n",
              "    </tr>\n",
              "    <tr>\n",
              "      <th>96</th>\n",
              "      <td>나 홀로 집에 (Home Alone)</td>\n",
              "      <td>NCT 127</td>\n",
              "      <td>이 겨울에 난 Home alone (alone alone) 내 포근한 방에서 혼자 ...</td>\n",
              "    </tr>\n",
              "    <tr>\n",
              "      <th>97</th>\n",
              "      <td>오늘 취하면 (Feat. 창모) (Prod. SUGA)</td>\n",
              "      <td>SURAN (수란)</td>\n",
              "      <td>아직 잊지 못하고 아주 달콤히 맴돌아 나 꿈인 줄 모르고 star 헤매이고 있어 그...</td>\n",
              "    </tr>\n",
              "    <tr>\n",
              "      <th>98</th>\n",
              "      <td>연</td>\n",
              "      <td>빅마마</td>\n",
              "      <td>지금 어디있는지 아프지는 않는지    가슴 속에 담아 둔 말  전하고는 싶은데  도...</td>\n",
              "    </tr>\n",
              "    <tr>\n",
              "      <th>99</th>\n",
              "      <td>2 O' CLOCK</td>\n",
              "      <td>dori</td>\n",
              "      <td>둘이서 너와 서로 눈치 봐 또 시간은 멈출 줄을 몰라 너와 같이 나 서로 맞춰봐도 ...</td>\n",
              "    </tr>\n",
              "  </tbody>\n",
              "</table>\n",
              "<p>100 rows × 3 columns</p>\n",
              "</div>"
            ]
          },
          "metadata": {},
          "execution_count": 30
        }
      ],
      "source": [
        "# DataFrame 생성\n",
        "\n",
        "rnb = pd.DataFrame({\n",
        "    'Title': title1+title2,\n",
        "    'Singer': singer1+singer2,\n",
        "    'Lyric': lyric50+lyric100\n",
        "})\n",
        "rnb"
      ]
    },
    {
      "cell_type": "code",
      "source": [
        "rnb.info()"
      ],
      "metadata": {
        "colab": {
          "base_uri": "https://localhost:8080/"
        },
        "id": "ynTDeI0ZnFUk",
        "outputId": "320f99ed-faf0-4d06-f979-34c0b387bc28"
      },
      "id": "ynTDeI0ZnFUk",
      "execution_count": null,
      "outputs": [
        {
          "output_type": "stream",
          "name": "stdout",
          "text": [
            "<class 'pandas.core.frame.DataFrame'>\n",
            "RangeIndex: 100 entries, 0 to 99\n",
            "Data columns (total 3 columns):\n",
            " #   Column  Non-Null Count  Dtype \n",
            "---  ------  --------------  ----- \n",
            " 0   Title   100 non-null    object\n",
            " 1   Singer  100 non-null    object\n",
            " 2   Lyric   100 non-null    object\n",
            "dtypes: object(3)\n",
            "memory usage: 2.5+ KB\n"
          ]
        }
      ]
    },
    {
      "cell_type": "code",
      "execution_count": null,
      "id": "fc05a9c9-217c-40d4-a817-5a6d23e261e7",
      "metadata": {
        "id": "fc05a9c9-217c-40d4-a817-5a6d23e261e7"
      },
      "outputs": [],
      "source": [
        "rnb.to_csv(\"./RnB_Soul.csv\", index = False, encoding='utf-8')"
      ]
    },
    {
      "cell_type": "markdown",
      "metadata": {
        "id": "26-eHkMin0zA"
      },
      "source": [
        "# **Indie**"
      ],
      "id": "26-eHkMin0zA"
    },
    {
      "cell_type": "markdown",
      "metadata": {
        "id": "0zQMOOlPn0zK"
      },
      "source": [
        "## **2. 크롬드라이버가 url 접속하도록 하기**"
      ],
      "id": "0zQMOOlPn0zK"
    },
    {
      "cell_type": "code",
      "execution_count": null,
      "metadata": {
        "id": "n6wAKhTgn0zK"
      },
      "outputs": [],
      "source": [
        "# Chrome 웹드라이버 초기화\n",
        "CHROMEDRIVER_PATH = \"C:\\waterbean\\jupyter\\Hmm2Song\\chromedriver.exe\"\n",
        "options = webdriver.ChromeOptions()\n",
        "service = ChromeService(executable_path=CHROMEDRIVER_PATH)\n",
        "driver = webdriver.Chrome(service=service, options=options)\n",
        "driver.maximize_window() # 크롬창 크기 최대"
      ],
      "id": "n6wAKhTgn0zK"
    },
    {
      "cell_type": "code",
      "execution_count": null,
      "metadata": {
        "id": "nm7KFBShn0zK"
      },
      "outputs": [],
      "source": [
        "## 사이트 접속\n",
        "driver.get(\"https://www.melon.com/\")\n",
        "time.sleep(2)"
      ],
      "id": "nm7KFBShn0zK"
    },
    {
      "cell_type": "markdown",
      "metadata": {
        "id": "do_g57eZn0zK"
      },
      "source": [
        "## **3. 필터 설정**"
      ],
      "id": "do_g57eZn0zK"
    },
    {
      "cell_type": "code",
      "execution_count": null,
      "metadata": {
        "id": "dKFi-4jjn0zK"
      },
      "outputs": [],
      "source": [
        "# 멜론차트 클릭\n",
        "\n",
        "driver.find_elements(By.CSS_SELECTOR,\".menu_bg.menu01\")[0].click()\n",
        "time.sleep(2)  # 2초 정지"
      ],
      "id": "dKFi-4jjn0zK"
    },
    {
      "cell_type": "code",
      "execution_count": null,
      "metadata": {
        "id": "D6f7y4ZZn0zL"
      },
      "outputs": [],
      "source": [
        "# 차트 파인더 클릭\n",
        "\n",
        "driver.find_element(By.XPATH, '//*[@id=\"gnb_menu\"]/ul[1]/li[1]/div/div/button/span').click()"
      ],
      "id": "D6f7y4ZZn0zL"
    },
    {
      "cell_type": "code",
      "execution_count": null,
      "metadata": {
        "id": "MSUIcJzBn0zL"
      },
      "outputs": [],
      "source": [
        "# 월간차트 클릭\n",
        "\n",
        "driver.find_element(By.XPATH, '//*[@id=\"d_chart_search\"]/div/h4[2]/a').click()\n",
        "time.sleep(2)"
      ],
      "id": "MSUIcJzBn0zL"
    },
    {
      "cell_type": "code",
      "execution_count": null,
      "metadata": {
        "id": "93Rrwy4tn0zL"
      },
      "outputs": [],
      "source": [
        "# 연대선택: 2020년대\n",
        "\n",
        "driver.find_element(By.XPATH, '//*[@id=\"d_chart_search\"]/div/div/div[1]/div[1]/ul/li[1]/span/label').click()\n",
        "time.sleep(2)"
      ],
      "id": "93Rrwy4tn0zL"
    },
    {
      "cell_type": "code",
      "execution_count": null,
      "metadata": {
        "id": "seIR7rTBn0zL"
      },
      "outputs": [],
      "source": [
        "# 연도선택: 2023년\n",
        "\n",
        "driver.find_element(By.XPATH, '//*[@id=\"d_chart_search\"]/div/div/div[2]/div[1]/ul/li[1]/span/label').click()\n",
        "time.sleep(2)"
      ],
      "id": "seIR7rTBn0zL"
    },
    {
      "cell_type": "code",
      "execution_count": null,
      "metadata": {
        "id": "xxy5DCb0n0zL"
      },
      "outputs": [],
      "source": [
        "# 월 선택: 12월\n",
        "\n",
        "driver.find_element(By.XPATH, '//*[@id=\"d_chart_search\"]/div/div/div[3]/div[1]/ul/li[12]/span/label').click()\n",
        "time.sleep(2)"
      ],
      "id": "xxy5DCb0n0zL"
    },
    {
      "cell_type": "code",
      "execution_count": null,
      "metadata": {
        "id": "DMPAM01Mn0zL"
      },
      "outputs": [],
      "source": [
        "# 장르 선택: 인디음악\n",
        "\n",
        "driver.find_element(By.XPATH, '//*[@id=\"d_chart_search\"]/div/div/div[5]/div[1]/ul/li[8]/span/label').click() # 8번째 카테고리\n",
        "time.sleep(2)"
      ],
      "id": "DMPAM01Mn0zL"
    },
    {
      "cell_type": "code",
      "execution_count": null,
      "metadata": {
        "id": "lBCT7pADn0zM"
      },
      "outputs": [],
      "source": [
        "# 검색버튼 클릭\n",
        "\n",
        "driver.find_element(By.XPATH,'//*[@id=\"d_srch_form\"]/div[2]/button/span/span').click()"
      ],
      "id": "lBCT7pADn0zM"
    },
    {
      "cell_type": "markdown",
      "metadata": {
        "id": "R9DODc1Fn0zM"
      },
      "source": [
        "## **4. 세부 정보 가져오기**"
      ],
      "id": "R9DODc1Fn0zM"
    },
    {
      "cell_type": "markdown",
      "metadata": {
        "id": "HExOG0Cbn0zM"
      },
      "source": [
        "### **- 1위 ~ 50위**"
      ],
      "id": "HExOG0Cbn0zM"
    },
    {
      "cell_type": "markdown",
      "metadata": {
        "id": "GroRELBKn0zM"
      },
      "source": [
        "#### **🎵 곡명**"
      ],
      "id": "GroRELBKn0zM"
    },
    {
      "cell_type": "code",
      "execution_count": null,
      "metadata": {
        "outputId": "4c10d690-967d-420c-9331-b207c7403551",
        "colab": {
          "base_uri": "https://localhost:8080/"
        },
        "id": "XTctanLcn0zM"
      },
      "outputs": [
        {
          "output_type": "execute_result",
          "data": {
            "text/plain": [
              "['인사',\n",
              " '주저하는 연인들을 위해',\n",
              " '해요 (2022)',\n",
              " '숲',\n",
              " '사랑할 수밖에',\n",
              " '그대가 내 안에 박혔다(그내박)',\n",
              " '좋은 밤 좋은 꿈',\n",
              " '선물',\n",
              " '민들레 (single ver.)',\n",
              " '너의 번호를 누르고 (Prod. 영화처럼)',\n",
              " '그라데이션',\n",
              " '첫사랑',\n",
              " '스노우볼',\n",
              " '잘 지내자, 우리',\n",
              " '오늘도 빛나는 너에게 (To You My Light) (Feat.이라온)',\n",
              " 'yours',\n",
              " '가을밤에 든 생각',\n",
              " '오래된 노래',\n",
              " '나의 사춘기에게',\n",
              " '찰나가 영원이 될 때 (The Eternal Moment)',\n",
              " '이제 우리 꿈에서만 만나',\n",
              " '고백',\n",
              " 'Way Back Home',\n",
              " '뜨거운 여름밤은 가고 남은 건 볼품없지만',\n",
              " '사랑하긴 했었나요 스쳐가는 인연이었나요 짧지않은 우리 함께했던 시간들이 자꾸 내 마음을 가둬두네',\n",
              " '안아줘',\n",
              " '너를 생각해',\n",
              " '스토커',\n",
              " '어떻게 지내 (Prod. By VAN.C)',\n",
              " 'Love story',\n",
              " '여행',\n",
              " '입장차이',\n",
              " '널 떠올리는 중이야',\n",
              " '그댄 행복에 살텐데 (2022)',\n",
              " '우주를 줄게',\n",
              " '찬란한 하루',\n",
              " '폰서트',\n",
              " '새벽에만',\n",
              " '사랑이 아닌 단어로 사랑을 말해요',\n",
              " 'TOMBOY',\n",
              " '서툰 이별을 하려해 (Feat.전상근)',\n",
              " '겨울을 걷는다',\n",
              " 'FRIEND THE END',\n",
              " 'You(=I)',\n",
              " 'Made In Christmas (feat. 이수현 of 악동뮤지션)',\n",
              " '위잉위잉',\n",
              " '첫눈동화 (My First Snow)',\n",
              " '바라봐줘요',\n",
              " '스티커 사진',\n",
              " 'EVERYTHING']"
            ]
          },
          "metadata": {},
          "execution_count": 43
        }
      ],
      "source": [
        "### 곡명 가져오기\n",
        "\n",
        "title = driver.find_elements(By.CLASS_NAME, 'ellipsis.rank01')\n",
        "\n",
        "# 1번 ~ 50번\n",
        "title1 = []\n",
        "for i in title:\n",
        "    title1.append(i.text)\n",
        "\n",
        "# del title2[0]\n",
        "del title1[50:]\n",
        "\n",
        "title1"
      ],
      "id": "XTctanLcn0zM"
    },
    {
      "cell_type": "code",
      "execution_count": null,
      "metadata": {
        "outputId": "6dd3650d-3b82-4c15-ce3f-aaa5dc6d3c8f",
        "colab": {
          "base_uri": "https://localhost:8080/"
        },
        "id": "Dre_yU0an0zN"
      },
      "outputs": [
        {
          "output_type": "execute_result",
          "data": {
            "text/plain": [
              "50"
            ]
          },
          "metadata": {},
          "execution_count": 44
        }
      ],
      "source": [
        "len(title1)"
      ],
      "id": "Dre_yU0an0zN"
    },
    {
      "cell_type": "markdown",
      "metadata": {
        "id": "7LMxphVvn0zN"
      },
      "source": [
        "#### **🎤 가수명**"
      ],
      "id": "7LMxphVvn0zN"
    },
    {
      "cell_type": "code",
      "execution_count": null,
      "metadata": {
        "outputId": "3a497ae9-18bc-4f07-db92-d41d317fd400",
        "colab": {
          "base_uri": "https://localhost:8080/"
        },
        "id": "-WJgkDVKn0zO"
      },
      "outputs": [
        {
          "output_type": "execute_result",
          "data": {
            "text/plain": [
              "['범진',\n",
              " '잔나비',\n",
              " '#안녕',\n",
              " '최유리',\n",
              " '볼빨간사춘기',\n",
              " '순순희(기태)',\n",
              " '너드커넥션 (Nerd Connection)',\n",
              " '멜로망스',\n",
              " '우효',\n",
              " '#안녕',\n",
              " '10CM',\n",
              " '백아',\n",
              " '볼빨간사춘기',\n",
              " '최유리',\n",
              " '마크툽 (MAKTUB)',\n",
              " '데이먼스 이어 (Damons year)',\n",
              " '잔나비',\n",
              " '스탠딩 에그',\n",
              " '볼빨간사춘기',\n",
              " '마크툽 (MAKTUB)',\n",
              " 'Yyeon',\n",
              " '멜로망스',\n",
              " '숀 (SHAUN)',\n",
              " '잔나비',\n",
              " '잔나비',\n",
              " '정준일',\n",
              " '주시크 (Joosiq)',\n",
              " '10CM',\n",
              " '오반',\n",
              " '볼빨간사춘기',\n",
              " '볼빨간사춘기',\n",
              " '오반',\n",
              " 'PATEKO (파테코), Jayci yucca (제이씨 유카), Kid Wine',\n",
              " '최유리',\n",
              " '볼빨간사춘기',\n",
              " '멜로망스',\n",
              " '10CM',\n",
              " '도규',\n",
              " 'siso(시소)',\n",
              " '혁오 (HYUKOH)',\n",
              " '윤토벤',\n",
              " '윤딴딴',\n",
              " '볼빨간사춘기',\n",
              " '볼빨간사춘기',\n",
              " '잔나비',\n",
              " '혁오 (HYUKOH)',\n",
              " '마크툽 (MAKTUB)',\n",
              " '죠지',\n",
              " '21학번',\n",
              " '검정치마']"
            ]
          },
          "metadata": {},
          "execution_count": 45
        }
      ],
      "source": [
        "### 가수명 가져오기\n",
        "\n",
        "singer = driver.find_elements(By.CLASS_NAME, 'ellipsis.rank02')\n",
        "\n",
        "singer1 = []\n",
        "for i in singer:\n",
        "    singer1.append(i.text)\n",
        "\n",
        "\n",
        "# del singer2[0]\n",
        "del singer1[50:]\n",
        "\n",
        "singer1"
      ],
      "id": "-WJgkDVKn0zO"
    },
    {
      "cell_type": "code",
      "execution_count": null,
      "metadata": {
        "outputId": "a7811131-94fb-444b-a6bb-0fa972b88018",
        "colab": {
          "base_uri": "https://localhost:8080/"
        },
        "id": "301ik8sTn0zO"
      },
      "outputs": [
        {
          "output_type": "execute_result",
          "data": {
            "text/plain": [
              "50"
            ]
          },
          "metadata": {},
          "execution_count": 46
        }
      ],
      "source": [
        "len(singer1)"
      ],
      "id": "301ik8sTn0zO"
    },
    {
      "cell_type": "markdown",
      "metadata": {
        "id": "MqvcR-H7n0zP"
      },
      "source": [
        "#### **🎼 가사 가져오기**"
      ],
      "id": "MqvcR-H7n0zP"
    },
    {
      "cell_type": "markdown",
      "metadata": {
        "id": "p_eZnpyQn0zP"
      },
      "source": [
        "**상세 정보 페이지 코드**"
      ],
      "id": "p_eZnpyQn0zP"
    },
    {
      "cell_type": "code",
      "execution_count": null,
      "metadata": {
        "outputId": "ecaac882-b58b-41c8-965f-8e7c2c0fa36f",
        "colab": {
          "base_uri": "https://localhost:8080/"
        },
        "id": "AG_E66msn0zP"
      },
      "outputs": [
        {
          "output_type": "execute_result",
          "data": {
            "text/plain": [
              "['34451383',\n",
              " '31666417',\n",
              " '35252996',\n",
              " '35553933',\n",
              " '37051616',\n",
              " '36062335',\n",
              " '32476250',\n",
              " '30514366',\n",
              " '30444778',\n",
              " '32224166',\n",
              " '35361345',\n",
              " '31343875',\n",
              " '37051615',\n",
              " '33680289',\n",
              " '31853557',\n",
              " '31726704',\n",
              " '33043504',\n",
              " '3894276',\n",
              " '30657311',\n",
              " '33976677',\n",
              " '35953743',\n",
              " '33868791',\n",
              " '31151836',\n",
              " '8298724',\n",
              " '4848555',\n",
              " '3620493',\n",
              " '33978183',\n",
              " '5466962',\n",
              " '32438894',\n",
              " '34930368',\n",
              " '31093710',\n",
              " '37037307',\n",
              " '33722789',\n",
              " '35958308',\n",
              " '9620469',\n",
              " '36481254',\n",
              " '30611680',\n",
              " '36854015',\n",
              " '35582152',\n",
              " '30383949',\n",
              " '31960759',\n",
              " '4451155',\n",
              " '36371558',\n",
              " '9620471',\n",
              " '31513458',\n",
              " '5385974',\n",
              " '37022414',\n",
              " '31624517',\n",
              " '35391594',\n",
              " '8036156']"
            ]
          },
          "metadata": {},
          "execution_count": 47
        }
      ],
      "source": [
        "songTagList = driver.find_elements(By.ID, 'lst50')\n",
        "\n",
        "number50 = []\n",
        "for i in songTagList:\n",
        "    # 'input_check' 클래스를 가진 자식 요소를 찾아서 'value' 속성을 가져옵니다.\n",
        "    song_id = i.find_element(By.CLASS_NAME, 'input_check').get_attribute('value')\n",
        "    number50.append(song_id)\n",
        "number50"
      ],
      "id": "AG_E66msn0zP"
    },
    {
      "cell_type": "code",
      "execution_count": null,
      "metadata": {
        "outputId": "291dddf9-2170-4660-d9e8-b84e9eb996ef",
        "colab": {
          "base_uri": "https://localhost:8080/"
        },
        "id": "jmR59f1kn0zP"
      },
      "outputs": [
        {
          "output_type": "execute_result",
          "data": {
            "text/plain": [
              "50"
            ]
          },
          "metadata": {},
          "execution_count": 48
        }
      ],
      "source": [
        "len(number50)"
      ],
      "id": "jmR59f1kn0zP"
    },
    {
      "cell_type": "markdown",
      "metadata": {
        "id": "WwJeXheJn0zP"
      },
      "source": [
        "**가사 가져오기**"
      ],
      "id": "WwJeXheJn0zP"
    },
    {
      "cell_type": "code",
      "execution_count": null,
      "metadata": {
        "id": "J2iIX10Ln0zQ"
      },
      "outputs": [],
      "source": [
        "lyric50 = []\n",
        "\n",
        "for i in number50:\n",
        "    song_url = \"https://www.melon.com/song/detail.htm?songId=\" + str(i)\n",
        "    driver.get(song_url)\n",
        "\n",
        "    try:\n",
        "        # WebDriverWait를 사용하여 요소가 나타날 때까지 대기\n",
        "        wait = WebDriverWait(driver, 10)\n",
        "        lyric = wait.until(EC.presence_of_element_located((By.ID, \"d_video_summary\")))\n",
        "\n",
        "        # 가사가 한 줄로 표시되어 있는 경우 <br> 태그로 구분하여 리스트에 추가\n",
        "        lyric_text = lyric.text.replace('<br>', ' ').replace('\\n', ' ')\n",
        "        lyric50.append(lyric_text)\n",
        "\n",
        "    except Exception as e:\n",
        "        print(f\"가사를 가져오는 중 오류 발생: {e}\")\n",
        "        lyric50.append(\"가사를 찾을 수 없음\")"
      ],
      "id": "J2iIX10Ln0zQ"
    },
    {
      "cell_type": "code",
      "execution_count": null,
      "metadata": {
        "outputId": "6f9e5a5c-813a-4edd-825f-ea4cd4a12fa9",
        "colab": {
          "base_uri": "https://localhost:8080/"
        },
        "id": "1c2g6Q6Mn0zQ"
      },
      "outputs": [
        {
          "output_type": "execute_result",
          "data": {
            "text/plain": [
              "50"
            ]
          },
          "metadata": {},
          "execution_count": 50
        }
      ],
      "source": [
        "len(lyric50)"
      ],
      "id": "1c2g6Q6Mn0zQ"
    },
    {
      "cell_type": "markdown",
      "metadata": {
        "id": "5DF-t_a8n0zQ"
      },
      "source": [
        "### **- 51위 ~ 100위**"
      ],
      "id": "5DF-t_a8n0zQ"
    },
    {
      "cell_type": "code",
      "source": [
        "### 사이트 재접속\n",
        "# url 자체는 차트 페이지와 메인 페이지가 동일 -> 직접 클릭해서 접속해야 함\n",
        "\n",
        "## Chrome 웹드라이버 초기화\n",
        "CHROMEDRIVER_PATH = \"C:\\waterbean\\jupyter\\Hmm2Song\\chromedriver.exe\"\n",
        "options = webdriver.ChromeOptions()\n",
        "service = ChromeService(executable_path=CHROMEDRIVER_PATH)\n",
        "driver = webdriver.Chrome(service=service, options=options)\n",
        "driver.maximize_window() # 크롬창 크기 최대\n",
        "\n",
        "## 사이트 접속\n",
        "driver.get(\"https://www.melon.com/\")\n",
        "time.sleep(2)\n",
        "\n",
        "## 멜론차트 클릭\n",
        "driver.find_elements(By.CSS_SELECTOR,\".menu_bg.menu01\")[0].click()\n",
        "time.sleep(2)  # 2초 정지\n",
        "\n",
        "## 차트 파인더 클릭\n",
        "driver.find_element(By.XPATH, '//*[@id=\"gnb_menu\"]/ul[1]/li[1]/div/div/button/span').click()\n",
        "\n",
        "## 월간차트 클릭\n",
        "driver.find_element(By.XPATH, '//*[@id=\"d_chart_search\"]/div/h4[2]/a').click()\n",
        "time.sleep(2)\n",
        "\n",
        "## 연대선택: 2020년대\n",
        "driver.find_element(By.XPATH, '//*[@id=\"d_chart_search\"]/div/div/div[1]/div[1]/ul/li[1]/span/label').click()\n",
        "time.sleep(2)\n",
        "\n",
        "## 연도선택: 2023년\n",
        "driver.find_element(By.XPATH, '//*[@id=\"d_chart_search\"]/div/div/div[2]/div[1]/ul/li[1]/span/label').click()\n",
        "time.sleep(2)\n",
        "\n",
        "## 월 선택: 12월\n",
        "driver.find_element(By.XPATH, '//*[@id=\"d_chart_search\"]/div/div/div[3]/div[1]/ul/li[12]/span/label').click()\n",
        "time.sleep(2)\n",
        "\n",
        "## 장르 선택: 인디음악\n",
        "driver.find_element(By.XPATH, '//*[@id=\"d_chart_search\"]/div/div/div[5]/div[1]/ul/li[8]/span/label').click() # 8번째 카테고리\n",
        "time.sleep(2)\n",
        "\n",
        "## 검색버튼 클릭\n",
        "driver.find_element(By.XPATH,'//*[@id=\"d_srch_form\"]/div[2]/button/span/span').click()\n",
        "time.sleep(2)\n",
        "\n",
        "## 51위 ~ 100위 페이지로 넘어가기\n",
        "driver.find_element(By.XPATH, '//*[@id=\"frm\"]/div[2]/span/a').click()"
      ],
      "metadata": {
        "id": "_zeI5BqJn0zQ"
      },
      "execution_count": null,
      "outputs": [],
      "id": "_zeI5BqJn0zQ"
    },
    {
      "cell_type": "markdown",
      "metadata": {
        "id": "OHc644Rhn0zQ"
      },
      "source": [
        "#### **🎵 곡명**"
      ],
      "id": "OHc644Rhn0zQ"
    },
    {
      "cell_type": "code",
      "execution_count": null,
      "metadata": {
        "outputId": "1c051133-7a66-4d82-865f-d104f98300a0",
        "colab": {
          "base_uri": "https://localhost:8080/"
        },
        "id": "Xia8zLdmn0zR"
      },
      "outputs": [
        {
          "output_type": "execute_result",
          "data": {
            "text/plain": [
              "['조금 취했어 (Prod. 2soo)',\n",
              " '부동의 첫사랑',\n",
              " '김철수 씨 이야기',\n",
              " '꿈속에 너 (Feat. 전상근)',\n",
              " '좋다고 말해',\n",
              " '나만 안되는 연애',\n",
              " '너는 내 세상이었어',\n",
              " '영화',\n",
              " '썸 탈꺼야',\n",
              " '조용히 완전히 영원히',\n",
              " 'She (Hidden Track No.V 1월 선정곡)',\n",
              " '오늘',\n",
              " '아무래도 난',\n",
              " '너, 너',\n",
              " '고백',\n",
              " '달',\n",
              " 'Downtown Baby',\n",
              " '니가 보고싶은 밤',\n",
              " '남이 될 수 있을까',\n",
              " '나만, 봄',\n",
              " '이렇게 좋아해 본 적이 없어요',\n",
              " '와줘..',\n",
              " '좋아해.. (바른연애 길잡이 X 죠지)',\n",
              " '그렇게 살아가는 것',\n",
              " '낭만젊음사랑',\n",
              " '동화',\n",
              " 'Madeleine Love',\n",
              " '사랑하지마 안아주지마',\n",
              " '잘 지내자, 우리',\n",
              " '인셉션 (feat. 1ho & Chan)',\n",
              " '사랑은 은하수 다방에서',\n",
              " 'Goodbye my love',\n",
              " 'Little Star',\n",
              " '나랑 아니면',\n",
              " 'Beige coat',\n",
              " '안았어야해 (Feat. Futuristic Swaver)',\n",
              " '초록을거머쥔우리는',\n",
              " '고백하는 취한밤에 (Prod. 2soo)',\n",
              " '있어줘요',\n",
              " '투게더!',\n",
              " '동그라미',\n",
              " '너의 로맨스에 내 이름을 써줘 (Prod. IVY GROUND)',\n",
              " '우리 다투게 돼도 이것만 기억해 줄래 눈을 맞추고 서로가 서로의 손잡아 주며 낮은 목소리와 예쁜 말투로 상처 주지 않게 노력을 하고 ●',\n",
              " '별 보러 갈래?',\n",
              " '나비와 고양이 (feat.백현 (BAEKHYUN))',\n",
              " '서울의 잠 못 이루는 밤 (Feat. 이수현)',\n",
              " '봄이 좋냐??',\n",
              " 'josee!',\n",
              " '비행운',\n",
              " '꿈과 책과 힘과 벽']"
            ]
          },
          "metadata": {},
          "execution_count": 52
        }
      ],
      "source": [
        "### 곡명 가져오기\n",
        "\n",
        "title = driver.find_elements(By.CLASS_NAME, 'ellipsis.rank01')\n",
        "\n",
        "# 51번 ~ 100번\n",
        "title2 = []\n",
        "for i in title:\n",
        "    title2.append(i.text)\n",
        "\n",
        "# del title2[0]\n",
        "del title2[:50]\n",
        "\n",
        "title2"
      ],
      "id": "Xia8zLdmn0zR"
    },
    {
      "cell_type": "code",
      "execution_count": null,
      "metadata": {
        "outputId": "6a370605-ded6-4d49-bd7f-3ef5724c9ff8",
        "colab": {
          "base_uri": "https://localhost:8080/"
        },
        "id": "TkqGvIDSn0zR"
      },
      "outputs": [
        {
          "output_type": "execute_result",
          "data": {
            "text/plain": [
              "50"
            ]
          },
          "metadata": {},
          "execution_count": 53
        }
      ],
      "source": [
        "len(title2)"
      ],
      "id": "TkqGvIDSn0zR"
    },
    {
      "cell_type": "markdown",
      "metadata": {
        "id": "csAZPQvdn0zR"
      },
      "source": [
        "#### **🎤 가수명**"
      ],
      "id": "csAZPQvdn0zR"
    },
    {
      "cell_type": "code",
      "execution_count": null,
      "metadata": {
        "outputId": "171665e8-2c7c-41d2-9481-8248ee37e4c7",
        "colab": {
          "base_uri": "https://localhost:8080/"
        },
        "id": "0lP2jbAsn0zR"
      },
      "outputs": [
        {
          "output_type": "execute_result",
          "data": {
            "text/plain": [
              "['임재현',\n",
              " '10CM',\n",
              " '허회경',\n",
              " '에이치코드 (H:CODE)',\n",
              " '볼빨간사춘기',\n",
              " '볼빨간사춘기',\n",
              " '볼빨간사춘기',\n",
              " '피아노맨',\n",
              " '볼빨간사춘기',\n",
              " '너드커넥션 (Nerd Connection)',\n",
              " '잔나비',\n",
              " '오왠 (O.WHEN)',\n",
              " '주시크 (Joosiq)',\n",
              " '스트레이 (The Stray)',\n",
              " '델리스파이스',\n",
              " '스트레이 (The Stray)',\n",
              " '블루 (BLOO)',\n",
              " '윤딴딴',\n",
              " '볼빨간사춘기, 스무살',\n",
              " '볼빨간사춘기',\n",
              " 'CHEEZE (치즈)',\n",
              " '그리즐리 (Grizzly)',\n",
              " '죠지',\n",
              " '허회경',\n",
              " '이세계',\n",
              " '멜로망스',\n",
              " 'CHEEZE (치즈)',\n",
              " '#안녕',\n",
              " '짙은',\n",
              " '공기남',\n",
              " '10CM',\n",
              " '볼빨간사춘기',\n",
              " '스탠딩 에그',\n",
              " '검정치마',\n",
              " '그리즐리 (Grizzly)',\n",
              " 'JAEHA (재하)',\n",
              " '잔나비',\n",
              " '임재현',\n",
              " '장덕철',\n",
              " '잔나비',\n",
              " '최유리',\n",
              " '104 (백사)',\n",
              " '그리즐리 (Grizzly)',\n",
              " '볼빨간사춘기',\n",
              " '볼빨간사춘기',\n",
              " '10CM',\n",
              " '10CM',\n",
              " '데이먼스 이어 (Damons year)',\n",
              " '문문 (MoonMoon)',\n",
              " '잔나비']"
            ]
          },
          "metadata": {},
          "execution_count": 54
        }
      ],
      "source": [
        "### 가수명 가져오기\n",
        "\n",
        "singer = driver.find_elements(By.CLASS_NAME, 'ellipsis.rank02')\n",
        "\n",
        "singer2 = []\n",
        "for i in singer:\n",
        "    singer2.append(i.text)\n",
        "\n",
        "del singer2[:50]\n",
        "\n",
        "singer2"
      ],
      "id": "0lP2jbAsn0zR"
    },
    {
      "cell_type": "code",
      "execution_count": null,
      "metadata": {
        "outputId": "6fd4ea61-deb5-4979-ac1e-7988fe15bac9",
        "colab": {
          "base_uri": "https://localhost:8080/"
        },
        "id": "zwHPORM1n0zR"
      },
      "outputs": [
        {
          "output_type": "execute_result",
          "data": {
            "text/plain": [
              "50"
            ]
          },
          "metadata": {},
          "execution_count": 55
        }
      ],
      "source": [
        "len(singer2)"
      ],
      "id": "zwHPORM1n0zR"
    },
    {
      "cell_type": "markdown",
      "metadata": {
        "id": "wcSAptMnn0zS"
      },
      "source": [
        "#### **🎼 가사 가져오기**"
      ],
      "id": "wcSAptMnn0zS"
    },
    {
      "cell_type": "markdown",
      "metadata": {
        "id": "ta9QTCeln0zS"
      },
      "source": [
        "**상세 정보 페이지 코드**"
      ],
      "id": "ta9QTCeln0zS"
    },
    {
      "cell_type": "code",
      "execution_count": null,
      "metadata": {
        "outputId": "4e4c0328-2962-4920-8aa9-a6d77bd88f30",
        "colab": {
          "base_uri": "https://localhost:8080/"
        },
        "id": "dLodNp5fn0zS"
      },
      "outputs": [
        {
          "output_type": "execute_result",
          "data": {
            "text/plain": [
              "['32059630',\n",
              " '36444534',\n",
              " '34055256',\n",
              " '8119658',\n",
              " '30163110',\n",
              " '9620473',\n",
              " '34153819',\n",
              " '37001450',\n",
              " '30657307',\n",
              " '34162394',\n",
              " '30616707',\n",
              " '8194007',\n",
              " '34817660',\n",
              " '8083210',\n",
              " '420424',\n",
              " '35624152',\n",
              " '30773554',\n",
              " '30260502',\n",
              " '30468654',\n",
              " '31709523',\n",
              " '33347390',\n",
              " '37008930',\n",
              " '33293837',\n",
              " '34500931',\n",
              " '32677268',\n",
              " '31164090',\n",
              " '5694902',\n",
              " '36937995',\n",
              " '5506296',\n",
              " '31503937',\n",
              " '3136472',\n",
              " '37051614',\n",
              " '3472354',\n",
              " '30444666',\n",
              " '34497207',\n",
              " '32509043',\n",
              " '35060827',\n",
              " '35275022',\n",
              " '32085144',\n",
              " '31666411',\n",
              " '32404626',\n",
              " '33732427',\n",
              " '35730708',\n",
              " '31709524',\n",
              " '32583036',\n",
              " '33476728',\n",
              " '8124417',\n",
              " '31249401',\n",
              " '30086173',\n",
              " '31666421']"
            ]
          },
          "metadata": {},
          "execution_count": 56
        }
      ],
      "source": [
        "songTagList = driver.find_elements(By.ID, 'lst100')\n",
        "\n",
        "number100 = []\n",
        "for i in songTagList:\n",
        "    # 'input_check' 클래스를 가진 자식 요소를 찾아서 'value' 속성을 가져옵니다.\n",
        "    song_id = i.find_element(By.CLASS_NAME, 'input_check').get_attribute('value')\n",
        "    number100.append(song_id)\n",
        "number100"
      ],
      "id": "dLodNp5fn0zS"
    },
    {
      "cell_type": "code",
      "execution_count": null,
      "metadata": {
        "outputId": "92e9f4d9-ba5c-4f2c-a6b3-9f16da6967c0",
        "colab": {
          "base_uri": "https://localhost:8080/"
        },
        "id": "qvKVFM8En0zS"
      },
      "outputs": [
        {
          "output_type": "execute_result",
          "data": {
            "text/plain": [
              "50"
            ]
          },
          "metadata": {},
          "execution_count": 57
        }
      ],
      "source": [
        "len(number100)"
      ],
      "id": "qvKVFM8En0zS"
    },
    {
      "cell_type": "markdown",
      "metadata": {
        "id": "5eXeevTpn0zS"
      },
      "source": [
        "**가사 가져오기**"
      ],
      "id": "5eXeevTpn0zS"
    },
    {
      "cell_type": "code",
      "execution_count": null,
      "metadata": {
        "id": "qc5TlSNsn0zS"
      },
      "outputs": [],
      "source": [
        "lyric100 = []\n",
        "\n",
        "for i in number100:\n",
        "    song_url = \"https://www.melon.com/song/detail.htm?songId=\" + str(i)\n",
        "    driver.get(song_url)\n",
        "\n",
        "    try:\n",
        "        # WebDriverWait를 사용하여 요소가 나타날 때까지 대기\n",
        "        wait = WebDriverWait(driver, 10)\n",
        "        lyric = wait.until(EC.presence_of_element_located((By.ID, \"d_video_summary\")))\n",
        "\n",
        "        # 가사가 한 줄로 표시되어 있는 경우 <br> 태그로 구분하여 리스트에 추가\n",
        "        lyric_text = lyric.text.replace('<br>', ' ').replace('\\n', ' ')\n",
        "        lyric100.append(lyric_text)\n",
        "\n",
        "    except Exception as e:\n",
        "        print(f\"가사를 가져오는 중 오류 발생: {e}\")\n",
        "        lyric100.append(\"가사를 찾을 수 없음\")"
      ],
      "id": "qc5TlSNsn0zS"
    },
    {
      "cell_type": "code",
      "execution_count": null,
      "metadata": {
        "outputId": "c1a0bbee-729e-4eaf-8f0d-302936b9ff3c",
        "colab": {
          "base_uri": "https://localhost:8080/"
        },
        "id": "n1Ig7nj7n0zT"
      },
      "outputs": [
        {
          "output_type": "execute_result",
          "data": {
            "text/plain": [
              "50"
            ]
          },
          "metadata": {},
          "execution_count": 59
        }
      ],
      "source": [
        "len(lyric100)"
      ],
      "id": "n1Ig7nj7n0zT"
    },
    {
      "cell_type": "markdown",
      "metadata": {
        "id": "1IBbqE-Nn0zT"
      },
      "source": [
        "## **5. 데이터프레임으로 저장**"
      ],
      "id": "1IBbqE-Nn0zT"
    },
    {
      "cell_type": "code",
      "execution_count": null,
      "metadata": {
        "outputId": "a9a6c780-53dc-4329-aa1e-107bd6532150",
        "colab": {
          "base_uri": "https://localhost:8080/",
          "height": 423
        },
        "id": "z5WtchE8n0zT"
      },
      "outputs": [
        {
          "output_type": "execute_result",
          "data": {
            "text/plain": [
              "                        Title                 Singer  \\\n",
              "0                          인사                     범진   \n",
              "1                주저하는 연인들을 위해                    잔나비   \n",
              "2                   해요 (2022)                    #안녕   \n",
              "3                           숲                    최유리   \n",
              "4                     사랑할 수밖에                 볼빨간사춘기   \n",
              "..                        ...                    ...   \n",
              "95  서울의 잠 못 이루는 밤 (Feat. 이수현)                   10CM   \n",
              "96                    봄이 좋냐??                   10CM   \n",
              "97                     josee!  데이먼스 이어 (Damons year)   \n",
              "98                        비행운          문문 (MoonMoon)   \n",
              "99                 꿈과 책과 힘과 벽                    잔나비   \n",
              "\n",
              "                                                Lyric  \n",
              "0   돌아서는 너를 보며 난 아무 말도 할 수 없었고 슬퍼하기엔 짧았던 나의 해는 저물어...  \n",
              "1   나는 읽기 쉬운 마음이야 당신도 스윽 훑고 가셔요 달랠 길 없는 외로운 마음 있지 ...  \n",
              "2   그녀와 나는요 그땐 참 어렸어요 많이 사랑했고 때론 많이 다퉜었죠 지금 생각하면 모...  \n",
              "3   난 저기 숲이 돼볼게 너는 자그맣기만 한 언덕 위를 오르며 날 바라볼래 나의 작은 ...  \n",
              "4   간지러웠어 널 보는 내 손이 다 주고 싶었어 내 안에 남은 사랑까지 지켜 주고 싶었...  \n",
              "..                                                ...  \n",
              "95  이곳의 밤은 원래 항상 건조한가요 창밖엔 비가 오는데 나는 목이 말라요 나를 외롭게...  \n",
              "96  꽃이 언제 피는지 그딴 게 뭐가 중요한데 날씨가 언제 풀리는지 그딴 거 알면 뭐 할...  \n",
              "97  너는 달을 볼 때 눈이 커졌고 나는 너의 눈에 비친 것을 보네 네가 사랑하는 것이 ...  \n",
              "98  매일매일이 잿빛이더라구 팽이돌듯이 빙빙 돌더라구 어른이 라는 따분한 벌레들이 야금야...  \n",
              "99  해가 뜨고 다시 지는 것에 연연하였던 나의 작은방 텅 빈 마음 노랠 불러봤자 누군가...  \n",
              "\n",
              "[100 rows x 3 columns]"
            ],
            "text/html": [
              "<div>\n",
              "<style scoped>\n",
              "    .dataframe tbody tr th:only-of-type {\n",
              "        vertical-align: middle;\n",
              "    }\n",
              "\n",
              "    .dataframe tbody tr th {\n",
              "        vertical-align: top;\n",
              "    }\n",
              "\n",
              "    .dataframe thead th {\n",
              "        text-align: right;\n",
              "    }\n",
              "</style>\n",
              "<table border=\"1\" class=\"dataframe\">\n",
              "  <thead>\n",
              "    <tr style=\"text-align: right;\">\n",
              "      <th></th>\n",
              "      <th>Title</th>\n",
              "      <th>Singer</th>\n",
              "      <th>Lyric</th>\n",
              "    </tr>\n",
              "  </thead>\n",
              "  <tbody>\n",
              "    <tr>\n",
              "      <th>0</th>\n",
              "      <td>인사</td>\n",
              "      <td>범진</td>\n",
              "      <td>돌아서는 너를 보며 난 아무 말도 할 수 없었고 슬퍼하기엔 짧았던 나의 해는 저물어...</td>\n",
              "    </tr>\n",
              "    <tr>\n",
              "      <th>1</th>\n",
              "      <td>주저하는 연인들을 위해</td>\n",
              "      <td>잔나비</td>\n",
              "      <td>나는 읽기 쉬운 마음이야 당신도 스윽 훑고 가셔요 달랠 길 없는 외로운 마음 있지 ...</td>\n",
              "    </tr>\n",
              "    <tr>\n",
              "      <th>2</th>\n",
              "      <td>해요 (2022)</td>\n",
              "      <td>#안녕</td>\n",
              "      <td>그녀와 나는요 그땐 참 어렸어요 많이 사랑했고 때론 많이 다퉜었죠 지금 생각하면 모...</td>\n",
              "    </tr>\n",
              "    <tr>\n",
              "      <th>3</th>\n",
              "      <td>숲</td>\n",
              "      <td>최유리</td>\n",
              "      <td>난 저기 숲이 돼볼게 너는 자그맣기만 한 언덕 위를 오르며 날 바라볼래 나의 작은 ...</td>\n",
              "    </tr>\n",
              "    <tr>\n",
              "      <th>4</th>\n",
              "      <td>사랑할 수밖에</td>\n",
              "      <td>볼빨간사춘기</td>\n",
              "      <td>간지러웠어 널 보는 내 손이 다 주고 싶었어 내 안에 남은 사랑까지 지켜 주고 싶었...</td>\n",
              "    </tr>\n",
              "    <tr>\n",
              "      <th>...</th>\n",
              "      <td>...</td>\n",
              "      <td>...</td>\n",
              "      <td>...</td>\n",
              "    </tr>\n",
              "    <tr>\n",
              "      <th>95</th>\n",
              "      <td>서울의 잠 못 이루는 밤 (Feat. 이수현)</td>\n",
              "      <td>10CM</td>\n",
              "      <td>이곳의 밤은 원래 항상 건조한가요 창밖엔 비가 오는데 나는 목이 말라요 나를 외롭게...</td>\n",
              "    </tr>\n",
              "    <tr>\n",
              "      <th>96</th>\n",
              "      <td>봄이 좋냐??</td>\n",
              "      <td>10CM</td>\n",
              "      <td>꽃이 언제 피는지 그딴 게 뭐가 중요한데 날씨가 언제 풀리는지 그딴 거 알면 뭐 할...</td>\n",
              "    </tr>\n",
              "    <tr>\n",
              "      <th>97</th>\n",
              "      <td>josee!</td>\n",
              "      <td>데이먼스 이어 (Damons year)</td>\n",
              "      <td>너는 달을 볼 때 눈이 커졌고 나는 너의 눈에 비친 것을 보네 네가 사랑하는 것이 ...</td>\n",
              "    </tr>\n",
              "    <tr>\n",
              "      <th>98</th>\n",
              "      <td>비행운</td>\n",
              "      <td>문문 (MoonMoon)</td>\n",
              "      <td>매일매일이 잿빛이더라구 팽이돌듯이 빙빙 돌더라구 어른이 라는 따분한 벌레들이 야금야...</td>\n",
              "    </tr>\n",
              "    <tr>\n",
              "      <th>99</th>\n",
              "      <td>꿈과 책과 힘과 벽</td>\n",
              "      <td>잔나비</td>\n",
              "      <td>해가 뜨고 다시 지는 것에 연연하였던 나의 작은방 텅 빈 마음 노랠 불러봤자 누군가...</td>\n",
              "    </tr>\n",
              "  </tbody>\n",
              "</table>\n",
              "<p>100 rows × 3 columns</p>\n",
              "</div>"
            ]
          },
          "metadata": {},
          "execution_count": 60
        }
      ],
      "source": [
        "# DataFrame 생성\n",
        "\n",
        "indie = pd.DataFrame({\n",
        "    'Title': title1+title2,\n",
        "    'Singer': singer1+singer2,\n",
        "    'Lyric': lyric50+lyric100\n",
        "})\n",
        "indie"
      ],
      "id": "z5WtchE8n0zT"
    },
    {
      "cell_type": "code",
      "source": [
        "indie.info()"
      ],
      "metadata": {
        "colab": {
          "base_uri": "https://localhost:8080/"
        },
        "outputId": "ee026447-5e43-4892-c81a-9c48142e6a59",
        "id": "5ta524lqn0zT"
      },
      "execution_count": null,
      "outputs": [
        {
          "output_type": "stream",
          "name": "stdout",
          "text": [
            "<class 'pandas.core.frame.DataFrame'>\n",
            "RangeIndex: 100 entries, 0 to 99\n",
            "Data columns (total 3 columns):\n",
            " #   Column  Non-Null Count  Dtype \n",
            "---  ------  --------------  ----- \n",
            " 0   Title   100 non-null    object\n",
            " 1   Singer  100 non-null    object\n",
            " 2   Lyric   100 non-null    object\n",
            "dtypes: object(3)\n",
            "memory usage: 2.5+ KB\n"
          ]
        }
      ],
      "id": "5ta524lqn0zT"
    },
    {
      "cell_type": "code",
      "execution_count": null,
      "metadata": {
        "id": "dn_0evVHn0zT"
      },
      "outputs": [],
      "source": [
        "indie.to_csv(\"./Indie.csv\", index = False, encoding='utf-8')"
      ],
      "id": "dn_0evVHn0zT"
    },
    {
      "cell_type": "markdown",
      "metadata": {
        "id": "q5IMDosln_qz"
      },
      "source": [
        "# **Folk_Blues**"
      ],
      "id": "q5IMDosln_qz"
    },
    {
      "cell_type": "markdown",
      "metadata": {
        "id": "CknglpZrn_q6"
      },
      "source": [
        "## **2. 크롬드라이버가 url 접속하도록 하기**"
      ],
      "id": "CknglpZrn_q6"
    },
    {
      "cell_type": "code",
      "execution_count": null,
      "metadata": {
        "id": "YxqrHUgWn_q6"
      },
      "outputs": [],
      "source": [
        "# Chrome 웹드라이버 초기화\n",
        "CHROMEDRIVER_PATH = \"C:\\waterbean\\jupyter\\Hmm2Song\\chromedriver.exe\"\n",
        "options = webdriver.ChromeOptions()\n",
        "service = ChromeService(executable_path=CHROMEDRIVER_PATH)\n",
        "driver = webdriver.Chrome(service=service, options=options)\n",
        "driver.maximize_window() # 크롬창 크기 최대"
      ],
      "id": "YxqrHUgWn_q6"
    },
    {
      "cell_type": "code",
      "execution_count": null,
      "metadata": {
        "id": "AwT6k03En_q6"
      },
      "outputs": [],
      "source": [
        "## 사이트 접속\n",
        "driver.get(\"https://www.melon.com/\")\n",
        "time.sleep(2)"
      ],
      "id": "AwT6k03En_q6"
    },
    {
      "cell_type": "markdown",
      "metadata": {
        "id": "sAT_5vtMn_q6"
      },
      "source": [
        "## **3. 필터 설정**"
      ],
      "id": "sAT_5vtMn_q6"
    },
    {
      "cell_type": "code",
      "execution_count": null,
      "metadata": {
        "id": "yqpBhxntn_q7"
      },
      "outputs": [],
      "source": [
        "# 멜론차트 클릭\n",
        "\n",
        "driver.find_elements(By.CSS_SELECTOR,\".menu_bg.menu01\")[0].click()\n",
        "time.sleep(2)  # 2초 정지"
      ],
      "id": "yqpBhxntn_q7"
    },
    {
      "cell_type": "code",
      "execution_count": null,
      "metadata": {
        "id": "w4AEpA8Un_q7"
      },
      "outputs": [],
      "source": [
        "# 차트 파인더 클릭\n",
        "\n",
        "driver.find_element(By.XPATH, '//*[@id=\"gnb_menu\"]/ul[1]/li[1]/div/div/button/span').click()"
      ],
      "id": "w4AEpA8Un_q7"
    },
    {
      "cell_type": "code",
      "execution_count": null,
      "metadata": {
        "id": "mAoPpF-on_q7"
      },
      "outputs": [],
      "source": [
        "# 월간차트 클릭\n",
        "\n",
        "driver.find_element(By.XPATH, '//*[@id=\"d_chart_search\"]/div/h4[2]/a').click()\n",
        "time.sleep(2)"
      ],
      "id": "mAoPpF-on_q7"
    },
    {
      "cell_type": "code",
      "execution_count": null,
      "metadata": {
        "id": "KyaXJSFan_q7"
      },
      "outputs": [],
      "source": [
        "# 연대선택: 2020년대\n",
        "\n",
        "driver.find_element(By.XPATH, '//*[@id=\"d_chart_search\"]/div/div/div[1]/div[1]/ul/li[1]/span/label').click()\n",
        "time.sleep(2)"
      ],
      "id": "KyaXJSFan_q7"
    },
    {
      "cell_type": "code",
      "execution_count": null,
      "metadata": {
        "id": "OofL7pi9n_q7"
      },
      "outputs": [],
      "source": [
        "# 연도선택: 2023년\n",
        "\n",
        "driver.find_element(By.XPATH, '//*[@id=\"d_chart_search\"]/div/div/div[2]/div[1]/ul/li[1]/span/label').click()\n",
        "time.sleep(2)"
      ],
      "id": "OofL7pi9n_q7"
    },
    {
      "cell_type": "code",
      "execution_count": null,
      "metadata": {
        "id": "gZLcrEFUn_q7"
      },
      "outputs": [],
      "source": [
        "# 월 선택: 12월\n",
        "\n",
        "driver.find_element(By.XPATH, '//*[@id=\"d_chart_search\"]/div/div/div[3]/div[1]/ul/li[12]/span/label').click()\n",
        "time.sleep(2)"
      ],
      "id": "gZLcrEFUn_q7"
    },
    {
      "cell_type": "code",
      "execution_count": null,
      "metadata": {
        "id": "QSfB6ggin_q8"
      },
      "outputs": [],
      "source": [
        "# 장르 선택: 국내 포크/블루스\n",
        "\n",
        "driver.find_element(By.XPATH, '//*[@id=\"d_chart_search\"]/div/div/div[5]/div[1]/ul/li[11]/span/label').click()\n",
        "time.sleep(2)"
      ],
      "id": "QSfB6ggin_q8"
    },
    {
      "cell_type": "code",
      "execution_count": null,
      "metadata": {
        "id": "GoeDI-d7n_q8"
      },
      "outputs": [],
      "source": [
        "# 검색버튼 클릭\n",
        "\n",
        "driver.find_element(By.XPATH,'//*[@id=\"d_srch_form\"]/div[2]/button/span/span').click()"
      ],
      "id": "GoeDI-d7n_q8"
    },
    {
      "cell_type": "markdown",
      "metadata": {
        "id": "ruQNLxarn_q8"
      },
      "source": [
        "## **4. 세부 정보 가져오기**"
      ],
      "id": "ruQNLxarn_q8"
    },
    {
      "cell_type": "markdown",
      "metadata": {
        "id": "7uzz6oN1n_q8"
      },
      "source": [
        "### **- 1위 ~ 50위**"
      ],
      "id": "7uzz6oN1n_q8"
    },
    {
      "cell_type": "markdown",
      "metadata": {
        "id": "avLOpIIUn_q8"
      },
      "source": [
        "#### **🎵 곡명**"
      ],
      "id": "avLOpIIUn_q8"
    },
    {
      "cell_type": "code",
      "execution_count": null,
      "metadata": {
        "outputId": "39392eab-b93e-43ba-87c1-3e3370077921",
        "colab": {
          "base_uri": "https://localhost:8080/"
        },
        "id": "I9B3qR-jn_q8"
      },
      "outputs": [
        {
          "output_type": "execute_result",
          "data": {
            "text/plain": [
              "['후라이의 꿈',\n",
              " '숲',\n",
              " '연애편지',\n",
              " '그라데이션',\n",
              " '첫사랑',\n",
              " '스노우볼',\n",
              " 'Somebody',\n",
              " '오랜 날 오랜 밤',\n",
              " '오래된 노래',\n",
              " '나의 사춘기에게',\n",
              " 'Too Sad to Dance',\n",
              " '스토커',\n",
              " 'Love story',\n",
              " '우주를 줄게',\n",
              " '폰서트',\n",
              " 'Give Love',\n",
              " 'FRIEND THE END',\n",
              " 'You(=I)',\n",
              " 'IF YOU',\n",
              " '부동의 첫사랑',\n",
              " '김철수 씨 이야기',\n",
              " '가을 아침',\n",
              " '200%',\n",
              " '좋다고 말해',\n",
              " '나만 안되는 연애',\n",
              " '썸 탈꺼야',\n",
              " '오늘',\n",
              " '사라진 모든 것들에게(with ELLE KOREA)',\n",
              " '니가 보고싶은 밤',\n",
              " '미운오리새끼',\n",
              " 'STAY',\n",
              " '남이 될 수 있을까',\n",
              " '나만, 봄',\n",
              " '그렇게 살아가는 것',\n",
              " 'L’Amour, Les Baguettes, Paris',\n",
              " '사랑은 은하수 다방에서',\n",
              " 'Little Star',\n",
              " '기대어 앉은 오후에는',\n",
              " '동그라미',\n",
              " '널 보고 있으면',\n",
              " '별 보러 갈래?',\n",
              " '나비와 고양이 (feat.백현 (BAEKHYUN))',\n",
              " '봄이 좋냐??',\n",
              " '사랑해 진짜',\n",
              " 'Why So Lonely',\n",
              " '청춘 (Feat. 김창완)',\n",
              " 'Blue',\n",
              " '심술',\n",
              " '애상',\n",
              " '김성호의 회상']"
            ]
          },
          "metadata": {},
          "execution_count": 73
        }
      ],
      "source": [
        "### 곡명 가져오기\n",
        "\n",
        "title = driver.find_elements(By.CLASS_NAME, 'ellipsis.rank01')\n",
        "\n",
        "# 1번 ~ 50번\n",
        "title1 = []\n",
        "for i in title:\n",
        "    title1.append(i.text)\n",
        "\n",
        "# del title2[0]\n",
        "del title1[50:]\n",
        "\n",
        "title1"
      ],
      "id": "I9B3qR-jn_q8"
    },
    {
      "cell_type": "code",
      "execution_count": null,
      "metadata": {
        "outputId": "3a001167-5c69-47d3-e196-079f32289f25",
        "colab": {
          "base_uri": "https://localhost:8080/"
        },
        "id": "bP5wW0MDn_q8"
      },
      "outputs": [
        {
          "output_type": "execute_result",
          "data": {
            "text/plain": [
              "50"
            ]
          },
          "metadata": {},
          "execution_count": 74
        }
      ],
      "source": [
        "len(title1)"
      ],
      "id": "bP5wW0MDn_q8"
    },
    {
      "cell_type": "markdown",
      "metadata": {
        "id": "3PJYh2yPn_q8"
      },
      "source": [
        "#### **🎤 가수명**"
      ],
      "id": "3PJYh2yPn_q8"
    },
    {
      "cell_type": "code",
      "execution_count": null,
      "metadata": {
        "outputId": "7ab5ca58-6f01-4d63-8454-467c7378f8b0",
        "colab": {
          "base_uri": "https://localhost:8080/"
        },
        "id": "onK07f0hn_q9"
      },
      "outputs": [
        {
          "output_type": "execute_result",
          "data": {
            "text/plain": [
              "['AKMU (악뮤)',\n",
              " '최유리',\n",
              " '임영웅',\n",
              " '10CM',\n",
              " '백아',\n",
              " '볼빨간사춘기',\n",
              " '디오 (D.O.)',\n",
              " 'AKMU (악뮤)',\n",
              " '스탠딩 에그',\n",
              " '볼빨간사춘기',\n",
              " '정국',\n",
              " '10CM',\n",
              " '볼빨간사춘기',\n",
              " '볼빨간사춘기',\n",
              " '10CM',\n",
              " 'AKMU (악뮤)',\n",
              " '볼빨간사춘기',\n",
              " '볼빨간사춘기',\n",
              " 'BIGBANG (빅뱅)',\n",
              " '10CM',\n",
              " '허회경',\n",
              " '아이유',\n",
              " 'AKMU (악뮤)',\n",
              " '볼빨간사춘기',\n",
              " '볼빨간사춘기',\n",
              " '볼빨간사춘기',\n",
              " '오왠 (O.WHEN)',\n",
              " '코드 쿤스트 (CODE KUNST), 잔나비 최정훈, 사이먼 도미닉',\n",
              " '윤딴딴',\n",
              " 'leejean',\n",
              " 'BLACKPINK',\n",
              " '볼빨간사춘기, 스무살',\n",
              " '볼빨간사춘기',\n",
              " '허회경',\n",
              " '스텔라장 (Stella Jang)',\n",
              " '10CM',\n",
              " '스탠딩 에그',\n",
              " '소수빈',\n",
              " '최유리',\n",
              " '고막남친단 (테종, 홍이삭)',\n",
              " '볼빨간사춘기',\n",
              " '볼빨간사춘기',\n",
              " '10CM',\n",
              " '임영웅',\n",
              " '이젤 (EJel)',\n",
              " '김필',\n",
              " '볼빨간사춘기',\n",
              " '볼빨간사춘기',\n",
              " '10CM',\n",
              " '테종']"
            ]
          },
          "metadata": {},
          "execution_count": 75
        }
      ],
      "source": [
        "### 가수명 가져오기\n",
        "\n",
        "singer = driver.find_elements(By.CLASS_NAME, 'ellipsis.rank02')\n",
        "\n",
        "singer1 = []\n",
        "for i in singer:\n",
        "    singer1.append(i.text)\n",
        "\n",
        "\n",
        "# del singer2[0]\n",
        "del singer1[50:]\n",
        "\n",
        "singer1"
      ],
      "id": "onK07f0hn_q9"
    },
    {
      "cell_type": "code",
      "execution_count": null,
      "metadata": {
        "outputId": "42cb4b7c-b706-4e3f-a191-db1a64e34560",
        "colab": {
          "base_uri": "https://localhost:8080/"
        },
        "id": "wHKAGxiHn_q9"
      },
      "outputs": [
        {
          "output_type": "execute_result",
          "data": {
            "text/plain": [
              "50"
            ]
          },
          "metadata": {},
          "execution_count": 76
        }
      ],
      "source": [
        "len(singer1)"
      ],
      "id": "wHKAGxiHn_q9"
    },
    {
      "cell_type": "markdown",
      "metadata": {
        "id": "Rnvaojukn_q9"
      },
      "source": [
        "#### **🎼 가사 가져오기**"
      ],
      "id": "Rnvaojukn_q9"
    },
    {
      "cell_type": "markdown",
      "metadata": {
        "id": "9jv0WFTKn_q9"
      },
      "source": [
        "**상세 정보 페이지 코드**"
      ],
      "id": "9jv0WFTKn_q9"
    },
    {
      "cell_type": "code",
      "execution_count": null,
      "metadata": {
        "outputId": "0d8a764d-bb61-4ae7-e13d-6c0b5d4bfffc",
        "colab": {
          "base_uri": "https://localhost:8080/"
        },
        "id": "SFf_se9An_q9"
      },
      "outputs": [
        {
          "output_type": "execute_result",
          "data": {
            "text/plain": [
              "['36713850',\n",
              " '35553933',\n",
              " '35008532',\n",
              " '35361345',\n",
              " '31343875',\n",
              " '37051615',\n",
              " '36778867',\n",
              " '30181278',\n",
              " '3894276',\n",
              " '30657311',\n",
              " '36936172',\n",
              " '5466962',\n",
              " '34930368',\n",
              " '9620469',\n",
              " '30611680',\n",
              " '4583481',\n",
              " '36371558',\n",
              " '9620471',\n",
              " '5760115',\n",
              " '36444534',\n",
              " '34055256',\n",
              " '30636089',\n",
              " '4583482',\n",
              " '30163110',\n",
              " '9620473',\n",
              " '30657307',\n",
              " '8194007',\n",
              " '33064133',\n",
              " '30260502',\n",
              " '37022350',\n",
              " '30069774',\n",
              " '30468654',\n",
              " '31709523',\n",
              " '34500931',\n",
              " '34087224',\n",
              " '3136472',\n",
              " '3472354',\n",
              " '37041867',\n",
              " '32404626',\n",
              " '37000544',\n",
              " '31709524',\n",
              " '32583036',\n",
              " '8124417',\n",
              " '35008531',\n",
              " '36977793',\n",
              " '7909196',\n",
              " '30657308',\n",
              " '8155478',\n",
              " '3666573',\n",
              " '36936598']"
            ]
          },
          "metadata": {},
          "execution_count": 77
        }
      ],
      "source": [
        "songTagList = driver.find_elements(By.ID, 'lst50')\n",
        "\n",
        "number50 = []\n",
        "for i in songTagList:\n",
        "    # 'input_check' 클래스를 가진 자식 요소를 찾아서 'value' 속성을 가져옵니다.\n",
        "    song_id = i.find_element(By.CLASS_NAME, 'input_check').get_attribute('value')\n",
        "    number50.append(song_id)\n",
        "number50"
      ],
      "id": "SFf_se9An_q9"
    },
    {
      "cell_type": "code",
      "execution_count": null,
      "metadata": {
        "outputId": "fcc048c6-2f72-4216-ea4e-505c7b942989",
        "colab": {
          "base_uri": "https://localhost:8080/"
        },
        "id": "ZNlT4s33n_q9"
      },
      "outputs": [
        {
          "output_type": "execute_result",
          "data": {
            "text/plain": [
              "50"
            ]
          },
          "metadata": {},
          "execution_count": 78
        }
      ],
      "source": [
        "len(number50)"
      ],
      "id": "ZNlT4s33n_q9"
    },
    {
      "cell_type": "markdown",
      "metadata": {
        "id": "l7O9fT3Un_q9"
      },
      "source": [
        "**가사 가져오기**"
      ],
      "id": "l7O9fT3Un_q9"
    },
    {
      "cell_type": "code",
      "execution_count": null,
      "metadata": {
        "id": "GB-zDvRyn_q9"
      },
      "outputs": [],
      "source": [
        "lyric50 = []\n",
        "\n",
        "for i in number50:\n",
        "    song_url = \"https://www.melon.com/song/detail.htm?songId=\" + str(i)\n",
        "    driver.get(song_url)\n",
        "\n",
        "    try:\n",
        "        # WebDriverWait를 사용하여 요소가 나타날 때까지 대기\n",
        "        wait = WebDriverWait(driver, 10)\n",
        "        lyric = wait.until(EC.presence_of_element_located((By.ID, \"d_video_summary\")))\n",
        "\n",
        "        # 가사가 한 줄로 표시되어 있는 경우 <br> 태그로 구분하여 리스트에 추가\n",
        "        lyric_text = lyric.text.replace('<br>', ' ').replace('\\n', ' ')\n",
        "        lyric50.append(lyric_text)\n",
        "\n",
        "    except Exception as e:\n",
        "        print(f\"가사를 가져오는 중 오류 발생: {e}\")\n",
        "        lyric50.append(\"가사를 찾을 수 없음\")"
      ],
      "id": "GB-zDvRyn_q9"
    },
    {
      "cell_type": "code",
      "execution_count": null,
      "metadata": {
        "outputId": "35d0083a-6d89-49d1-e100-b583e6b738fb",
        "colab": {
          "base_uri": "https://localhost:8080/"
        },
        "id": "4Bd_D8K0n_q-"
      },
      "outputs": [
        {
          "output_type": "execute_result",
          "data": {
            "text/plain": [
              "50"
            ]
          },
          "metadata": {},
          "execution_count": 80
        }
      ],
      "source": [
        "len(lyric50)"
      ],
      "id": "4Bd_D8K0n_q-"
    },
    {
      "cell_type": "markdown",
      "metadata": {
        "id": "OVxJyUe1n_q-"
      },
      "source": [
        "### **- 51위 ~ 100위**"
      ],
      "id": "OVxJyUe1n_q-"
    },
    {
      "cell_type": "code",
      "source": [
        "### 사이트 재접속\n",
        "# url 자체는 차트 페이지와 메인 페이지가 동일 -> 직접 클릭해서 접속해야 함\n",
        "\n",
        "## Chrome 웹드라이버 초기화\n",
        "CHROMEDRIVER_PATH = \"C:\\waterbean\\jupyter\\Hmm2Song\\chromedriver.exe\"\n",
        "options = webdriver.ChromeOptions()\n",
        "service = ChromeService(executable_path=CHROMEDRIVER_PATH)\n",
        "driver = webdriver.Chrome(service=service, options=options)\n",
        "driver.maximize_window() # 크롬창 크기 최대\n",
        "\n",
        "## 사이트 접속\n",
        "driver.get(\"https://www.melon.com/\")\n",
        "time.sleep(2)\n",
        "\n",
        "## 멜론차트 클릭\n",
        "driver.find_elements(By.CSS_SELECTOR,\".menu_bg.menu01\")[0].click()\n",
        "time.sleep(2)  # 2초 정지\n",
        "\n",
        "\n",
        "## 차트 파인더 클릭\n",
        "driver.find_element(By.XPATH, '//*[@id=\"gnb_menu\"]/ul[1]/li[1]/div/div/button/span').click()\n",
        "\n",
        "## 월간차트 클릭\n",
        "driver.find_element(By.XPATH, '//*[@id=\"d_chart_search\"]/div/h4[2]/a').click()\n",
        "time.sleep(2)\n",
        "\n",
        "## 연대선택: 2020년대\n",
        "driver.find_element(By.XPATH, '//*[@id=\"d_chart_search\"]/div/div/div[1]/div[1]/ul/li[1]/span/label').click()\n",
        "time.sleep(2)\n",
        "\n",
        "## 연도선택: 2023년\n",
        "driver.find_element(By.XPATH, '//*[@id=\"d_chart_search\"]/div/div/div[2]/div[1]/ul/li[1]/span/label').click()\n",
        "time.sleep(2)\n",
        "\n",
        "## 월 선택: 12월\n",
        "driver.find_element(By.XPATH, '//*[@id=\"d_chart_search\"]/div/div/div[3]/div[1]/ul/li[12]/span/label').click()\n",
        "time.sleep(2)\n",
        "\n",
        "## 장르 선택: 국내 포크/블루스\n",
        "driver.find_element(By.XPATH, '//*[@id=\"d_chart_search\"]/div/div/div[5]/div[1]/ul/li[11]/span/label').click() # 11번째 옵션\n",
        "time.sleep(2)\n",
        "\n",
        "## 검색버튼 클릭\n",
        "driver.find_element(By.XPATH,'//*[@id=\"d_srch_form\"]/div[2]/button/span/span').click()\n",
        "time.sleep(2)\n",
        "\n",
        "## 51위 ~ 100위 페이지로 넘어가기\n",
        "driver.find_element(By.XPATH, '//*[@id=\"frm\"]/div[2]/span/a').click()"
      ],
      "metadata": {
        "id": "dd-GWPK5n_q-"
      },
      "execution_count": null,
      "outputs": [],
      "id": "dd-GWPK5n_q-"
    },
    {
      "cell_type": "markdown",
      "metadata": {
        "id": "pTCyIZBWn_q-"
      },
      "source": [
        "#### **🎵 곡명**"
      ],
      "id": "pTCyIZBWn_q-"
    },
    {
      "cell_type": "code",
      "execution_count": null,
      "metadata": {
        "outputId": "3cfa3dbf-c071-47f2-d9c1-2b78232bab75",
        "colab": {
          "base_uri": "https://localhost:8080/"
        },
        "id": "d-u6eLz2n_q-"
      },
      "outputs": [
        {
          "output_type": "execute_result",
          "data": {
            "text/plain": [
              "['헤어지던 밤',\n",
              " '여름날 (feat. 하현상)',\n",
              " 'Love',\n",
              " '마음',\n",
              " '바다',\n",
              " '가을 타나 봐',\n",
              " '너무 아픈 사랑은 사랑이 아니었음을',\n",
              " '기적 (Wonder)',\n",
              " '봄봄봄',\n",
              " '추억속의 그대',\n",
              " '서른 즈음에',\n",
              " '널 생각해',\n",
              " 'Seoul',\n",
              " '여름비',\n",
              " '혼자만의 느낌',\n",
              " '나의 모든 이들에게,',\n",
              " '잊어야 한다는 마음으로',\n",
              " 'Gone',\n",
              " '#첫사랑',\n",
              " 'Be Your Christmas (Feat. 볼빨간사춘기)',\n",
              " '돌아가네',\n",
              " '여름에 두었다',\n",
              " 'Happy Song',\n",
              " '백만송이 장미',\n",
              " '단 하나',\n",
              " '싸운날',\n",
              " '그게 뭐라고',\n",
              " '너 사용법',\n",
              " '테두리',\n",
              " 'Chase Love Hard (Feat. 황민현)',\n",
              " '밤 끝없는 밤',\n",
              " '잘 지내',\n",
              " 'RE-BYE',\n",
              " 'pet',\n",
              " '사랑했지만',\n",
              " 'X Song',\n",
              " 'Second Chance',\n",
              " '난 묻어요',\n",
              " 'Whisky on the Rock',\n",
              " '사랑에게',\n",
              " '내게 사랑은 너무 써',\n",
              " '피노키오',\n",
              " 'Love Love Love',\n",
              " '생각을 멈추다 보면',\n",
              " '대화가 필요해',\n",
              " '부끄럼',\n",
              " 'Rose',\n",
              " '지켜줄게',\n",
              " '가끔 연락하던 애 (@kyulisme)',\n",
              " '매트리스']"
            ]
          },
          "metadata": {},
          "execution_count": 82
        }
      ],
      "source": [
        "### 곡명 가져오기\n",
        "\n",
        "title = driver.find_elements(By.CLASS_NAME, 'ellipsis.rank01')\n",
        "\n",
        "# 51번 ~ 100번\n",
        "title2 = []\n",
        "for i in title:\n",
        "    title2.append(i.text)\n",
        "\n",
        "# del title2[0]\n",
        "del title2[:50]\n",
        "\n",
        "title2"
      ],
      "id": "d-u6eLz2n_q-"
    },
    {
      "cell_type": "code",
      "execution_count": null,
      "metadata": {
        "outputId": "7f73f3cf-eafd-458e-d029-7062826c0877",
        "colab": {
          "base_uri": "https://localhost:8080/"
        },
        "id": "mLjg5X8nn_q-"
      },
      "outputs": [
        {
          "output_type": "execute_result",
          "data": {
            "text/plain": [
              "50"
            ]
          },
          "metadata": {},
          "execution_count": 83
        }
      ],
      "source": [
        "len(title2)"
      ],
      "id": "mLjg5X8nn_q-"
    },
    {
      "cell_type": "markdown",
      "metadata": {
        "id": "dGChim79n_q-"
      },
      "source": [
        "#### **🎤 가수명**"
      ],
      "id": "dGChim79n_q-"
    },
    {
      "cell_type": "code",
      "execution_count": null,
      "metadata": {
        "outputId": "6e345781-9c98-48b3-b8d1-1b325ab5790b",
        "colab": {
          "base_uri": "https://localhost:8080/"
        },
        "id": "WfadVv1bn_q_"
      },
      "outputs": [
        {
          "output_type": "execute_result",
          "data": {
            "text/plain": [
              "['어쿠루브',\n",
              " '볼빨간사춘기',\n",
              " '볼빨간사춘기',\n",
              " '아이유',\n",
              " '최유리',\n",
              " '이무진',\n",
              " '김광석',\n",
              " '디오 (D.O.)',\n",
              " '로이킴',\n",
              " 'OMZ (이젤 (EJel), leejean)',\n",
              " '김광석',\n",
              " '원 모어 찬스 (one more chance)',\n",
              " '볼빨간사춘기',\n",
              " '샘김 (Sam Kim)',\n",
              " '형님 먼저 아우 먼저 (서윤혁, 소수빈)',\n",
              " 'Mingginyu (밍기뉴)',\n",
              " '김광석',\n",
              " '로제 (ROSÉ)',\n",
              " '볼빨간사춘기',\n",
              " '스웨덴세탁소',\n",
              " '영탁',\n",
              " '숀 (SHAUN)',\n",
              " '멜로망스',\n",
              " '김수영',\n",
              " '최유리',\n",
              " '볼빨간사춘기',\n",
              " '어쿠루브',\n",
              " '에디킴',\n",
              " '백아',\n",
              " '볼빨간사춘기',\n",
              " 'AKMU (악뮤)',\n",
              " '적재',\n",
              " 'AKMU (악뮤)',\n",
              " '10CM',\n",
              " '김광석',\n",
              " '볼빨간사춘기',\n",
              " '영탁',\n",
              " '허회경',\n",
              " '김연지',\n",
              " '최유리',\n",
              " '서윤혁',\n",
              " '로이킴',\n",
              " '로이킴',\n",
              " '최유리',\n",
              " '정효빈, 주시크 (Joosiq)',\n",
              " '멜로망스',\n",
              " '디오 (D.O.)',\n",
              " '백예린 (Yerin Baek)',\n",
              " '10CM',\n",
              " '10CM']"
            ]
          },
          "metadata": {},
          "execution_count": 84
        }
      ],
      "source": [
        "### 가수명 가져오기\n",
        "\n",
        "singer = driver.find_elements(By.CLASS_NAME, 'ellipsis.rank02')\n",
        "\n",
        "singer2 = []\n",
        "for i in singer:\n",
        "    singer2.append(i.text)\n",
        "\n",
        "del singer2[:50]\n",
        "\n",
        "singer2"
      ],
      "id": "WfadVv1bn_q_"
    },
    {
      "cell_type": "code",
      "execution_count": null,
      "metadata": {
        "outputId": "acf3c942-8bca-4dbf-c879-ce6e43111398",
        "colab": {
          "base_uri": "https://localhost:8080/"
        },
        "id": "vDBAzzRZn_q_"
      },
      "outputs": [
        {
          "output_type": "execute_result",
          "data": {
            "text/plain": [
              "50"
            ]
          },
          "metadata": {},
          "execution_count": 85
        }
      ],
      "source": [
        "len(singer2)"
      ],
      "id": "vDBAzzRZn_q_"
    },
    {
      "cell_type": "markdown",
      "metadata": {
        "id": "W_EaMpfEn_q_"
      },
      "source": [
        "#### **🎼 가사 가져오기**"
      ],
      "id": "W_EaMpfEn_q_"
    },
    {
      "cell_type": "markdown",
      "metadata": {
        "id": "q7iNkD-Fn_q_"
      },
      "source": [
        "**상세 정보 페이지 코드**"
      ],
      "id": "q7iNkD-Fn_q_"
    },
    {
      "cell_type": "code",
      "execution_count": null,
      "metadata": {
        "outputId": "976d90d0-4c03-44f1-c3b4-a44152d806bd",
        "colab": {
          "base_uri": "https://localhost:8080/"
        },
        "id": "NGa-DaVYn_q_"
      },
      "outputs": [
        {
          "output_type": "execute_result",
          "data": {
            "text/plain": [
              "['31172510',\n",
              " '36590463',\n",
              " '37051618',\n",
              " '5700639',\n",
              " '35553934',\n",
              " '33955533',\n",
              " '1047566',\n",
              " '36778868',\n",
              " '4091105',\n",
              " '36977792',\n",
              " '1047561',\n",
              " '2939095',\n",
              " '34930369',\n",
              " '34514465',\n",
              " '37000543',\n",
              " '35963069',\n",
              " '3849486',\n",
              " '33346447',\n",
              " '30829858',\n",
              " '31481849',\n",
              " '36666512',\n",
              " '36968546',\n",
              " '35127354',\n",
              " '36909115',\n",
              " '36985782',\n",
              " '8155476',\n",
              " '5371629',\n",
              " '4586092',\n",
              " '30987581',\n",
              " '36371557',\n",
              " '32061980',\n",
              " '32194058',\n",
              " '8170828',\n",
              " '30611679',\n",
              " '3849496',\n",
              " '9620476',\n",
              " '35363875',\n",
              " '37028992',\n",
              " '34869928',\n",
              " '36985784',\n",
              " '36956557',\n",
              " '5480966',\n",
              " '4153481',\n",
              " '36985781',\n",
              " '33386370',\n",
              " '7877311',\n",
              " '33727889',\n",
              " '31674790',\n",
              " '36109372',\n",
              " '31263577']"
            ]
          },
          "metadata": {},
          "execution_count": 86
        }
      ],
      "source": [
        "songTagList = driver.find_elements(By.ID, 'lst100')\n",
        "\n",
        "number100 = []\n",
        "for i in songTagList:\n",
        "    # 'input_check' 클래스를 가진 자식 요소를 찾아서 'value' 속성을 가져옵니다.\n",
        "    song_id = i.find_element(By.CLASS_NAME, 'input_check').get_attribute('value')\n",
        "    number100.append(song_id)\n",
        "number100"
      ],
      "id": "NGa-DaVYn_q_"
    },
    {
      "cell_type": "code",
      "execution_count": null,
      "metadata": {
        "outputId": "d5c4fa37-933d-43f2-839f-4533a6d8f124",
        "colab": {
          "base_uri": "https://localhost:8080/"
        },
        "id": "cYBNGrbkn_q_"
      },
      "outputs": [
        {
          "output_type": "execute_result",
          "data": {
            "text/plain": [
              "50"
            ]
          },
          "metadata": {},
          "execution_count": 87
        }
      ],
      "source": [
        "len(number100)"
      ],
      "id": "cYBNGrbkn_q_"
    },
    {
      "cell_type": "markdown",
      "metadata": {
        "id": "v_RWG3Fyn_rA"
      },
      "source": [
        "**가사 가져오기**"
      ],
      "id": "v_RWG3Fyn_rA"
    },
    {
      "cell_type": "code",
      "execution_count": null,
      "metadata": {
        "id": "egtBV5_nn_rA"
      },
      "outputs": [],
      "source": [
        "lyric100 = []\n",
        "\n",
        "for i in number100:\n",
        "    song_url = \"https://www.melon.com/song/detail.htm?songId=\" + str(i)\n",
        "    driver.get(song_url)\n",
        "\n",
        "    try:\n",
        "        # WebDriverWait를 사용하여 요소가 나타날 때까지 대기\n",
        "        wait = WebDriverWait(driver, 10)\n",
        "        lyric = wait.until(EC.presence_of_element_located((By.ID, \"d_video_summary\")))\n",
        "\n",
        "        # 가사가 한 줄로 표시되어 있는 경우 <br> 태그로 구분하여 리스트에 추가\n",
        "        lyric_text = lyric.text.replace('<br>', ' ').replace('\\n', ' ')\n",
        "        lyric100.append(lyric_text)\n",
        "\n",
        "    except Exception as e:\n",
        "        print(f\"가사를 가져오는 중 오류 발생: {e}\")\n",
        "        lyric100.append(\"가사를 찾을 수 없음\")"
      ],
      "id": "egtBV5_nn_rA"
    },
    {
      "cell_type": "code",
      "execution_count": null,
      "metadata": {
        "outputId": "6db75db8-0e53-48e8-8046-b433ec8066de",
        "colab": {
          "base_uri": "https://localhost:8080/"
        },
        "id": "z4sJGCsAn_rA"
      },
      "outputs": [
        {
          "output_type": "execute_result",
          "data": {
            "text/plain": [
              "50"
            ]
          },
          "metadata": {},
          "execution_count": 89
        }
      ],
      "source": [
        "len(lyric100)"
      ],
      "id": "z4sJGCsAn_rA"
    },
    {
      "cell_type": "markdown",
      "metadata": {
        "id": "uIKePVxAn_rA"
      },
      "source": [
        "## **5. 데이터프레임으로 저장**"
      ],
      "id": "uIKePVxAn_rA"
    },
    {
      "cell_type": "code",
      "execution_count": null,
      "metadata": {
        "outputId": "b28ebb76-363c-4368-9edd-53093cb2a8ec",
        "colab": {
          "base_uri": "https://localhost:8080/",
          "height": 423
        },
        "id": "7TEhz3tGn_rA"
      },
      "outputs": [
        {
          "output_type": "execute_result",
          "data": {
            "text/plain": [
              "                    Title            Singer  \\\n",
              "0                  후라이의 꿈         AKMU (악뮤)   \n",
              "1                       숲               최유리   \n",
              "2                    연애편지               임영웅   \n",
              "3                   그라데이션              10CM   \n",
              "4                     첫사랑                백아   \n",
              "..                    ...               ...   \n",
              "95                    부끄럼              멜로망스   \n",
              "96                   Rose         디오 (D.O.)   \n",
              "97                   지켜줄게  백예린 (Yerin Baek)   \n",
              "98  가끔 연락하던 애 (@kyulisme)              10CM   \n",
              "99                   매트리스              10CM   \n",
              "\n",
              "                                                Lyric  \n",
              "0   저 거위도 벽을 넘어 하늘을 날을 거라고 달팽이도 넓고 거친 바다 끝에 꿈을 둔다고...  \n",
              "1   난 저기 숲이 돼볼게 너는 자그맣기만 한 언덕 위를 오르며 날 바라볼래 나의 작은 ...  \n",
              "2   노을에 물든 저녁 하늘이 오랜만에 참 좋은 저녁입니다 문득 떠오른 그대 생각에 나지...  \n",
              "3   밤은 다시 길고 깊어졌네 나는 점점 너로 잠 못 들게 돼 글로 적어내긴 어려운 이 ...  \n",
              "4   알아 내 맘에 조용히 문을 두드리면 눈에 뿌옇게 고여버린 널 흘려보내야 해 기억은 ...  \n",
              "..                                                ...  \n",
              "95  쳐다보지 않아도 내 맘은 널 향해 있고 널 바라보길 바라고 쳐다본다 싶으면 혹시나 ...  \n",
              "96  먼지 없는 파란 하늘 위로 바람 따라가는 구름처럼 멀리 가지 말아요 그대로 머물러줘...  \n",
              "97  고가도로에 삐져나온 초록잎 아마 이 도시에서 유일히 적응 못한 낭만일 거야 플라스틱...  \n",
              "98  걘 가끔 언제 만나자면 나오곤 하던 애였는데 참 엊그저께 만난 거 같아 그냥 한두 ...  \n",
              "99  오늘밤 너는 나와 이불 속에 들어가 아무것도 하지 말고 그냥 바라보다가 웃음을 참지...  \n",
              "\n",
              "[100 rows x 3 columns]"
            ],
            "text/html": [
              "<div>\n",
              "<style scoped>\n",
              "    .dataframe tbody tr th:only-of-type {\n",
              "        vertical-align: middle;\n",
              "    }\n",
              "\n",
              "    .dataframe tbody tr th {\n",
              "        vertical-align: top;\n",
              "    }\n",
              "\n",
              "    .dataframe thead th {\n",
              "        text-align: right;\n",
              "    }\n",
              "</style>\n",
              "<table border=\"1\" class=\"dataframe\">\n",
              "  <thead>\n",
              "    <tr style=\"text-align: right;\">\n",
              "      <th></th>\n",
              "      <th>Title</th>\n",
              "      <th>Singer</th>\n",
              "      <th>Lyric</th>\n",
              "    </tr>\n",
              "  </thead>\n",
              "  <tbody>\n",
              "    <tr>\n",
              "      <th>0</th>\n",
              "      <td>후라이의 꿈</td>\n",
              "      <td>AKMU (악뮤)</td>\n",
              "      <td>저 거위도 벽을 넘어 하늘을 날을 거라고 달팽이도 넓고 거친 바다 끝에 꿈을 둔다고...</td>\n",
              "    </tr>\n",
              "    <tr>\n",
              "      <th>1</th>\n",
              "      <td>숲</td>\n",
              "      <td>최유리</td>\n",
              "      <td>난 저기 숲이 돼볼게 너는 자그맣기만 한 언덕 위를 오르며 날 바라볼래 나의 작은 ...</td>\n",
              "    </tr>\n",
              "    <tr>\n",
              "      <th>2</th>\n",
              "      <td>연애편지</td>\n",
              "      <td>임영웅</td>\n",
              "      <td>노을에 물든 저녁 하늘이 오랜만에 참 좋은 저녁입니다 문득 떠오른 그대 생각에 나지...</td>\n",
              "    </tr>\n",
              "    <tr>\n",
              "      <th>3</th>\n",
              "      <td>그라데이션</td>\n",
              "      <td>10CM</td>\n",
              "      <td>밤은 다시 길고 깊어졌네 나는 점점 너로 잠 못 들게 돼 글로 적어내긴 어려운 이 ...</td>\n",
              "    </tr>\n",
              "    <tr>\n",
              "      <th>4</th>\n",
              "      <td>첫사랑</td>\n",
              "      <td>백아</td>\n",
              "      <td>알아 내 맘에 조용히 문을 두드리면 눈에 뿌옇게 고여버린 널 흘려보내야 해 기억은 ...</td>\n",
              "    </tr>\n",
              "    <tr>\n",
              "      <th>...</th>\n",
              "      <td>...</td>\n",
              "      <td>...</td>\n",
              "      <td>...</td>\n",
              "    </tr>\n",
              "    <tr>\n",
              "      <th>95</th>\n",
              "      <td>부끄럼</td>\n",
              "      <td>멜로망스</td>\n",
              "      <td>쳐다보지 않아도 내 맘은 널 향해 있고 널 바라보길 바라고 쳐다본다 싶으면 혹시나 ...</td>\n",
              "    </tr>\n",
              "    <tr>\n",
              "      <th>96</th>\n",
              "      <td>Rose</td>\n",
              "      <td>디오 (D.O.)</td>\n",
              "      <td>먼지 없는 파란 하늘 위로 바람 따라가는 구름처럼 멀리 가지 말아요 그대로 머물러줘...</td>\n",
              "    </tr>\n",
              "    <tr>\n",
              "      <th>97</th>\n",
              "      <td>지켜줄게</td>\n",
              "      <td>백예린 (Yerin Baek)</td>\n",
              "      <td>고가도로에 삐져나온 초록잎 아마 이 도시에서 유일히 적응 못한 낭만일 거야 플라스틱...</td>\n",
              "    </tr>\n",
              "    <tr>\n",
              "      <th>98</th>\n",
              "      <td>가끔 연락하던 애 (@kyulisme)</td>\n",
              "      <td>10CM</td>\n",
              "      <td>걘 가끔 언제 만나자면 나오곤 하던 애였는데 참 엊그저께 만난 거 같아 그냥 한두 ...</td>\n",
              "    </tr>\n",
              "    <tr>\n",
              "      <th>99</th>\n",
              "      <td>매트리스</td>\n",
              "      <td>10CM</td>\n",
              "      <td>오늘밤 너는 나와 이불 속에 들어가 아무것도 하지 말고 그냥 바라보다가 웃음을 참지...</td>\n",
              "    </tr>\n",
              "  </tbody>\n",
              "</table>\n",
              "<p>100 rows × 3 columns</p>\n",
              "</div>"
            ]
          },
          "metadata": {},
          "execution_count": 90
        }
      ],
      "source": [
        "# DataFrame 생성\n",
        "\n",
        "folk = pd.DataFrame({\n",
        "    'Title': title1+title2,\n",
        "    'Singer': singer1+singer2,\n",
        "    'Lyric': lyric50+lyric100\n",
        "})\n",
        "folk"
      ],
      "id": "7TEhz3tGn_rA"
    },
    {
      "cell_type": "code",
      "source": [
        "folk.info()"
      ],
      "metadata": {
        "colab": {
          "base_uri": "https://localhost:8080/"
        },
        "outputId": "010c09e3-0d8b-44d1-cdce-fd187dc88a32",
        "id": "UI5kOxC9n_rA"
      },
      "execution_count": null,
      "outputs": [
        {
          "output_type": "stream",
          "name": "stdout",
          "text": [
            "<class 'pandas.core.frame.DataFrame'>\n",
            "RangeIndex: 100 entries, 0 to 99\n",
            "Data columns (total 3 columns):\n",
            " #   Column  Non-Null Count  Dtype \n",
            "---  ------  --------------  ----- \n",
            " 0   Title   100 non-null    object\n",
            " 1   Singer  100 non-null    object\n",
            " 2   Lyric   100 non-null    object\n",
            "dtypes: object(3)\n",
            "memory usage: 2.5+ KB\n"
          ]
        }
      ],
      "id": "UI5kOxC9n_rA"
    },
    {
      "cell_type": "code",
      "execution_count": null,
      "metadata": {
        "id": "_UIG80SCn_rA"
      },
      "outputs": [],
      "source": [
        "folk.to_csv(\"./Folk_Blues.csv\", index = False, encoding='utf-8')"
      ],
      "id": "_UIG80SCn_rA"
    },
    {
      "cell_type": "markdown",
      "source": [
        "# **Rock_Metal**"
      ],
      "metadata": {
        "id": "PN5r1p3pMo-y"
      },
      "id": "PN5r1p3pMo-y"
    },
    {
      "cell_type": "code",
      "source": [
        "service = Service(executable_path=r'/usr/bin/chromedriver')\n",
        "options = webdriver.ChromeOptions()\n",
        "options.add_argument('--headless')\n",
        "options.add_argument('--no-sandbox')\n",
        "driver = webdriver.Chrome(service=service, options=options)"
      ],
      "metadata": {
        "id": "FW2dIiP5LeAw"
      },
      "execution_count": null,
      "outputs": [],
      "id": "FW2dIiP5LeAw"
    },
    {
      "cell_type": "code",
      "source": [
        "driver.maximize_window() # 크롬창 크기 최대"
      ],
      "metadata": {
        "id": "0gG90BdoRtxz"
      },
      "execution_count": null,
      "outputs": [],
      "id": "0gG90BdoRtxz"
    },
    {
      "cell_type": "code",
      "source": [
        "## 사이트 접속\n",
        "driver.get(\"https://www.melon.com/chart/month/index.htm?classCd=GN0600\")\n",
        "time.sleep(2)\n",
        "\n",
        "### 곡명 가져오기\n",
        "title = driver.find_elements(By.CLASS_NAME, 'ellipsis.rank01')\n",
        "\n",
        "title_ = []\n",
        "for i in title:\n",
        "    title_.append(i.text)\n",
        "\n",
        "### 가수명 가져오기\n",
        "singer = driver.find_elements(By.CLASS_NAME, 'ellipsis.rank02')\n",
        "\n",
        "singer_ = []\n",
        "for i in singer:\n",
        "    singer_.append(i.text)\n",
        "\n",
        "### 가사 가져오기\n",
        "songTagList = driver.find_elements(By.ID, 'lst50')\n",
        "\n",
        "numberlst50 = []\n",
        "for i in songTagList:\n",
        "    # 'input_check' 클래스를 가진 자식 요소를 찾아서 'value' 속성을 가져옵니다.\n",
        "    song_id = i.find_element(By.CLASS_NAME, 'input_check').get_attribute('value')\n",
        "    numberlst50.append(song_id)\n",
        "\n",
        "lyriclst50 = []\n",
        "\n",
        "for i in numberlst50:\n",
        "    song_url = \"https://www.melon.com/song/detail.htm?songId=\" + str(i)\n",
        "    driver.get(song_url)\n",
        "\n",
        "    try:\n",
        "        # WebDriverWait를 사용하여 요소가 나타날 때까지 대기\n",
        "        wait = WebDriverWait(driver, 10)\n",
        "        lyric = wait.until(EC.presence_of_element_located((By.ID, \"d_video_summary\")))\n",
        "\n",
        "        # 가사가 한 줄로 표시되어 있는 경우 <br> 태그로 구분하여 리스트에 추가\n",
        "        lyric_text = lyric.text.replace('<br>', ' ').replace('\\n', ' ')\n",
        "        lyriclst50.append(lyric_text)\n",
        "\n",
        "    except Exception as e:\n",
        "        print(f\"가사를 가져오는 중 오류 발생: {e}\")\n",
        "        lyriclst50.append(\"가사를 찾을 수 없음\")"
      ],
      "metadata": {
        "id": "p5hKKMFVUt0p"
      },
      "execution_count": null,
      "outputs": [],
      "id": "p5hKKMFVUt0p"
    },
    {
      "cell_type": "code",
      "source": [
        "## 사이트 접속\n",
        "driver.get(\"https://www.melon.com/chart/month/index.htm?classCd=GN0600\")\n",
        "time.sleep(2)\n",
        "\n",
        "songTagList = driver.find_elements(By.ID, 'lst100')\n",
        "\n",
        "numberlst100 = []\n",
        "for i in songTagList:\n",
        "    # 'input_check' 클래스를 가진 자식 요소를 찾아서 'value' 속성을 가져옵니다.\n",
        "    song_id = i.find_element(By.CLASS_NAME, 'input_check').get_attribute('value')\n",
        "    numberlst100.append(song_id)\n",
        "\n",
        "lyriclst100 = []\n",
        "\n",
        "for i in numberlst100:\n",
        "    song_url = \"https://www.melon.com/song/detail.htm?songId=\" + str(i)\n",
        "    driver.get(song_url)\n",
        "\n",
        "    try:\n",
        "        # WebDriverWait를 사용하여 요소가 나타날 때까지 대기\n",
        "        wait = WebDriverWait(driver, 10)\n",
        "        lyric = wait.until(EC.presence_of_element_located((By.ID, \"d_video_summary\")))\n",
        "\n",
        "        # 가사가 한 줄로 표시되어 있는 경우 <br> 태그로 구분하여 리스트에 추가\n",
        "        lyric_text = lyric.text.replace('<br>', ' ').replace('\\n', ' ')\n",
        "        lyriclst100.append(lyric_text)\n",
        "\n",
        "    except Exception as e:\n",
        "        print(f\"가사를 가져오는 중 오류 발생: {e}\")\n",
        "        lyriclst100.append(\"가사를 찾을 수 없음\")\n",
        "\n",
        "lyric_ = lyriclst50 + lyriclst100"
      ],
      "metadata": {
        "id": "1uy6j0aVZFsK"
      },
      "execution_count": null,
      "outputs": [],
      "id": "1uy6j0aVZFsK"
    },
    {
      "cell_type": "code",
      "source": [
        "# DataFrame 생성\n",
        "import pandas as pd\n",
        "\n",
        "rock = pd.DataFrame({\n",
        "    'Title': title_,\n",
        "    'Singer': singer_,\n",
        "    'Lyric': lyric_\n",
        "})\n",
        "rock"
      ],
      "metadata": {
        "colab": {
          "base_uri": "https://localhost:8080/",
          "height": 423
        },
        "id": "eMadxFaFQirJ",
        "outputId": "ac99d085-11a2-4779-e31e-1bfe4390127c"
      },
      "execution_count": null,
      "outputs": [
        {
          "output_type": "execute_result",
          "data": {
            "text/plain": [
              "                            Title       Singer  \\\n",
              "0                         사건의 지평선  윤하 (YOUNHA)   \n",
              "1                            심(心)      DK(디셈버)   \n",
              "2                         Discord         QWER   \n",
              "3                    주저하는 연인들을 위해          잔나비   \n",
              "4                            에피소드          이무진   \n",
              "..                            ...          ...   \n",
              "95  몇 번의 여름 (여름날 우리 X TOIL, Gist)   TOIL, Gist   \n",
              "96                     Boogie Man         LUCY   \n",
              "97                         사랑 Two          윤도현   \n",
              "98                          心 (심)            얀   \n",
              "99            Love me or Leave me  DAY6 (데이식스)   \n",
              "\n",
              "                                                Lyric  \n",
              "0   생각이 많은 건 말이야 당연히 해야 할 일이야 나에겐 우리가 지금 1순위야 안전한 ...  \n",
              "1   한땐 너를 사랑했지만 네 곁에 있는 사랑이 너무 아름다워 보기 좋았었기에 잘 되길 ...  \n",
              "2   딱 하나만 물어볼게 넌 완벽이란 게 있다고 생각해? 조금은 어색한 하모니라 해도 그...  \n",
              "3   나는 읽기 쉬운 마음이야 당신도 스윽 훑고 가셔요 달랠 길 없는 외로운 마음 있지 ...  \n",
              "4   나는 말야 버릇이 하나 있어 그건 매일 잠에 들 시간마다 잘 모아둔 기억 조각들 중...  \n",
              "..                                                ...  \n",
              "95  몇 번의 여름이 가고 너는 다시 왔어 이젠 놓치지 않을 거야  이대로 영원하자고 철...  \n",
              "96  이런 날엔 부기맨이 찾아와 나를 잡아간대 깊고 어두운 옷장 속에  머리카락 보일라 ...  \n",
              "97  나의 하루를 가만히 닫아주는 너 은은한 달빛따라 너의 모습 사라지고 홀로 남은 골목...  \n",
              "98  한 땐 너를 사랑했지만 네 곁에 있는 사랑이 너무 아름다워 보기좋았었기에 잘 되길 ...  \n",
              "99  모든 건 너에게 달렸어 난 지켜볼 수 밖에 없어 끝이 날 건지 아닌지는 너의 말 한...  \n",
              "\n",
              "[100 rows x 3 columns]"
            ],
            "text/html": [
              "\n",
              "  <div id=\"df-6fbacfda-1ea6-4708-ab2f-b54cb341bdd2\" class=\"colab-df-container\">\n",
              "    <div>\n",
              "<style scoped>\n",
              "    .dataframe tbody tr th:only-of-type {\n",
              "        vertical-align: middle;\n",
              "    }\n",
              "\n",
              "    .dataframe tbody tr th {\n",
              "        vertical-align: top;\n",
              "    }\n",
              "\n",
              "    .dataframe thead th {\n",
              "        text-align: right;\n",
              "    }\n",
              "</style>\n",
              "<table border=\"1\" class=\"dataframe\">\n",
              "  <thead>\n",
              "    <tr style=\"text-align: right;\">\n",
              "      <th></th>\n",
              "      <th>Title</th>\n",
              "      <th>Singer</th>\n",
              "      <th>Lyric</th>\n",
              "    </tr>\n",
              "  </thead>\n",
              "  <tbody>\n",
              "    <tr>\n",
              "      <th>0</th>\n",
              "      <td>사건의 지평선</td>\n",
              "      <td>윤하 (YOUNHA)</td>\n",
              "      <td>생각이 많은 건 말이야 당연히 해야 할 일이야 나에겐 우리가 지금 1순위야 안전한 ...</td>\n",
              "    </tr>\n",
              "    <tr>\n",
              "      <th>1</th>\n",
              "      <td>심(心)</td>\n",
              "      <td>DK(디셈버)</td>\n",
              "      <td>한땐 너를 사랑했지만 네 곁에 있는 사랑이 너무 아름다워 보기 좋았었기에 잘 되길 ...</td>\n",
              "    </tr>\n",
              "    <tr>\n",
              "      <th>2</th>\n",
              "      <td>Discord</td>\n",
              "      <td>QWER</td>\n",
              "      <td>딱 하나만 물어볼게 넌 완벽이란 게 있다고 생각해? 조금은 어색한 하모니라 해도 그...</td>\n",
              "    </tr>\n",
              "    <tr>\n",
              "      <th>3</th>\n",
              "      <td>주저하는 연인들을 위해</td>\n",
              "      <td>잔나비</td>\n",
              "      <td>나는 읽기 쉬운 마음이야 당신도 스윽 훑고 가셔요 달랠 길 없는 외로운 마음 있지 ...</td>\n",
              "    </tr>\n",
              "    <tr>\n",
              "      <th>4</th>\n",
              "      <td>에피소드</td>\n",
              "      <td>이무진</td>\n",
              "      <td>나는 말야 버릇이 하나 있어 그건 매일 잠에 들 시간마다 잘 모아둔 기억 조각들 중...</td>\n",
              "    </tr>\n",
              "    <tr>\n",
              "      <th>...</th>\n",
              "      <td>...</td>\n",
              "      <td>...</td>\n",
              "      <td>...</td>\n",
              "    </tr>\n",
              "    <tr>\n",
              "      <th>95</th>\n",
              "      <td>몇 번의 여름 (여름날 우리 X TOIL, Gist)</td>\n",
              "      <td>TOIL, Gist</td>\n",
              "      <td>몇 번의 여름이 가고 너는 다시 왔어 이젠 놓치지 않을 거야  이대로 영원하자고 철...</td>\n",
              "    </tr>\n",
              "    <tr>\n",
              "      <th>96</th>\n",
              "      <td>Boogie Man</td>\n",
              "      <td>LUCY</td>\n",
              "      <td>이런 날엔 부기맨이 찾아와 나를 잡아간대 깊고 어두운 옷장 속에  머리카락 보일라 ...</td>\n",
              "    </tr>\n",
              "    <tr>\n",
              "      <th>97</th>\n",
              "      <td>사랑 Two</td>\n",
              "      <td>윤도현</td>\n",
              "      <td>나의 하루를 가만히 닫아주는 너 은은한 달빛따라 너의 모습 사라지고 홀로 남은 골목...</td>\n",
              "    </tr>\n",
              "    <tr>\n",
              "      <th>98</th>\n",
              "      <td>心 (심)</td>\n",
              "      <td>얀</td>\n",
              "      <td>한 땐 너를 사랑했지만 네 곁에 있는 사랑이 너무 아름다워 보기좋았었기에 잘 되길 ...</td>\n",
              "    </tr>\n",
              "    <tr>\n",
              "      <th>99</th>\n",
              "      <td>Love me or Leave me</td>\n",
              "      <td>DAY6 (데이식스)</td>\n",
              "      <td>모든 건 너에게 달렸어 난 지켜볼 수 밖에 없어 끝이 날 건지 아닌지는 너의 말 한...</td>\n",
              "    </tr>\n",
              "  </tbody>\n",
              "</table>\n",
              "<p>100 rows × 3 columns</p>\n",
              "</div>\n",
              "    <div class=\"colab-df-buttons\">\n",
              "\n",
              "  <div class=\"colab-df-container\">\n",
              "    <button class=\"colab-df-convert\" onclick=\"convertToInteractive('df-6fbacfda-1ea6-4708-ab2f-b54cb341bdd2')\"\n",
              "            title=\"Convert this dataframe to an interactive table.\"\n",
              "            style=\"display:none;\">\n",
              "\n",
              "  <svg xmlns=\"http://www.w3.org/2000/svg\" height=\"24px\" viewBox=\"0 -960 960 960\">\n",
              "    <path d=\"M120-120v-720h720v720H120Zm60-500h600v-160H180v160Zm220 220h160v-160H400v160Zm0 220h160v-160H400v160ZM180-400h160v-160H180v160Zm440 0h160v-160H620v160ZM180-180h160v-160H180v160Zm440 0h160v-160H620v160Z\"/>\n",
              "  </svg>\n",
              "    </button>\n",
              "\n",
              "  <style>\n",
              "    .colab-df-container {\n",
              "      display:flex;\n",
              "      gap: 12px;\n",
              "    }\n",
              "\n",
              "    .colab-df-convert {\n",
              "      background-color: #E8F0FE;\n",
              "      border: none;\n",
              "      border-radius: 50%;\n",
              "      cursor: pointer;\n",
              "      display: none;\n",
              "      fill: #1967D2;\n",
              "      height: 32px;\n",
              "      padding: 0 0 0 0;\n",
              "      width: 32px;\n",
              "    }\n",
              "\n",
              "    .colab-df-convert:hover {\n",
              "      background-color: #E2EBFA;\n",
              "      box-shadow: 0px 1px 2px rgba(60, 64, 67, 0.3), 0px 1px 3px 1px rgba(60, 64, 67, 0.15);\n",
              "      fill: #174EA6;\n",
              "    }\n",
              "\n",
              "    .colab-df-buttons div {\n",
              "      margin-bottom: 4px;\n",
              "    }\n",
              "\n",
              "    [theme=dark] .colab-df-convert {\n",
              "      background-color: #3B4455;\n",
              "      fill: #D2E3FC;\n",
              "    }\n",
              "\n",
              "    [theme=dark] .colab-df-convert:hover {\n",
              "      background-color: #434B5C;\n",
              "      box-shadow: 0px 1px 3px 1px rgba(0, 0, 0, 0.15);\n",
              "      filter: drop-shadow(0px 1px 2px rgba(0, 0, 0, 0.3));\n",
              "      fill: #FFFFFF;\n",
              "    }\n",
              "  </style>\n",
              "\n",
              "    <script>\n",
              "      const buttonEl =\n",
              "        document.querySelector('#df-6fbacfda-1ea6-4708-ab2f-b54cb341bdd2 button.colab-df-convert');\n",
              "      buttonEl.style.display =\n",
              "        google.colab.kernel.accessAllowed ? 'block' : 'none';\n",
              "\n",
              "      async function convertToInteractive(key) {\n",
              "        const element = document.querySelector('#df-6fbacfda-1ea6-4708-ab2f-b54cb341bdd2');\n",
              "        const dataTable =\n",
              "          await google.colab.kernel.invokeFunction('convertToInteractive',\n",
              "                                                    [key], {});\n",
              "        if (!dataTable) return;\n",
              "\n",
              "        const docLinkHtml = 'Like what you see? Visit the ' +\n",
              "          '<a target=\"_blank\" href=https://colab.research.google.com/notebooks/data_table.ipynb>data table notebook</a>'\n",
              "          + ' to learn more about interactive tables.';\n",
              "        element.innerHTML = '';\n",
              "        dataTable['output_type'] = 'display_data';\n",
              "        await google.colab.output.renderOutput(dataTable, element);\n",
              "        const docLink = document.createElement('div');\n",
              "        docLink.innerHTML = docLinkHtml;\n",
              "        element.appendChild(docLink);\n",
              "      }\n",
              "    </script>\n",
              "  </div>\n",
              "\n",
              "\n",
              "<div id=\"df-491bb810-d4d8-4ed0-9ef5-7b194227a5f9\">\n",
              "  <button class=\"colab-df-quickchart\" onclick=\"quickchart('df-491bb810-d4d8-4ed0-9ef5-7b194227a5f9')\"\n",
              "            title=\"Suggest charts\"\n",
              "            style=\"display:none;\">\n",
              "\n",
              "<svg xmlns=\"http://www.w3.org/2000/svg\" height=\"24px\"viewBox=\"0 0 24 24\"\n",
              "     width=\"24px\">\n",
              "    <g>\n",
              "        <path d=\"M19 3H5c-1.1 0-2 .9-2 2v14c0 1.1.9 2 2 2h14c1.1 0 2-.9 2-2V5c0-1.1-.9-2-2-2zM9 17H7v-7h2v7zm4 0h-2V7h2v10zm4 0h-2v-4h2v4z\"/>\n",
              "    </g>\n",
              "</svg>\n",
              "  </button>\n",
              "\n",
              "<style>\n",
              "  .colab-df-quickchart {\n",
              "      --bg-color: #E8F0FE;\n",
              "      --fill-color: #1967D2;\n",
              "      --hover-bg-color: #E2EBFA;\n",
              "      --hover-fill-color: #174EA6;\n",
              "      --disabled-fill-color: #AAA;\n",
              "      --disabled-bg-color: #DDD;\n",
              "  }\n",
              "\n",
              "  [theme=dark] .colab-df-quickchart {\n",
              "      --bg-color: #3B4455;\n",
              "      --fill-color: #D2E3FC;\n",
              "      --hover-bg-color: #434B5C;\n",
              "      --hover-fill-color: #FFFFFF;\n",
              "      --disabled-bg-color: #3B4455;\n",
              "      --disabled-fill-color: #666;\n",
              "  }\n",
              "\n",
              "  .colab-df-quickchart {\n",
              "    background-color: var(--bg-color);\n",
              "    border: none;\n",
              "    border-radius: 50%;\n",
              "    cursor: pointer;\n",
              "    display: none;\n",
              "    fill: var(--fill-color);\n",
              "    height: 32px;\n",
              "    padding: 0;\n",
              "    width: 32px;\n",
              "  }\n",
              "\n",
              "  .colab-df-quickchart:hover {\n",
              "    background-color: var(--hover-bg-color);\n",
              "    box-shadow: 0 1px 2px rgba(60, 64, 67, 0.3), 0 1px 3px 1px rgba(60, 64, 67, 0.15);\n",
              "    fill: var(--button-hover-fill-color);\n",
              "  }\n",
              "\n",
              "  .colab-df-quickchart-complete:disabled,\n",
              "  .colab-df-quickchart-complete:disabled:hover {\n",
              "    background-color: var(--disabled-bg-color);\n",
              "    fill: var(--disabled-fill-color);\n",
              "    box-shadow: none;\n",
              "  }\n",
              "\n",
              "  .colab-df-spinner {\n",
              "    border: 2px solid var(--fill-color);\n",
              "    border-color: transparent;\n",
              "    border-bottom-color: var(--fill-color);\n",
              "    animation:\n",
              "      spin 1s steps(1) infinite;\n",
              "  }\n",
              "\n",
              "  @keyframes spin {\n",
              "    0% {\n",
              "      border-color: transparent;\n",
              "      border-bottom-color: var(--fill-color);\n",
              "      border-left-color: var(--fill-color);\n",
              "    }\n",
              "    20% {\n",
              "      border-color: transparent;\n",
              "      border-left-color: var(--fill-color);\n",
              "      border-top-color: var(--fill-color);\n",
              "    }\n",
              "    30% {\n",
              "      border-color: transparent;\n",
              "      border-left-color: var(--fill-color);\n",
              "      border-top-color: var(--fill-color);\n",
              "      border-right-color: var(--fill-color);\n",
              "    }\n",
              "    40% {\n",
              "      border-color: transparent;\n",
              "      border-right-color: var(--fill-color);\n",
              "      border-top-color: var(--fill-color);\n",
              "    }\n",
              "    60% {\n",
              "      border-color: transparent;\n",
              "      border-right-color: var(--fill-color);\n",
              "    }\n",
              "    80% {\n",
              "      border-color: transparent;\n",
              "      border-right-color: var(--fill-color);\n",
              "      border-bottom-color: var(--fill-color);\n",
              "    }\n",
              "    90% {\n",
              "      border-color: transparent;\n",
              "      border-bottom-color: var(--fill-color);\n",
              "    }\n",
              "  }\n",
              "</style>\n",
              "\n",
              "  <script>\n",
              "    async function quickchart(key) {\n",
              "      const quickchartButtonEl =\n",
              "        document.querySelector('#' + key + ' button');\n",
              "      quickchartButtonEl.disabled = true;  // To prevent multiple clicks.\n",
              "      quickchartButtonEl.classList.add('colab-df-spinner');\n",
              "      try {\n",
              "        const charts = await google.colab.kernel.invokeFunction(\n",
              "            'suggestCharts', [key], {});\n",
              "      } catch (error) {\n",
              "        console.error('Error during call to suggestCharts:', error);\n",
              "      }\n",
              "      quickchartButtonEl.classList.remove('colab-df-spinner');\n",
              "      quickchartButtonEl.classList.add('colab-df-quickchart-complete');\n",
              "    }\n",
              "    (() => {\n",
              "      let quickchartButtonEl =\n",
              "        document.querySelector('#df-491bb810-d4d8-4ed0-9ef5-7b194227a5f9 button');\n",
              "      quickchartButtonEl.style.display =\n",
              "        google.colab.kernel.accessAllowed ? 'block' : 'none';\n",
              "    })();\n",
              "  </script>\n",
              "</div>\n",
              "\n",
              "  <div id=\"id_a9a35e2f-8937-4509-a4f8-040c08a966d3\">\n",
              "    <style>\n",
              "      .colab-df-generate {\n",
              "        background-color: #E8F0FE;\n",
              "        border: none;\n",
              "        border-radius: 50%;\n",
              "        cursor: pointer;\n",
              "        display: none;\n",
              "        fill: #1967D2;\n",
              "        height: 32px;\n",
              "        padding: 0 0 0 0;\n",
              "        width: 32px;\n",
              "      }\n",
              "\n",
              "      .colab-df-generate:hover {\n",
              "        background-color: #E2EBFA;\n",
              "        box-shadow: 0px 1px 2px rgba(60, 64, 67, 0.3), 0px 1px 3px 1px rgba(60, 64, 67, 0.15);\n",
              "        fill: #174EA6;\n",
              "      }\n",
              "\n",
              "      [theme=dark] .colab-df-generate {\n",
              "        background-color: #3B4455;\n",
              "        fill: #D2E3FC;\n",
              "      }\n",
              "\n",
              "      [theme=dark] .colab-df-generate:hover {\n",
              "        background-color: #434B5C;\n",
              "        box-shadow: 0px 1px 3px 1px rgba(0, 0, 0, 0.15);\n",
              "        filter: drop-shadow(0px 1px 2px rgba(0, 0, 0, 0.3));\n",
              "        fill: #FFFFFF;\n",
              "      }\n",
              "    </style>\n",
              "    <button class=\"colab-df-generate\" onclick=\"generateWithVariable('rock')\"\n",
              "            title=\"Generate code using this dataframe.\"\n",
              "            style=\"display:none;\">\n",
              "\n",
              "  <svg xmlns=\"http://www.w3.org/2000/svg\" height=\"24px\"viewBox=\"0 0 24 24\"\n",
              "       width=\"24px\">\n",
              "    <path d=\"M7,19H8.4L18.45,9,17,7.55,7,17.6ZM5,21V16.75L18.45,3.32a2,2,0,0,1,2.83,0l1.4,1.43a1.91,1.91,0,0,1,.58,1.4,1.91,1.91,0,0,1-.58,1.4L9.25,21ZM18.45,9,17,7.55Zm-12,3A5.31,5.31,0,0,0,4.9,8.1,5.31,5.31,0,0,0,1,6.5,5.31,5.31,0,0,0,4.9,4.9,5.31,5.31,0,0,0,6.5,1,5.31,5.31,0,0,0,8.1,4.9,5.31,5.31,0,0,0,12,6.5,5.46,5.46,0,0,0,6.5,12Z\"/>\n",
              "  </svg>\n",
              "    </button>\n",
              "    <script>\n",
              "      (() => {\n",
              "      const buttonEl =\n",
              "        document.querySelector('#id_a9a35e2f-8937-4509-a4f8-040c08a966d3 button.colab-df-generate');\n",
              "      buttonEl.style.display =\n",
              "        google.colab.kernel.accessAllowed ? 'block' : 'none';\n",
              "\n",
              "      buttonEl.onclick = () => {\n",
              "        google.colab.notebook.generateWithVariable('rock');\n",
              "      }\n",
              "      })();\n",
              "    </script>\n",
              "  </div>\n",
              "\n",
              "    </div>\n",
              "  </div>\n"
            ]
          },
          "metadata": {},
          "execution_count": 69
        }
      ],
      "id": "eMadxFaFQirJ"
    },
    {
      "cell_type": "code",
      "source": [
        "rock.info()"
      ],
      "metadata": {
        "colab": {
          "base_uri": "https://localhost:8080/"
        },
        "id": "mGEzy_9LQy1k",
        "outputId": "eca4afcb-886e-4162-bdd2-0d4e35f64baf"
      },
      "execution_count": null,
      "outputs": [
        {
          "output_type": "stream",
          "name": "stdout",
          "text": [
            "<class 'pandas.core.frame.DataFrame'>\n",
            "RangeIndex: 100 entries, 0 to 99\n",
            "Data columns (total 3 columns):\n",
            " #   Column  Non-Null Count  Dtype \n",
            "---  ------  --------------  ----- \n",
            " 0   Title   100 non-null    object\n",
            " 1   Singer  100 non-null    object\n",
            " 2   Lyric   100 non-null    object\n",
            "dtypes: object(3)\n",
            "memory usage: 2.5+ KB\n"
          ]
        }
      ],
      "id": "mGEzy_9LQy1k"
    },
    {
      "cell_type": "code",
      "source": [
        "rock.to_csv(\"/content/drive/MyDrive/Hmm2Song/data/info/Rock_Metal.csv\", index = False, encoding='utf-8')"
      ],
      "metadata": {
        "id": "hGEla32CQ1Kj"
      },
      "execution_count": null,
      "outputs": [],
      "id": "hGEla32CQ1Kj"
    },
    {
      "cell_type": "markdown",
      "source": [
        "# **Trot**"
      ],
      "metadata": {
        "id": "ZDlZljsEaVOi"
      },
      "id": "ZDlZljsEaVOi"
    },
    {
      "cell_type": "code",
      "source": [
        "## 사이트 접속\n",
        "driver.get(\"https://www.melon.com/chart/month/index.htm?classCd=GN0700\")\n",
        "time.sleep(2)\n",
        "\n",
        "### 곡명 가져오기\n",
        "title = driver.find_elements(By.CLASS_NAME, 'ellipsis.rank01')\n",
        "\n",
        "title_ = []\n",
        "for i in title:\n",
        "    title_.append(i.text)\n",
        "\n",
        "### 가수명 가져오기\n",
        "singer = driver.find_elements(By.CLASS_NAME, 'ellipsis.rank02')\n",
        "\n",
        "singer_ = []\n",
        "for i in singer:\n",
        "    singer_.append(i.text)\n",
        "\n",
        "### 가사 가져오기\n",
        "songTagList = driver.find_elements(By.ID, 'lst50')\n",
        "\n",
        "numberlst50 = []\n",
        "for i in songTagList:\n",
        "    # 'input_check' 클래스를 가진 자식 요소를 찾아서 'value' 속성을 가져옵니다.\n",
        "    song_id = i.find_element(By.CLASS_NAME, 'input_check').get_attribute('value')\n",
        "    numberlst50.append(song_id)\n",
        "\n",
        "lyriclst50 = []\n",
        "\n",
        "for i in numberlst50:\n",
        "    song_url = \"https://www.melon.com/song/detail.htm?songId=\" + str(i)\n",
        "    driver.get(song_url)\n",
        "\n",
        "    try:\n",
        "        # WebDriverWait를 사용하여 요소가 나타날 때까지 대기\n",
        "        wait = WebDriverWait(driver, 10)\n",
        "        lyric = wait.until(EC.presence_of_element_located((By.ID, \"d_video_summary\")))\n",
        "\n",
        "        # 가사가 한 줄로 표시되어 있는 경우 <br> 태그로 구분하여 리스트에 추가\n",
        "        lyric_text = lyric.text.replace('<br>', ' ').replace('\\n', ' ')\n",
        "        lyriclst50.append(lyric_text)\n",
        "\n",
        "    except Exception as e:\n",
        "        print(f\"가사를 가져오는 중 오류 발생: {e}\")\n",
        "        lyriclst50.append(\"가사를 찾을 수 없음\")"
      ],
      "metadata": {
        "id": "zfyzwU5oPV5n"
      },
      "execution_count": null,
      "outputs": [],
      "id": "zfyzwU5oPV5n"
    },
    {
      "cell_type": "code",
      "source": [
        "## 사이트 접속\n",
        "driver.get(\"https://www.melon.com/chart/month/index.htm?classCd=GN0700\")\n",
        "time.sleep(2)\n",
        "\n",
        "songTagList = driver.find_elements(By.ID, 'lst100')\n",
        "\n",
        "numberlst100 = []\n",
        "for i in songTagList:\n",
        "    # 'input_check' 클래스를 가진 자식 요소를 찾아서 'value' 속성을 가져옵니다.\n",
        "    song_id = i.find_element(By.CLASS_NAME, 'input_check').get_attribute('value')\n",
        "    numberlst100.append(song_id)\n",
        "\n",
        "lyriclst100 = []\n",
        "\n",
        "for i in numberlst100:\n",
        "    song_url = \"https://www.melon.com/song/detail.htm?songId=\" + str(i)\n",
        "    driver.get(song_url)\n",
        "\n",
        "    try:\n",
        "        # WebDriverWait를 사용하여 요소가 나타날 때까지 대기\n",
        "        wait = WebDriverWait(driver, 10)\n",
        "        lyric = wait.until(EC.presence_of_element_located((By.ID, \"d_video_summary\")))\n",
        "\n",
        "        # 가사가 한 줄로 표시되어 있는 경우 <br> 태그로 구분하여 리스트에 추가\n",
        "        lyric_text = lyric.text.replace('<br>', ' ').replace('\\n', ' ')\n",
        "        lyriclst100.append(lyric_text)\n",
        "\n",
        "    except Exception as e:\n",
        "        print(f\"가사를 가져오는 중 오류 발생: {e}\")\n",
        "        lyriclst100.append(\"가사를 찾을 수 없음\")\n",
        "\n",
        "lyric_ = lyriclst50 + lyriclst100"
      ],
      "metadata": {
        "id": "SYqgIaZFaz97"
      },
      "execution_count": null,
      "outputs": [],
      "id": "SYqgIaZFaz97"
    },
    {
      "cell_type": "code",
      "source": [
        "# DataFrame 생성\n",
        "import pandas as pd\n",
        "\n",
        "trot = pd.DataFrame({\n",
        "    'Title': title_,\n",
        "    'Singer': singer_,\n",
        "    'Lyric': lyric_\n",
        "})\n",
        "trot"
      ],
      "metadata": {
        "colab": {
          "base_uri": "https://localhost:8080/",
          "height": 423
        },
        "id": "SKbezajJa8W8",
        "outputId": "d666d851-5281-4832-d42b-cf7789ab226a"
      },
      "execution_count": null,
      "outputs": [
        {
          "output_type": "execute_result",
          "data": {
            "text/plain": [
              "                           Title Singer  \\\n",
              "0                      이제 나만 믿어요    임영웅   \n",
              "1                            꽃구경    황영웅   \n",
              "2   애인이 되어줄게요 (Prod. 알고보니, 혼수상태)    김호중   \n",
              "3                             꽃비    황영웅   \n",
              "4                            찐이야     영탁   \n",
              "..                           ...    ...   \n",
              "95                        떠나는 임아    박서진   \n",
              "96                     그때 우린 젊었다    장민호   \n",
              "97                           끝사랑    임영웅   \n",
              "98                       추억의 소야곡    정동원   \n",
              "99                         미운 사랑    황영웅   \n",
              "\n",
              "                                                Lyric  \n",
              "0   무얼 믿은 걸까 부족했던 내게서 나조차 못 믿던 내게 여태 머문 사람 무얼 봤던 걸...  \n",
              "1   시월의 어느 가을밤 허름한 선술집에서 쓸쓸히 혼자 술잔 채우는 울 엄마 닮은 그 사...  \n",
              "2   누가누가 당신 맘을 외롭게 합니까 누가누가 당신 맘에 눈물을 주나요 바람결에 떨어지...  \n",
              "3   우리 어매 고운 눈가에 눈물비가 마를 날 없고 아들내미 뒷바라지에 허리춤이 말라져 ...  \n",
              "4   찐찐찐찐 찐이야 완전 찐이야 진짜가 나타났다 지금 찐찐찐찐 찐이야 완전 찐이야 찐하...  \n",
              "..                                                ...  \n",
              "95  가려거든 울지 말아요 울려거든 가지 말아요 그리워 못 보내는 님 못 잊어 못 보내는...  \n",
              "96  그때 우린 젊었다 태양처럼 빛났다 오로지 앞만 보고 달려갔었다 그때 우린 좋았다 힘...  \n",
              "97  내가 이렇게 아픈데 그댄 어떨까요 원래 떠나는 사람이 더 힘든 법인데 아무 말하지 ...  \n",
              "98  다시 한번 그 얼굴이 보고 싶어라 몸부림치며 울며 떠난 사람아 저 달이 밝혀주는 이...  \n",
              "99  남몰래 기다리다가 가슴만 태우는 사랑 어제는 기다림에 오늘은 외로움 그리움에 적셔진...  \n",
              "\n",
              "[100 rows x 3 columns]"
            ],
            "text/html": [
              "\n",
              "  <div id=\"df-eaac9cc3-6de2-40a6-b48f-d283031ca27f\" class=\"colab-df-container\">\n",
              "    <div>\n",
              "<style scoped>\n",
              "    .dataframe tbody tr th:only-of-type {\n",
              "        vertical-align: middle;\n",
              "    }\n",
              "\n",
              "    .dataframe tbody tr th {\n",
              "        vertical-align: top;\n",
              "    }\n",
              "\n",
              "    .dataframe thead th {\n",
              "        text-align: right;\n",
              "    }\n",
              "</style>\n",
              "<table border=\"1\" class=\"dataframe\">\n",
              "  <thead>\n",
              "    <tr style=\"text-align: right;\">\n",
              "      <th></th>\n",
              "      <th>Title</th>\n",
              "      <th>Singer</th>\n",
              "      <th>Lyric</th>\n",
              "    </tr>\n",
              "  </thead>\n",
              "  <tbody>\n",
              "    <tr>\n",
              "      <th>0</th>\n",
              "      <td>이제 나만 믿어요</td>\n",
              "      <td>임영웅</td>\n",
              "      <td>무얼 믿은 걸까 부족했던 내게서 나조차 못 믿던 내게 여태 머문 사람 무얼 봤던 걸...</td>\n",
              "    </tr>\n",
              "    <tr>\n",
              "      <th>1</th>\n",
              "      <td>꽃구경</td>\n",
              "      <td>황영웅</td>\n",
              "      <td>시월의 어느 가을밤 허름한 선술집에서 쓸쓸히 혼자 술잔 채우는 울 엄마 닮은 그 사...</td>\n",
              "    </tr>\n",
              "    <tr>\n",
              "      <th>2</th>\n",
              "      <td>애인이 되어줄게요 (Prod. 알고보니, 혼수상태)</td>\n",
              "      <td>김호중</td>\n",
              "      <td>누가누가 당신 맘을 외롭게 합니까 누가누가 당신 맘에 눈물을 주나요 바람결에 떨어지...</td>\n",
              "    </tr>\n",
              "    <tr>\n",
              "      <th>3</th>\n",
              "      <td>꽃비</td>\n",
              "      <td>황영웅</td>\n",
              "      <td>우리 어매 고운 눈가에 눈물비가 마를 날 없고 아들내미 뒷바라지에 허리춤이 말라져 ...</td>\n",
              "    </tr>\n",
              "    <tr>\n",
              "      <th>4</th>\n",
              "      <td>찐이야</td>\n",
              "      <td>영탁</td>\n",
              "      <td>찐찐찐찐 찐이야 완전 찐이야 진짜가 나타났다 지금 찐찐찐찐 찐이야 완전 찐이야 찐하...</td>\n",
              "    </tr>\n",
              "    <tr>\n",
              "      <th>...</th>\n",
              "      <td>...</td>\n",
              "      <td>...</td>\n",
              "      <td>...</td>\n",
              "    </tr>\n",
              "    <tr>\n",
              "      <th>95</th>\n",
              "      <td>떠나는 임아</td>\n",
              "      <td>박서진</td>\n",
              "      <td>가려거든 울지 말아요 울려거든 가지 말아요 그리워 못 보내는 님 못 잊어 못 보내는...</td>\n",
              "    </tr>\n",
              "    <tr>\n",
              "      <th>96</th>\n",
              "      <td>그때 우린 젊었다</td>\n",
              "      <td>장민호</td>\n",
              "      <td>그때 우린 젊었다 태양처럼 빛났다 오로지 앞만 보고 달려갔었다 그때 우린 좋았다 힘...</td>\n",
              "    </tr>\n",
              "    <tr>\n",
              "      <th>97</th>\n",
              "      <td>끝사랑</td>\n",
              "      <td>임영웅</td>\n",
              "      <td>내가 이렇게 아픈데 그댄 어떨까요 원래 떠나는 사람이 더 힘든 법인데 아무 말하지 ...</td>\n",
              "    </tr>\n",
              "    <tr>\n",
              "      <th>98</th>\n",
              "      <td>추억의 소야곡</td>\n",
              "      <td>정동원</td>\n",
              "      <td>다시 한번 그 얼굴이 보고 싶어라 몸부림치며 울며 떠난 사람아 저 달이 밝혀주는 이...</td>\n",
              "    </tr>\n",
              "    <tr>\n",
              "      <th>99</th>\n",
              "      <td>미운 사랑</td>\n",
              "      <td>황영웅</td>\n",
              "      <td>남몰래 기다리다가 가슴만 태우는 사랑 어제는 기다림에 오늘은 외로움 그리움에 적셔진...</td>\n",
              "    </tr>\n",
              "  </tbody>\n",
              "</table>\n",
              "<p>100 rows × 3 columns</p>\n",
              "</div>\n",
              "    <div class=\"colab-df-buttons\">\n",
              "\n",
              "  <div class=\"colab-df-container\">\n",
              "    <button class=\"colab-df-convert\" onclick=\"convertToInteractive('df-eaac9cc3-6de2-40a6-b48f-d283031ca27f')\"\n",
              "            title=\"Convert this dataframe to an interactive table.\"\n",
              "            style=\"display:none;\">\n",
              "\n",
              "  <svg xmlns=\"http://www.w3.org/2000/svg\" height=\"24px\" viewBox=\"0 -960 960 960\">\n",
              "    <path d=\"M120-120v-720h720v720H120Zm60-500h600v-160H180v160Zm220 220h160v-160H400v160Zm0 220h160v-160H400v160ZM180-400h160v-160H180v160Zm440 0h160v-160H620v160ZM180-180h160v-160H180v160Zm440 0h160v-160H620v160Z\"/>\n",
              "  </svg>\n",
              "    </button>\n",
              "\n",
              "  <style>\n",
              "    .colab-df-container {\n",
              "      display:flex;\n",
              "      gap: 12px;\n",
              "    }\n",
              "\n",
              "    .colab-df-convert {\n",
              "      background-color: #E8F0FE;\n",
              "      border: none;\n",
              "      border-radius: 50%;\n",
              "      cursor: pointer;\n",
              "      display: none;\n",
              "      fill: #1967D2;\n",
              "      height: 32px;\n",
              "      padding: 0 0 0 0;\n",
              "      width: 32px;\n",
              "    }\n",
              "\n",
              "    .colab-df-convert:hover {\n",
              "      background-color: #E2EBFA;\n",
              "      box-shadow: 0px 1px 2px rgba(60, 64, 67, 0.3), 0px 1px 3px 1px rgba(60, 64, 67, 0.15);\n",
              "      fill: #174EA6;\n",
              "    }\n",
              "\n",
              "    .colab-df-buttons div {\n",
              "      margin-bottom: 4px;\n",
              "    }\n",
              "\n",
              "    [theme=dark] .colab-df-convert {\n",
              "      background-color: #3B4455;\n",
              "      fill: #D2E3FC;\n",
              "    }\n",
              "\n",
              "    [theme=dark] .colab-df-convert:hover {\n",
              "      background-color: #434B5C;\n",
              "      box-shadow: 0px 1px 3px 1px rgba(0, 0, 0, 0.15);\n",
              "      filter: drop-shadow(0px 1px 2px rgba(0, 0, 0, 0.3));\n",
              "      fill: #FFFFFF;\n",
              "    }\n",
              "  </style>\n",
              "\n",
              "    <script>\n",
              "      const buttonEl =\n",
              "        document.querySelector('#df-eaac9cc3-6de2-40a6-b48f-d283031ca27f button.colab-df-convert');\n",
              "      buttonEl.style.display =\n",
              "        google.colab.kernel.accessAllowed ? 'block' : 'none';\n",
              "\n",
              "      async function convertToInteractive(key) {\n",
              "        const element = document.querySelector('#df-eaac9cc3-6de2-40a6-b48f-d283031ca27f');\n",
              "        const dataTable =\n",
              "          await google.colab.kernel.invokeFunction('convertToInteractive',\n",
              "                                                    [key], {});\n",
              "        if (!dataTable) return;\n",
              "\n",
              "        const docLinkHtml = 'Like what you see? Visit the ' +\n",
              "          '<a target=\"_blank\" href=https://colab.research.google.com/notebooks/data_table.ipynb>data table notebook</a>'\n",
              "          + ' to learn more about interactive tables.';\n",
              "        element.innerHTML = '';\n",
              "        dataTable['output_type'] = 'display_data';\n",
              "        await google.colab.output.renderOutput(dataTable, element);\n",
              "        const docLink = document.createElement('div');\n",
              "        docLink.innerHTML = docLinkHtml;\n",
              "        element.appendChild(docLink);\n",
              "      }\n",
              "    </script>\n",
              "  </div>\n",
              "\n",
              "\n",
              "<div id=\"df-0f175896-f6fb-4985-9c25-1168a95377f7\">\n",
              "  <button class=\"colab-df-quickchart\" onclick=\"quickchart('df-0f175896-f6fb-4985-9c25-1168a95377f7')\"\n",
              "            title=\"Suggest charts\"\n",
              "            style=\"display:none;\">\n",
              "\n",
              "<svg xmlns=\"http://www.w3.org/2000/svg\" height=\"24px\"viewBox=\"0 0 24 24\"\n",
              "     width=\"24px\">\n",
              "    <g>\n",
              "        <path d=\"M19 3H5c-1.1 0-2 .9-2 2v14c0 1.1.9 2 2 2h14c1.1 0 2-.9 2-2V5c0-1.1-.9-2-2-2zM9 17H7v-7h2v7zm4 0h-2V7h2v10zm4 0h-2v-4h2v4z\"/>\n",
              "    </g>\n",
              "</svg>\n",
              "  </button>\n",
              "\n",
              "<style>\n",
              "  .colab-df-quickchart {\n",
              "      --bg-color: #E8F0FE;\n",
              "      --fill-color: #1967D2;\n",
              "      --hover-bg-color: #E2EBFA;\n",
              "      --hover-fill-color: #174EA6;\n",
              "      --disabled-fill-color: #AAA;\n",
              "      --disabled-bg-color: #DDD;\n",
              "  }\n",
              "\n",
              "  [theme=dark] .colab-df-quickchart {\n",
              "      --bg-color: #3B4455;\n",
              "      --fill-color: #D2E3FC;\n",
              "      --hover-bg-color: #434B5C;\n",
              "      --hover-fill-color: #FFFFFF;\n",
              "      --disabled-bg-color: #3B4455;\n",
              "      --disabled-fill-color: #666;\n",
              "  }\n",
              "\n",
              "  .colab-df-quickchart {\n",
              "    background-color: var(--bg-color);\n",
              "    border: none;\n",
              "    border-radius: 50%;\n",
              "    cursor: pointer;\n",
              "    display: none;\n",
              "    fill: var(--fill-color);\n",
              "    height: 32px;\n",
              "    padding: 0;\n",
              "    width: 32px;\n",
              "  }\n",
              "\n",
              "  .colab-df-quickchart:hover {\n",
              "    background-color: var(--hover-bg-color);\n",
              "    box-shadow: 0 1px 2px rgba(60, 64, 67, 0.3), 0 1px 3px 1px rgba(60, 64, 67, 0.15);\n",
              "    fill: var(--button-hover-fill-color);\n",
              "  }\n",
              "\n",
              "  .colab-df-quickchart-complete:disabled,\n",
              "  .colab-df-quickchart-complete:disabled:hover {\n",
              "    background-color: var(--disabled-bg-color);\n",
              "    fill: var(--disabled-fill-color);\n",
              "    box-shadow: none;\n",
              "  }\n",
              "\n",
              "  .colab-df-spinner {\n",
              "    border: 2px solid var(--fill-color);\n",
              "    border-color: transparent;\n",
              "    border-bottom-color: var(--fill-color);\n",
              "    animation:\n",
              "      spin 1s steps(1) infinite;\n",
              "  }\n",
              "\n",
              "  @keyframes spin {\n",
              "    0% {\n",
              "      border-color: transparent;\n",
              "      border-bottom-color: var(--fill-color);\n",
              "      border-left-color: var(--fill-color);\n",
              "    }\n",
              "    20% {\n",
              "      border-color: transparent;\n",
              "      border-left-color: var(--fill-color);\n",
              "      border-top-color: var(--fill-color);\n",
              "    }\n",
              "    30% {\n",
              "      border-color: transparent;\n",
              "      border-left-color: var(--fill-color);\n",
              "      border-top-color: var(--fill-color);\n",
              "      border-right-color: var(--fill-color);\n",
              "    }\n",
              "    40% {\n",
              "      border-color: transparent;\n",
              "      border-right-color: var(--fill-color);\n",
              "      border-top-color: var(--fill-color);\n",
              "    }\n",
              "    60% {\n",
              "      border-color: transparent;\n",
              "      border-right-color: var(--fill-color);\n",
              "    }\n",
              "    80% {\n",
              "      border-color: transparent;\n",
              "      border-right-color: var(--fill-color);\n",
              "      border-bottom-color: var(--fill-color);\n",
              "    }\n",
              "    90% {\n",
              "      border-color: transparent;\n",
              "      border-bottom-color: var(--fill-color);\n",
              "    }\n",
              "  }\n",
              "</style>\n",
              "\n",
              "  <script>\n",
              "    async function quickchart(key) {\n",
              "      const quickchartButtonEl =\n",
              "        document.querySelector('#' + key + ' button');\n",
              "      quickchartButtonEl.disabled = true;  // To prevent multiple clicks.\n",
              "      quickchartButtonEl.classList.add('colab-df-spinner');\n",
              "      try {\n",
              "        const charts = await google.colab.kernel.invokeFunction(\n",
              "            'suggestCharts', [key], {});\n",
              "      } catch (error) {\n",
              "        console.error('Error during call to suggestCharts:', error);\n",
              "      }\n",
              "      quickchartButtonEl.classList.remove('colab-df-spinner');\n",
              "      quickchartButtonEl.classList.add('colab-df-quickchart-complete');\n",
              "    }\n",
              "    (() => {\n",
              "      let quickchartButtonEl =\n",
              "        document.querySelector('#df-0f175896-f6fb-4985-9c25-1168a95377f7 button');\n",
              "      quickchartButtonEl.style.display =\n",
              "        google.colab.kernel.accessAllowed ? 'block' : 'none';\n",
              "    })();\n",
              "  </script>\n",
              "</div>\n",
              "\n",
              "  <div id=\"id_1c093c9f-5b19-4d0c-aa18-6b68533f9288\">\n",
              "    <style>\n",
              "      .colab-df-generate {\n",
              "        background-color: #E8F0FE;\n",
              "        border: none;\n",
              "        border-radius: 50%;\n",
              "        cursor: pointer;\n",
              "        display: none;\n",
              "        fill: #1967D2;\n",
              "        height: 32px;\n",
              "        padding: 0 0 0 0;\n",
              "        width: 32px;\n",
              "      }\n",
              "\n",
              "      .colab-df-generate:hover {\n",
              "        background-color: #E2EBFA;\n",
              "        box-shadow: 0px 1px 2px rgba(60, 64, 67, 0.3), 0px 1px 3px 1px rgba(60, 64, 67, 0.15);\n",
              "        fill: #174EA6;\n",
              "      }\n",
              "\n",
              "      [theme=dark] .colab-df-generate {\n",
              "        background-color: #3B4455;\n",
              "        fill: #D2E3FC;\n",
              "      }\n",
              "\n",
              "      [theme=dark] .colab-df-generate:hover {\n",
              "        background-color: #434B5C;\n",
              "        box-shadow: 0px 1px 3px 1px rgba(0, 0, 0, 0.15);\n",
              "        filter: drop-shadow(0px 1px 2px rgba(0, 0, 0, 0.3));\n",
              "        fill: #FFFFFF;\n",
              "      }\n",
              "    </style>\n",
              "    <button class=\"colab-df-generate\" onclick=\"generateWithVariable('trot')\"\n",
              "            title=\"Generate code using this dataframe.\"\n",
              "            style=\"display:none;\">\n",
              "\n",
              "  <svg xmlns=\"http://www.w3.org/2000/svg\" height=\"24px\"viewBox=\"0 0 24 24\"\n",
              "       width=\"24px\">\n",
              "    <path d=\"M7,19H8.4L18.45,9,17,7.55,7,17.6ZM5,21V16.75L18.45,3.32a2,2,0,0,1,2.83,0l1.4,1.43a1.91,1.91,0,0,1,.58,1.4,1.91,1.91,0,0,1-.58,1.4L9.25,21ZM18.45,9,17,7.55Zm-12,3A5.31,5.31,0,0,0,4.9,8.1,5.31,5.31,0,0,0,1,6.5,5.31,5.31,0,0,0,4.9,4.9,5.31,5.31,0,0,0,6.5,1,5.31,5.31,0,0,0,8.1,4.9,5.31,5.31,0,0,0,12,6.5,5.46,5.46,0,0,0,6.5,12Z\"/>\n",
              "  </svg>\n",
              "    </button>\n",
              "    <script>\n",
              "      (() => {\n",
              "      const buttonEl =\n",
              "        document.querySelector('#id_1c093c9f-5b19-4d0c-aa18-6b68533f9288 button.colab-df-generate');\n",
              "      buttonEl.style.display =\n",
              "        google.colab.kernel.accessAllowed ? 'block' : 'none';\n",
              "\n",
              "      buttonEl.onclick = () => {\n",
              "        google.colab.notebook.generateWithVariable('trot');\n",
              "      }\n",
              "      })();\n",
              "    </script>\n",
              "  </div>\n",
              "\n",
              "    </div>\n",
              "  </div>\n"
            ]
          },
          "metadata": {},
          "execution_count": 74
        }
      ],
      "id": "SKbezajJa8W8"
    },
    {
      "cell_type": "code",
      "source": [
        "trot.info()"
      ],
      "metadata": {
        "colab": {
          "base_uri": "https://localhost:8080/"
        },
        "id": "7n6okQ-ca-yi",
        "outputId": "7bafdcb6-3107-4967-fe56-65f4a2689d40"
      },
      "execution_count": null,
      "outputs": [
        {
          "output_type": "stream",
          "name": "stdout",
          "text": [
            "<class 'pandas.core.frame.DataFrame'>\n",
            "RangeIndex: 100 entries, 0 to 99\n",
            "Data columns (total 3 columns):\n",
            " #   Column  Non-Null Count  Dtype \n",
            "---  ------  --------------  ----- \n",
            " 0   Title   100 non-null    object\n",
            " 1   Singer  100 non-null    object\n",
            " 2   Lyric   100 non-null    object\n",
            "dtypes: object(3)\n",
            "memory usage: 2.5+ KB\n"
          ]
        }
      ],
      "id": "7n6okQ-ca-yi"
    },
    {
      "cell_type": "code",
      "source": [
        "trot.to_csv(\"/content/drive/MyDrive/Hmm2Song/data/info/Trot.csv\", index = False, encoding='utf-8')"
      ],
      "metadata": {
        "id": "qD6Y7_ulbDJ1"
      },
      "execution_count": null,
      "outputs": [],
      "id": "qD6Y7_ulbDJ1"
    },
    {
      "cell_type": "markdown",
      "source": [
        "# **Hiphop**"
      ],
      "metadata": {
        "id": "5IH6cxGLbIov"
      },
      "id": "5IH6cxGLbIov"
    },
    {
      "cell_type": "code",
      "source": [
        "## 사이트 접속\n",
        "driver.get(\"https://www.melon.com/chart/month/index.htm?classCd=GN0300\")\n",
        "time.sleep(2)\n",
        "\n",
        "### 곡명 가져오기\n",
        "title = driver.find_elements(By.CLASS_NAME, 'ellipsis.rank01')\n",
        "\n",
        "title_ = []\n",
        "for i in title:\n",
        "    title_.append(i.text)\n",
        "\n",
        "### 가수명 가져오기\n",
        "singer = driver.find_elements(By.CLASS_NAME, 'ellipsis.rank02')\n",
        "\n",
        "singer_ = []\n",
        "for i in singer:\n",
        "    singer_.append(i.text)\n",
        "\n",
        "### 가사 가져오기\n",
        "songTagList = driver.find_elements(By.ID, 'lst50')\n",
        "\n",
        "numberlst50 = []\n",
        "for i in songTagList:\n",
        "    # 'input_check' 클래스를 가진 자식 요소를 찾아서 'value' 속성을 가져옵니다.\n",
        "    song_id = i.find_element(By.CLASS_NAME, 'input_check').get_attribute('value')\n",
        "    numberlst50.append(song_id)\n",
        "\n",
        "lyriclst50 = []\n",
        "\n",
        "for i in numberlst50:\n",
        "    song_url = \"https://www.melon.com/song/detail.htm?songId=\" + str(i)\n",
        "    driver.get(song_url)\n",
        "\n",
        "    try:\n",
        "        # WebDriverWait를 사용하여 요소가 나타날 때까지 대기\n",
        "        wait = WebDriverWait(driver, 10)\n",
        "        lyric = wait.until(EC.presence_of_element_located((By.ID, \"d_video_summary\")))\n",
        "\n",
        "        # 가사가 한 줄로 표시되어 있는 경우 <br> 태그로 구분하여 리스트에 추가\n",
        "        lyric_text = lyric.text.replace('<br>', ' ').replace('\\n', ' ')\n",
        "        lyriclst50.append(lyric_text)\n",
        "\n",
        "    except Exception as e:\n",
        "        print(f\"가사를 가져오는 중 오류 발생: {e}\")\n",
        "        lyriclst50.append(\"가사를 찾을 수 없음\")"
      ],
      "metadata": {
        "id": "m1cLQlCObNgZ"
      },
      "execution_count": null,
      "outputs": [],
      "id": "m1cLQlCObNgZ"
    },
    {
      "cell_type": "code",
      "source": [
        "## 사이트 접속\n",
        "driver.get(\"https://www.melon.com/chart/month/index.htm?classCd=GN0300\")\n",
        "time.sleep(2)\n",
        "\n",
        "songTagList = driver.find_elements(By.ID, 'lst100')\n",
        "\n",
        "numberlst100 = []\n",
        "for i in songTagList:\n",
        "    # 'input_check' 클래스를 가진 자식 요소를 찾아서 'value' 속성을 가져옵니다.\n",
        "    song_id = i.find_element(By.CLASS_NAME, 'input_check').get_attribute('value')\n",
        "    numberlst100.append(song_id)\n",
        "\n",
        "lyriclst100 = []\n",
        "\n",
        "for i in numberlst100:\n",
        "    song_url = \"https://www.melon.com/song/detail.htm?songId=\" + str(i)\n",
        "    driver.get(song_url)\n",
        "\n",
        "    try:\n",
        "        # WebDriverWait를 사용하여 요소가 나타날 때까지 대기\n",
        "        wait = WebDriverWait(driver, 10)\n",
        "        lyric = wait.until(EC.presence_of_element_located((By.ID, \"d_video_summary\")))\n",
        "\n",
        "        # 가사가 한 줄로 표시되어 있는 경우 <br> 태그로 구분하여 리스트에 추가\n",
        "        lyric_text = lyric.text.replace('<br>', ' ').replace('\\n', ' ')\n",
        "        lyriclst100.append(lyric_text)\n",
        "\n",
        "    except Exception as e:\n",
        "        print(f\"가사를 가져오는 중 오류 발생: {e}\")\n",
        "        lyriclst100.append(\"가사를 찾을 수 없음\")\n",
        "\n",
        "lyric_ = lyriclst50 + lyriclst100"
      ],
      "metadata": {
        "id": "FjugitoDbNgZ"
      },
      "execution_count": null,
      "outputs": [],
      "id": "FjugitoDbNgZ"
    },
    {
      "cell_type": "code",
      "source": [
        "# DataFrame 생성\n",
        "import pandas as pd\n",
        "\n",
        "hiphop = pd.DataFrame({\n",
        "    'Title': title_,\n",
        "    'Singer': singer_,\n",
        "    'Lyric': lyric_\n",
        "})"
      ],
      "metadata": {
        "id": "YWYZVg_ufG42"
      },
      "execution_count": null,
      "outputs": [],
      "id": "YWYZVg_ufG42"
    },
    {
      "cell_type": "code",
      "source": [
        "hiphop"
      ],
      "metadata": {
        "colab": {
          "base_uri": "https://localhost:8080/",
          "height": 423
        },
        "id": "F6yJZ0kKfEI2",
        "outputId": "76f14876-0bfa-46dc-e618-6833fc436125"
      },
      "execution_count": null,
      "outputs": [
        {
          "output_type": "execute_result",
          "data": {
            "text/plain": [
              "                                   Title  \\\n",
              "0         Smoke (Prod. Dynamicduo, Padi)   \n",
              "1               Summer (Feat. BE’O (비오))   \n",
              "2                                     봄날   \n",
              "3   이쁜 여자가 좋더라 (Feat. Gist, Jayci yucca)   \n",
              "4                           미쳐버리겠다 (MAD)   \n",
              "..                                   ...   \n",
              "95                  뱅뱅뱅 (BANG BANG BANG)   \n",
              "96                Nerdy Love (Feat. 백예린)   \n",
              "97                              널 너무 모르고   \n",
              "98                      Closer Than This   \n",
              "99                Wake Up (Prod. 코드 쿤스트)   \n",
              "\n",
              "                                               Singer  \\\n",
              "0                                        다이나믹 듀오, 이영지   \n",
              "1                                         Paul Blanco   \n",
              "2                                               방탄소년단   \n",
              "3                                   릴러말즈 (Leellamarz)   \n",
              "4                                           BE'O (비오)   \n",
              "..                                                ...   \n",
              "95                                       BIGBANG (빅뱅)   \n",
              "96                                               pH-1   \n",
              "97                                        헤이즈 (Heize)   \n",
              "98                                                 지민   \n",
              "99  개코, 아우릴고트 (OUREALGOAT), SINCE, 안병웅, Tabber, 조광...   \n",
              "\n",
              "                                                Lyric  \n",
              "0   Light it up Light it up Light it up  나는 달리거나 넘...  \n",
              "1   The sun goes up I'm sorry I forgot her name I ...  \n",
              "2   보고 싶다 이렇게 말하니까 더 보고 싶다 너희 사진을 보고 있어도 보고 싶다 너무 ...  \n",
              "3   멋진 여자 섹시한 여자 귀여운 여자 처음 본 여자 자고 간 여자 많은 여자가 있지만...  \n",
              "4   이 노래를 네 이름처럼 이 가사 말을 너의 목소리처럼 불러봐 Find you (fi...  \n",
              "..                                                ...  \n",
              "95  난 깨어나 까만 밤과 함께 다 들어와 담엔 누구 차례 한 치 앞도 볼 수 없는 막장...  \n",
              "96  알람 우는 소리에 난 wake up 비가 오고 난 후 날이 개어있어 어제 골라 놓은...  \n",
              "97  이제는 알아 말 안 해도 왜 이리도 쉬운 걸 몰랐을까 이 옷들을 고를 시간에 30분...  \n",
              "98  너도 기억하니? 우리 첫 만남이 수줍고 어색했던 그때 문득 돌아보니 어느새 여기까지...  \n",
              "99  \"무거운 몸을 또 일으켜 세워 난 부서지는 게 무섭지 않아 힘들 땐 잠시만 갓길에 ...  \n",
              "\n",
              "[100 rows x 3 columns]"
            ],
            "text/html": [
              "\n",
              "  <div id=\"df-51e146a3-dd9c-442a-965e-3e83b0d58dc5\" class=\"colab-df-container\">\n",
              "    <div>\n",
              "<style scoped>\n",
              "    .dataframe tbody tr th:only-of-type {\n",
              "        vertical-align: middle;\n",
              "    }\n",
              "\n",
              "    .dataframe tbody tr th {\n",
              "        vertical-align: top;\n",
              "    }\n",
              "\n",
              "    .dataframe thead th {\n",
              "        text-align: right;\n",
              "    }\n",
              "</style>\n",
              "<table border=\"1\" class=\"dataframe\">\n",
              "  <thead>\n",
              "    <tr style=\"text-align: right;\">\n",
              "      <th></th>\n",
              "      <th>Title</th>\n",
              "      <th>Singer</th>\n",
              "      <th>Lyric</th>\n",
              "    </tr>\n",
              "  </thead>\n",
              "  <tbody>\n",
              "    <tr>\n",
              "      <th>0</th>\n",
              "      <td>Smoke (Prod. Dynamicduo, Padi)</td>\n",
              "      <td>다이나믹 듀오, 이영지</td>\n",
              "      <td>Light it up Light it up Light it up  나는 달리거나 넘...</td>\n",
              "    </tr>\n",
              "    <tr>\n",
              "      <th>1</th>\n",
              "      <td>Summer (Feat. BE’O (비오))</td>\n",
              "      <td>Paul Blanco</td>\n",
              "      <td>The sun goes up I'm sorry I forgot her name I ...</td>\n",
              "    </tr>\n",
              "    <tr>\n",
              "      <th>2</th>\n",
              "      <td>봄날</td>\n",
              "      <td>방탄소년단</td>\n",
              "      <td>보고 싶다 이렇게 말하니까 더 보고 싶다 너희 사진을 보고 있어도 보고 싶다 너무 ...</td>\n",
              "    </tr>\n",
              "    <tr>\n",
              "      <th>3</th>\n",
              "      <td>이쁜 여자가 좋더라 (Feat. Gist, Jayci yucca)</td>\n",
              "      <td>릴러말즈 (Leellamarz)</td>\n",
              "      <td>멋진 여자 섹시한 여자 귀여운 여자 처음 본 여자 자고 간 여자 많은 여자가 있지만...</td>\n",
              "    </tr>\n",
              "    <tr>\n",
              "      <th>4</th>\n",
              "      <td>미쳐버리겠다 (MAD)</td>\n",
              "      <td>BE'O (비오)</td>\n",
              "      <td>이 노래를 네 이름처럼 이 가사 말을 너의 목소리처럼 불러봐 Find you (fi...</td>\n",
              "    </tr>\n",
              "    <tr>\n",
              "      <th>...</th>\n",
              "      <td>...</td>\n",
              "      <td>...</td>\n",
              "      <td>...</td>\n",
              "    </tr>\n",
              "    <tr>\n",
              "      <th>95</th>\n",
              "      <td>뱅뱅뱅 (BANG BANG BANG)</td>\n",
              "      <td>BIGBANG (빅뱅)</td>\n",
              "      <td>난 깨어나 까만 밤과 함께 다 들어와 담엔 누구 차례 한 치 앞도 볼 수 없는 막장...</td>\n",
              "    </tr>\n",
              "    <tr>\n",
              "      <th>96</th>\n",
              "      <td>Nerdy Love (Feat. 백예린)</td>\n",
              "      <td>pH-1</td>\n",
              "      <td>알람 우는 소리에 난 wake up 비가 오고 난 후 날이 개어있어 어제 골라 놓은...</td>\n",
              "    </tr>\n",
              "    <tr>\n",
              "      <th>97</th>\n",
              "      <td>널 너무 모르고</td>\n",
              "      <td>헤이즈 (Heize)</td>\n",
              "      <td>이제는 알아 말 안 해도 왜 이리도 쉬운 걸 몰랐을까 이 옷들을 고를 시간에 30분...</td>\n",
              "    </tr>\n",
              "    <tr>\n",
              "      <th>98</th>\n",
              "      <td>Closer Than This</td>\n",
              "      <td>지민</td>\n",
              "      <td>너도 기억하니? 우리 첫 만남이 수줍고 어색했던 그때 문득 돌아보니 어느새 여기까지...</td>\n",
              "    </tr>\n",
              "    <tr>\n",
              "      <th>99</th>\n",
              "      <td>Wake Up (Prod. 코드 쿤스트)</td>\n",
              "      <td>개코, 아우릴고트 (OUREALGOAT), SINCE, 안병웅, Tabber, 조광...</td>\n",
              "      <td>\"무거운 몸을 또 일으켜 세워 난 부서지는 게 무섭지 않아 힘들 땐 잠시만 갓길에 ...</td>\n",
              "    </tr>\n",
              "  </tbody>\n",
              "</table>\n",
              "<p>100 rows × 3 columns</p>\n",
              "</div>\n",
              "    <div class=\"colab-df-buttons\">\n",
              "\n",
              "  <div class=\"colab-df-container\">\n",
              "    <button class=\"colab-df-convert\" onclick=\"convertToInteractive('df-51e146a3-dd9c-442a-965e-3e83b0d58dc5')\"\n",
              "            title=\"Convert this dataframe to an interactive table.\"\n",
              "            style=\"display:none;\">\n",
              "\n",
              "  <svg xmlns=\"http://www.w3.org/2000/svg\" height=\"24px\" viewBox=\"0 -960 960 960\">\n",
              "    <path d=\"M120-120v-720h720v720H120Zm60-500h600v-160H180v160Zm220 220h160v-160H400v160Zm0 220h160v-160H400v160ZM180-400h160v-160H180v160Zm440 0h160v-160H620v160ZM180-180h160v-160H180v160Zm440 0h160v-160H620v160Z\"/>\n",
              "  </svg>\n",
              "    </button>\n",
              "\n",
              "  <style>\n",
              "    .colab-df-container {\n",
              "      display:flex;\n",
              "      gap: 12px;\n",
              "    }\n",
              "\n",
              "    .colab-df-convert {\n",
              "      background-color: #E8F0FE;\n",
              "      border: none;\n",
              "      border-radius: 50%;\n",
              "      cursor: pointer;\n",
              "      display: none;\n",
              "      fill: #1967D2;\n",
              "      height: 32px;\n",
              "      padding: 0 0 0 0;\n",
              "      width: 32px;\n",
              "    }\n",
              "\n",
              "    .colab-df-convert:hover {\n",
              "      background-color: #E2EBFA;\n",
              "      box-shadow: 0px 1px 2px rgba(60, 64, 67, 0.3), 0px 1px 3px 1px rgba(60, 64, 67, 0.15);\n",
              "      fill: #174EA6;\n",
              "    }\n",
              "\n",
              "    .colab-df-buttons div {\n",
              "      margin-bottom: 4px;\n",
              "    }\n",
              "\n",
              "    [theme=dark] .colab-df-convert {\n",
              "      background-color: #3B4455;\n",
              "      fill: #D2E3FC;\n",
              "    }\n",
              "\n",
              "    [theme=dark] .colab-df-convert:hover {\n",
              "      background-color: #434B5C;\n",
              "      box-shadow: 0px 1px 3px 1px rgba(0, 0, 0, 0.15);\n",
              "      filter: drop-shadow(0px 1px 2px rgba(0, 0, 0, 0.3));\n",
              "      fill: #FFFFFF;\n",
              "    }\n",
              "  </style>\n",
              "\n",
              "    <script>\n",
              "      const buttonEl =\n",
              "        document.querySelector('#df-51e146a3-dd9c-442a-965e-3e83b0d58dc5 button.colab-df-convert');\n",
              "      buttonEl.style.display =\n",
              "        google.colab.kernel.accessAllowed ? 'block' : 'none';\n",
              "\n",
              "      async function convertToInteractive(key) {\n",
              "        const element = document.querySelector('#df-51e146a3-dd9c-442a-965e-3e83b0d58dc5');\n",
              "        const dataTable =\n",
              "          await google.colab.kernel.invokeFunction('convertToInteractive',\n",
              "                                                    [key], {});\n",
              "        if (!dataTable) return;\n",
              "\n",
              "        const docLinkHtml = 'Like what you see? Visit the ' +\n",
              "          '<a target=\"_blank\" href=https://colab.research.google.com/notebooks/data_table.ipynb>data table notebook</a>'\n",
              "          + ' to learn more about interactive tables.';\n",
              "        element.innerHTML = '';\n",
              "        dataTable['output_type'] = 'display_data';\n",
              "        await google.colab.output.renderOutput(dataTable, element);\n",
              "        const docLink = document.createElement('div');\n",
              "        docLink.innerHTML = docLinkHtml;\n",
              "        element.appendChild(docLink);\n",
              "      }\n",
              "    </script>\n",
              "  </div>\n",
              "\n",
              "\n",
              "<div id=\"df-715695e1-8f5c-4e9d-bfdf-068799ffe4c5\">\n",
              "  <button class=\"colab-df-quickchart\" onclick=\"quickchart('df-715695e1-8f5c-4e9d-bfdf-068799ffe4c5')\"\n",
              "            title=\"Suggest charts\"\n",
              "            style=\"display:none;\">\n",
              "\n",
              "<svg xmlns=\"http://www.w3.org/2000/svg\" height=\"24px\"viewBox=\"0 0 24 24\"\n",
              "     width=\"24px\">\n",
              "    <g>\n",
              "        <path d=\"M19 3H5c-1.1 0-2 .9-2 2v14c0 1.1.9 2 2 2h14c1.1 0 2-.9 2-2V5c0-1.1-.9-2-2-2zM9 17H7v-7h2v7zm4 0h-2V7h2v10zm4 0h-2v-4h2v4z\"/>\n",
              "    </g>\n",
              "</svg>\n",
              "  </button>\n",
              "\n",
              "<style>\n",
              "  .colab-df-quickchart {\n",
              "      --bg-color: #E8F0FE;\n",
              "      --fill-color: #1967D2;\n",
              "      --hover-bg-color: #E2EBFA;\n",
              "      --hover-fill-color: #174EA6;\n",
              "      --disabled-fill-color: #AAA;\n",
              "      --disabled-bg-color: #DDD;\n",
              "  }\n",
              "\n",
              "  [theme=dark] .colab-df-quickchart {\n",
              "      --bg-color: #3B4455;\n",
              "      --fill-color: #D2E3FC;\n",
              "      --hover-bg-color: #434B5C;\n",
              "      --hover-fill-color: #FFFFFF;\n",
              "      --disabled-bg-color: #3B4455;\n",
              "      --disabled-fill-color: #666;\n",
              "  }\n",
              "\n",
              "  .colab-df-quickchart {\n",
              "    background-color: var(--bg-color);\n",
              "    border: none;\n",
              "    border-radius: 50%;\n",
              "    cursor: pointer;\n",
              "    display: none;\n",
              "    fill: var(--fill-color);\n",
              "    height: 32px;\n",
              "    padding: 0;\n",
              "    width: 32px;\n",
              "  }\n",
              "\n",
              "  .colab-df-quickchart:hover {\n",
              "    background-color: var(--hover-bg-color);\n",
              "    box-shadow: 0 1px 2px rgba(60, 64, 67, 0.3), 0 1px 3px 1px rgba(60, 64, 67, 0.15);\n",
              "    fill: var(--button-hover-fill-color);\n",
              "  }\n",
              "\n",
              "  .colab-df-quickchart-complete:disabled,\n",
              "  .colab-df-quickchart-complete:disabled:hover {\n",
              "    background-color: var(--disabled-bg-color);\n",
              "    fill: var(--disabled-fill-color);\n",
              "    box-shadow: none;\n",
              "  }\n",
              "\n",
              "  .colab-df-spinner {\n",
              "    border: 2px solid var(--fill-color);\n",
              "    border-color: transparent;\n",
              "    border-bottom-color: var(--fill-color);\n",
              "    animation:\n",
              "      spin 1s steps(1) infinite;\n",
              "  }\n",
              "\n",
              "  @keyframes spin {\n",
              "    0% {\n",
              "      border-color: transparent;\n",
              "      border-bottom-color: var(--fill-color);\n",
              "      border-left-color: var(--fill-color);\n",
              "    }\n",
              "    20% {\n",
              "      border-color: transparent;\n",
              "      border-left-color: var(--fill-color);\n",
              "      border-top-color: var(--fill-color);\n",
              "    }\n",
              "    30% {\n",
              "      border-color: transparent;\n",
              "      border-left-color: var(--fill-color);\n",
              "      border-top-color: var(--fill-color);\n",
              "      border-right-color: var(--fill-color);\n",
              "    }\n",
              "    40% {\n",
              "      border-color: transparent;\n",
              "      border-right-color: var(--fill-color);\n",
              "      border-top-color: var(--fill-color);\n",
              "    }\n",
              "    60% {\n",
              "      border-color: transparent;\n",
              "      border-right-color: var(--fill-color);\n",
              "    }\n",
              "    80% {\n",
              "      border-color: transparent;\n",
              "      border-right-color: var(--fill-color);\n",
              "      border-bottom-color: var(--fill-color);\n",
              "    }\n",
              "    90% {\n",
              "      border-color: transparent;\n",
              "      border-bottom-color: var(--fill-color);\n",
              "    }\n",
              "  }\n",
              "</style>\n",
              "\n",
              "  <script>\n",
              "    async function quickchart(key) {\n",
              "      const quickchartButtonEl =\n",
              "        document.querySelector('#' + key + ' button');\n",
              "      quickchartButtonEl.disabled = true;  // To prevent multiple clicks.\n",
              "      quickchartButtonEl.classList.add('colab-df-spinner');\n",
              "      try {\n",
              "        const charts = await google.colab.kernel.invokeFunction(\n",
              "            'suggestCharts', [key], {});\n",
              "      } catch (error) {\n",
              "        console.error('Error during call to suggestCharts:', error);\n",
              "      }\n",
              "      quickchartButtonEl.classList.remove('colab-df-spinner');\n",
              "      quickchartButtonEl.classList.add('colab-df-quickchart-complete');\n",
              "    }\n",
              "    (() => {\n",
              "      let quickchartButtonEl =\n",
              "        document.querySelector('#df-715695e1-8f5c-4e9d-bfdf-068799ffe4c5 button');\n",
              "      quickchartButtonEl.style.display =\n",
              "        google.colab.kernel.accessAllowed ? 'block' : 'none';\n",
              "    })();\n",
              "  </script>\n",
              "</div>\n",
              "\n",
              "  <div id=\"id_abb125a7-cd69-445a-836e-370f3034d409\">\n",
              "    <style>\n",
              "      .colab-df-generate {\n",
              "        background-color: #E8F0FE;\n",
              "        border: none;\n",
              "        border-radius: 50%;\n",
              "        cursor: pointer;\n",
              "        display: none;\n",
              "        fill: #1967D2;\n",
              "        height: 32px;\n",
              "        padding: 0 0 0 0;\n",
              "        width: 32px;\n",
              "      }\n",
              "\n",
              "      .colab-df-generate:hover {\n",
              "        background-color: #E2EBFA;\n",
              "        box-shadow: 0px 1px 2px rgba(60, 64, 67, 0.3), 0px 1px 3px 1px rgba(60, 64, 67, 0.15);\n",
              "        fill: #174EA6;\n",
              "      }\n",
              "\n",
              "      [theme=dark] .colab-df-generate {\n",
              "        background-color: #3B4455;\n",
              "        fill: #D2E3FC;\n",
              "      }\n",
              "\n",
              "      [theme=dark] .colab-df-generate:hover {\n",
              "        background-color: #434B5C;\n",
              "        box-shadow: 0px 1px 3px 1px rgba(0, 0, 0, 0.15);\n",
              "        filter: drop-shadow(0px 1px 2px rgba(0, 0, 0, 0.3));\n",
              "        fill: #FFFFFF;\n",
              "      }\n",
              "    </style>\n",
              "    <button class=\"colab-df-generate\" onclick=\"generateWithVariable('hiphop')\"\n",
              "            title=\"Generate code using this dataframe.\"\n",
              "            style=\"display:none;\">\n",
              "\n",
              "  <svg xmlns=\"http://www.w3.org/2000/svg\" height=\"24px\"viewBox=\"0 0 24 24\"\n",
              "       width=\"24px\">\n",
              "    <path d=\"M7,19H8.4L18.45,9,17,7.55,7,17.6ZM5,21V16.75L18.45,3.32a2,2,0,0,1,2.83,0l1.4,1.43a1.91,1.91,0,0,1,.58,1.4,1.91,1.91,0,0,1-.58,1.4L9.25,21ZM18.45,9,17,7.55Zm-12,3A5.31,5.31,0,0,0,4.9,8.1,5.31,5.31,0,0,0,1,6.5,5.31,5.31,0,0,0,4.9,4.9,5.31,5.31,0,0,0,6.5,1,5.31,5.31,0,0,0,8.1,4.9,5.31,5.31,0,0,0,12,6.5,5.46,5.46,0,0,0,6.5,12Z\"/>\n",
              "  </svg>\n",
              "    </button>\n",
              "    <script>\n",
              "      (() => {\n",
              "      const buttonEl =\n",
              "        document.querySelector('#id_abb125a7-cd69-445a-836e-370f3034d409 button.colab-df-generate');\n",
              "      buttonEl.style.display =\n",
              "        google.colab.kernel.accessAllowed ? 'block' : 'none';\n",
              "\n",
              "      buttonEl.onclick = () => {\n",
              "        google.colab.notebook.generateWithVariable('hiphop');\n",
              "      }\n",
              "      })();\n",
              "    </script>\n",
              "  </div>\n",
              "\n",
              "    </div>\n",
              "  </div>\n"
            ]
          },
          "metadata": {},
          "execution_count": 81
        }
      ],
      "id": "F6yJZ0kKfEI2"
    },
    {
      "cell_type": "code",
      "source": [
        "hiphop.info()"
      ],
      "metadata": {
        "colab": {
          "base_uri": "https://localhost:8080/"
        },
        "id": "0Bp-7JBWbNgZ",
        "outputId": "4b4efdb0-974e-4c08-c4cc-92cb697e3fe0"
      },
      "execution_count": null,
      "outputs": [
        {
          "output_type": "stream",
          "name": "stdout",
          "text": [
            "<class 'pandas.core.frame.DataFrame'>\n",
            "RangeIndex: 100 entries, 0 to 99\n",
            "Data columns (total 3 columns):\n",
            " #   Column  Non-Null Count  Dtype \n",
            "---  ------  --------------  ----- \n",
            " 0   Title   100 non-null    object\n",
            " 1   Singer  100 non-null    object\n",
            " 2   Lyric   100 non-null    object\n",
            "dtypes: object(3)\n",
            "memory usage: 2.5+ KB\n",
            "<class 'pandas.core.frame.DataFrame'>\n",
            "RangeIndex: 100 entries, 0 to 99\n",
            "Data columns (total 3 columns):\n",
            " #   Column  Non-Null Count  Dtype \n",
            "---  ------  --------------  ----- \n",
            " 0   Title   100 non-null    object\n",
            " 1   Singer  100 non-null    object\n",
            " 2   Lyric   100 non-null    object\n",
            "dtypes: object(3)\n",
            "memory usage: 2.5+ KB\n"
          ]
        }
      ],
      "id": "0Bp-7JBWbNgZ"
    },
    {
      "cell_type": "code",
      "source": [
        "hiphop.to_csv(\"/content/drive/MyDrive/Hmm2Song/data/info/Hiphop.csv\", index = False, encoding='utf-8')"
      ],
      "metadata": {
        "id": "rgAzQnlabNga"
      },
      "execution_count": null,
      "outputs": [],
      "id": "rgAzQnlabNga"
    }
  ],
  "metadata": {
    "colab": {
      "provenance": [],
      "collapsed_sections": [
        "26-eHkMin0zA"
      ],
      "include_colab_link": true
    },
    "kernelspec": {
      "display_name": "Python 3 (ipykernel)",
      "language": "python",
      "name": "python3"
    },
    "language_info": {
      "codemirror_mode": {
        "name": "ipython",
        "version": 3
      },
      "file_extension": ".py",
      "mimetype": "text/x-python",
      "name": "python",
      "nbconvert_exporter": "python",
      "pygments_lexer": "ipython3",
      "version": "3.10.4"
    }
  },
  "nbformat": 4,
  "nbformat_minor": 5
}